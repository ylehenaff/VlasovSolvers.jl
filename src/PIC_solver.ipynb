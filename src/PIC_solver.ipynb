{
 "cells": [
  {
   "cell_type": "code",
   "execution_count": null,
   "metadata": {},
   "outputs": [],
   "source": [
    "using LinearAlgebra, QuadGK, Roots, FFTW\n",
    "using VlasovSolvers\n",
    "import VlasovSolvers: samples, Particles, PIC_step!\n",
    "using Plots\n",
    "using ProgressMeter"
   ]
  },
  {
   "cell_type": "code",
   "execution_count": null,
   "metadata": {},
   "outputs": [],
   "source": [
    "function solve_PIC!(nsteps, dt, particles, meshx; plotting=false::Bool)\n",
    "    potential = []\n",
    "    energy_elec_from_phi = []\n",
    "    energy_pic = []\n",
    "    energy_hamil_elec = []\n",
    "    energy_hamil_cine = []\n",
    "    energy_tot = []\n",
    "    L = meshx.stop\n",
    "    np = length(p.x)\n",
    "    progression = ProgressMeter.Progress(nsteps,desc=\"Loop in time: \", showspeed=true)\n",
    "    animation = @animate for istep = 1:nsteps # Loop over time\n",
    "        if plotting\n",
    "            plot(size=(500, 500), ylim=(0, .5),\n",
    "                widen=false, st=:surface, camera=(-30, 30))\n",
    "            histogram2d(copy(p.x), copy(p.v), bins=500, normalize=true,\n",
    "                xlabel=\"position\", ylabel=\"velocity\")\n",
    "            title!(\"Progression: $(round(Int64,100*progression.counter / progression.n))%\")\n",
    "        end\n",
    "\n",
    "        e1, e2, e3 = PIC_step!(p, meshx, dt)\n",
    "        push!(energy_hamil_elec, e1)\n",
    "        push!(energy_pic, e2)\n",
    "        push!(energy_elec_from_phi, e3)\n",
    "        \n",
    "        ProgressMeter.next!(progression)\n",
    "    end when plotting\n",
    "    return energy_hamil_elec, energy_pic, energy_elec_from_phi, animation\n",
    "end"
   ]
  },
  {
   "cell_type": "markdown",
   "metadata": {},
   "source": [
    "# Strong Landau Damping"
   ]
  },
  {
   "cell_type": "code",
   "execution_count": null,
   "metadata": {},
   "outputs": [],
   "source": [
    "nstep = 1000\n",
    "dt = 0.05\n",
    "kx = 0.5\n",
    "L = 2π / kx\n",
    "K = 1 # paramètre de troncature du noyau\n",
    "np = 100_000 # nb de particules\n",
    "nx = 32   # nb de mailles pour le calcul de l energie\n",
    "ϵ = 0.5 # perturbation initiale\n",
    "μ = 0.0\n",
    "β = 1.0"
   ]
  },
  {
   "cell_type": "code",
   "execution_count": null,
   "metadata": {},
   "outputs": [],
   "source": [
    "dev = CPU()\n",
    "mesh1 = OneDGrid(dev, nx, 0, L)\n",
    "\n",
    "@time (x0, y0, wei) = samples(np, kx, ϵ, μ, β)\n",
    "p = Particles(x0, y0, wei, np);"
   ]
  },
  {
   "cell_type": "code",
   "execution_count": null,
   "metadata": {},
   "outputs": [],
   "source": [
    "energy_hamil_elec, energy_pic, energy_elec_from_phi, animation = solve_PIC!(nstep, dt, p, mesh1, plotting=true);"
   ]
  },
  {
   "cell_type": "code",
   "execution_count": null,
   "metadata": {},
   "outputs": [],
   "source": [
    "t = range(0., stop=nstep*dt, length=nstep) |> collect\n",
    "\n",
    "plot(t, log.(sqrt.(energy_pic)), label=\"PIC\", xlabel=\"time\")\n",
    "plot!(t, log.(sqrt.(max.(energy_hamil_elec, 10^-12))), label=\"Hamiltonian\")\n",
    "plot!(t, log.(sqrt.(energy_elec_from_phi)), label=\"Potential\")\n",
    "plot!(x-> -0.286x + 1, label=\"y = -0.286x + 1\", 0, 20)\n",
    "plot!(x->0.086671x - 3.8, label=\"y = 0.086671x - 3.8\")\n",
    "plot!(minorgrid=true, legend=:bottomleft)"
   ]
  },
  {
   "cell_type": "code",
   "execution_count": null,
   "metadata": {},
   "outputs": [],
   "source": [
    "if animation != nothing\n",
    "    gif(animation)\n",
    "end"
   ]
  }
 ],
 "metadata": {
  "kernelspec": {
   "display_name": "Julia 1.7.0",
   "language": "julia",
   "name": "julia-1.7"
  },
  "language_info": {
   "file_extension": ".jl",
   "mimetype": "application/julia",
   "name": "julia",
   "version": "1.7.0"
  }
 },
 "nbformat": 4,
 "nbformat_minor": 2
}
