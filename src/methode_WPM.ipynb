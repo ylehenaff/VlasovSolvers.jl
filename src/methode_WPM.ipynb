{
 "cells": [
  {
   "cell_type": "code",
   "execution_count": null,
   "metadata": {},
   "outputs": [],
   "source": [
    "using Revise\n",
    "\n",
    "using LinearAlgebra, QuadGK, Roots, FFTW, FastGaussQuadrature, SpecialFunctions, StaticArrays\n",
    "using Triangulate\n",
    "using VlasovSolvers\n",
    "import VlasovSolvers: advection!\n",
    "import VlasovSolvers: Particles, WPM_step!, ParticleMover, kernel_poisson!, kernel_gyrokinetic!\n",
    "\n",
    "using ProgressMeter, Printf\n",
    "using Plots, LaTeXStrings\n",
    "\n",
    "include(\"numerical_examples.jl\");"
   ]
  },
  {
   "cell_type": "markdown",
   "metadata": {},
   "source": [
    "# Quadrature rules"
   ]
  },
  {
   "cell_type": "code",
   "execution_count": null,
   "metadata": {},
   "outputs": [],
   "source": [
    "struct RectangleRule\n",
    "    len  :: Int64\n",
    "    start :: Float64\n",
    "    stop  :: Float64\n",
    "    points :: Vector{Float64}\n",
    "    weights :: Vector{Float64}\n",
    "    step :: Float64\n",
    "\n",
    "    function RectangleRule(len, start, stop)\n",
    "        points = LinRange(start, stop, len+1)[1:end-1]\n",
    "        s = step(points) \n",
    "        weights = [s for _ = 1:len]\n",
    "        new(len, start, stop, vec(points), weights, s)\n",
    "    end\n",
    "end"
   ]
  },
  {
   "cell_type": "code",
   "execution_count": null,
   "metadata": {},
   "outputs": [],
   "source": [
    "struct TrapezoidalRule\n",
    "    len  :: Int64\n",
    "    start :: Float64\n",
    "    stop  :: Float64\n",
    "    points :: Vector{Float64}\n",
    "    weights :: Vector{Float64}\n",
    "    step :: Float64\n",
    "\n",
    "    function TrapezoidalRule(len, start, stop)\n",
    "        points = LinRange(start, stop, len)[1:end]\n",
    "        s = step(points) \n",
    "        weights = [s for _ = 1:len]\n",
    "        weights[1] /= 2\n",
    "        weights[end] /= 2\n",
    "        new(len, start, stop, vec(points), weights, s)\n",
    "    end\n",
    "end"
   ]
  },
  {
   "cell_type": "code",
   "execution_count": null,
   "metadata": {},
   "outputs": [],
   "source": [
    "struct SimpsonRule\n",
    "    len  :: Int64\n",
    "    start :: Float64\n",
    "    stop  :: Float64\n",
    "    points :: Vector{Float64}\n",
    "    weights :: Vector{Float64}\n",
    "    step :: Float64\n",
    "\n",
    "    function SimpsonRule(len, start, stop)\n",
    "        # make sure the number of points is uneven\n",
    "        if len % 2 == 0\n",
    "            len += 1\n",
    "        end\n",
    "        points = LinRange(start, stop, len)\n",
    "        s = step(points) \n",
    "        weights = s/3 .* ones(len)\n",
    "        weights[2:2:end-1] .*= 4\n",
    "        weights[3:2:end-2] .*= 2\n",
    "        new(len, start, stop, vec(points), weights, s)\n",
    "    end\n",
    "end"
   ]
  },
  {
   "cell_type": "code",
   "execution_count": null,
   "metadata": {},
   "outputs": [],
   "source": [
    "struct GaussHermiteRule\n",
    "    len  :: Int64\n",
    "    start :: Float64\n",
    "    stop  :: Float64\n",
    "    points :: Array{Float64}\n",
    "    weights :: Array{Float64}\n",
    "\n",
    "    function GaussHermiteRule(len, start, stop)\n",
    "        points, weights = gausshermite(len)\n",
    "        weights .*= exp.(points.^2)\n",
    "        new(len, start, stop, points, weights)\n",
    "    end\n",
    "end"
   ]
  },
  {
   "cell_type": "code",
   "execution_count": null,
   "metadata": {},
   "outputs": [],
   "source": [
    "struct GaussLegendreRule\n",
    "    len  :: Int64\n",
    "    start :: Float64\n",
    "    stop  :: Float64\n",
    "    points :: Array{Float64}\n",
    "    weights :: Array{Float64}\n",
    "\n",
    "    function GaussLegendreRule(len, start, stop)\n",
    "        points, weights = gausslegendre(len)\n",
    "        points .+= 1\n",
    "        points .*= (stop - start) / 2\n",
    "        points .+= start\n",
    "        weights .*= (stop - start) / 2\n",
    "        new(len, start, stop, points, weights)\n",
    "    end\n",
    "end"
   ]
  },
  {
   "cell_type": "code",
   "execution_count": null,
   "metadata": {},
   "outputs": [],
   "source": [
    "struct GaussRadauRule\n",
    "    len  :: Int64\n",
    "    start :: Float64\n",
    "    stop  :: Float64\n",
    "    points :: Array{Float64}\n",
    "    weights :: Array{Float64}\n",
    "\n",
    "    function GaussRadauRule(len, start, stop)\n",
    "        points, weights = gaussradau(len)\n",
    "        points .+= 1\n",
    "        points .*= (stop - start) / 2\n",
    "        points .+= start\n",
    "        weights .*= (stop - start) / 2\n",
    "        new(len, start, stop, points, weights)\n",
    "    end\n",
    "end"
   ]
  },
  {
   "cell_type": "code",
   "execution_count": null,
   "metadata": {},
   "outputs": [],
   "source": [
    "struct GaussLobattoRule\n",
    "    len  :: Int64\n",
    "    start :: Float64\n",
    "    stop  :: Float64\n",
    "    points :: Array{Float64}\n",
    "    weights :: Array{Float64}\n",
    "\n",
    "    function GaussLobattoRule(len, start, stop)\n",
    "        points, weights = gausslobatto(len)\n",
    "        points .+= 1\n",
    "        points .*= (stop - start) / 2\n",
    "        points .+= start\n",
    "        weights .*= (stop - start) / 2\n",
    "        new(len, start, stop, points, weights)\n",
    "    end\n",
    "end"
   ]
  },
  {
   "cell_type": "code",
   "execution_count": null,
   "metadata": {},
   "outputs": [],
   "source": [
    "struct KronrodRule\n",
    "    len  :: Int64\n",
    "    start :: Float64\n",
    "    stop  :: Float64\n",
    "    points :: Vector{Float64}\n",
    "    weights :: Vector{Float64}\n",
    "    step :: Float64\n",
    "\n",
    "    function KronrodRule(len, start, stop)\n",
    "        pts, w, _ = kronrod(len)\n",
    "        weights = []\n",
    "        points = []\n",
    "        for i = 1:len\n",
    "            push!(points, pts[i])\n",
    "            push!(weights, w[i])\n",
    "            push!(points, -pts[i])\n",
    "            push!(weights, w[i])\n",
    "        end\n",
    "        push!(points, pts[end])\n",
    "        push!(weights, w[end])\n",
    "        \n",
    "        points .+= 1\n",
    "        points .*= (stop - start) / 2\n",
    "        points .+= start\n",
    "        weights .*= (stop - start) / 2\n",
    "        len = 2*len + 1\n",
    "        new(len, start, stop, points, weights)\n",
    "end\n",
    "    end"
   ]
  },
  {
   "cell_type": "code",
   "execution_count": null,
   "metadata": {},
   "outputs": [],
   "source": [
    "# Only works for rectangle and trapezoidal rules\n",
    "function projection_onto_grid!(grid_dst, meshx, meshv, X, V_, W)\n",
    "    meshxstep = meshx[2] - meshx[1]\n",
    "    meshvstep = meshv[2] - meshv[1]\n",
    "    grid_dst .= 0\n",
    "\n",
    "\n",
    "    # Periodic Boundary conditions on velocity\n",
    "    V = copy(V_)\n",
    "    V[findall(v -> v >= meshv[end],  V)] .-= meshv[end] - meshv[1]\n",
    "    V[findall(v -> v < meshv[1],  V)] .+= meshv[end] - meshv[1]\n",
    "    \n",
    "    for ipart = 1:length(X)\n",
    "        idxgridx = Int64(fld(X[ipart],            meshxstep)) + 1\n",
    "        idxgridv = Int64(fld(V[ipart] - meshv[1], meshvstep)) + 1\n",
    "        idxgridxp1 = idxgridx<length(meshx) ? idxgridx+1 : 1\n",
    "        idxgridvp1 = idxgridv<length(meshv) ? idxgridv+1 : 1\n",
    "        \n",
    "        tx = (X[ipart]             - (idxgridx-1) * meshxstep) / meshxstep\n",
    "        tv = (V[ipart] - meshv[1]  - (idxgridv-1) * meshvstep) / meshvstep\n",
    "\n",
    "        # println((idxgridv, V[ipart]))\n",
    "        grid_dst[idxgridx  , idxgridv  ] += W[ipart] * (1-tx) * (1-tv)\n",
    "        grid_dst[idxgridx  , idxgridvp1] += W[ipart] * (1-tx) * tv\n",
    "        grid_dst[idxgridxp1, idxgridvp1] += W[ipart] * tx     * tv\n",
    "        grid_dst[idxgridxp1, idxgridv  ] += W[ipart] * tx     * (1 - tv)\n",
    "    end\n",
    "end"
   ]
  },
  {
   "cell_type": "markdown",
   "metadata": {},
   "source": [
    "# BSL"
   ]
  },
  {
   "cell_type": "code",
   "execution_count": null,
   "metadata": {},
   "outputs": [],
   "source": [
    "\"\"\"\n",
    "    hmf_poisson!(fᵗ    :: Array{Complex{Float64},2},\n",
    "                 mesh1 :: OneDGrid,\n",
    "                 mesh2 :: OneDGrid,\n",
    "                 ex    :: Array{Float64})\n",
    "\n",
    "    Compute the electric hamiltonian mean field from the\n",
    "    transposed distribution function\n",
    "\n",
    "\"\"\"\n",
    "function hmf_poisson!(fᵗ::Array{Complex{Float64},2},\n",
    "        mesh1::OneDGrid,\n",
    "        mesh2::OneDGrid,\n",
    "        ex::Array{Float64}; K=1)\n",
    "\n",
    "    n1 = mesh1.len\n",
    "    rho = mesh2.step .* vec(sum(fᵗ, dims=1)) # ≈ ∫ f(t,x_i,v)dv, i=1, ..., n1\n",
    "    kernel = zeros(Float64, n1)\n",
    "    ker = -(mesh1.stop - mesh1.start) / (2π)\n",
    "    for k=1:K\n",
    "        kernel[1+k]   =  ker / k    # fourier mode  1\n",
    "        kernel[end - (k-1)] = -ker / k    # fourier mode -1\n",
    "    end\n",
    "    ex .= real(ifft(fft(rho) .* 1im .* kernel))\n",
    "end\n",
    "\n",
    "function solve_BSL!(nsteps, dt, f, mesh1, mesh2, kx; plotting=false::Bool)\n",
    "    n1, n2 = size(f)\n",
    "    fᵗ = zeros(Complex{Float64}, (n2,n1))\n",
    "    transpose!(fᵗ, f)\n",
    "\n",
    "    results = (Eelec² = Array{Float64}(undef, nsteps),\n",
    "                Etot² = Array{Float64}(undef, nsteps),\n",
    "                momentum = Array{Float64}(undef, nsteps),\n",
    "                L²norm² = Array{Float64}(undef, nsteps))\n",
    "\n",
    "\n",
    "    ex = zeros(Float64, n1)\n",
    "    hmf_poisson!(fᵗ, mesh1, mesh2, ex)\n",
    "    advection!(fᵗ, mesh2, ex, 0.5dt)\n",
    "\n",
    "    progression = ProgressMeter.Progress(nsteps,desc=\"Loop in time: \", showspeed=true)\n",
    "    \n",
    "    animation = @animate for istep = 1:nsteps\n",
    "        results.Eelec²[istep] = sum(ex.^2) * mesh1.step\n",
    "        results.Etot²[istep] = (results.Eelec²[istep] + sum(mesh2.points'.^2 .* real(f)) * mesh1.step * mesh2.step) / 2\n",
    "        results.momentum[istep] = sum(sum(real(f), dims=1) .* mesh2.points') * mesh1.step * mesh2.step\n",
    "        results.L²norm²[istep] = sum(real(f).^2) * mesh1.step * mesh2.step\n",
    "    \n",
    "        advection!(f, mesh1, mesh2.points, dt)\n",
    "        transpose!(fᵗ, f)\n",
    "        hmf_poisson!(fᵗ, mesh1, mesh2, ex)\n",
    "        advection!(fᵗ, mesh2, ex, dt)\n",
    "        transpose!(f, fᵗ) \n",
    "        \n",
    "        if plotting\n",
    "            plot(mesh1.points, mesh2.points, real(f)', size=(500, 500), st=:surface, camera=(0, 90))\n",
    "            title!(\"Progression: $(round(Int64,100*progression.counter / progression.n))%\")\n",
    "        end\n",
    "        \n",
    "        ProgressMeter.next!(progression)\n",
    "    end when plotting\n",
    "    if !plotting\n",
    "        animation = nothing\n",
    "    end\n",
    "        \n",
    "    return results, animation\n",
    "end"
   ]
  },
  {
   "cell_type": "markdown",
   "metadata": {},
   "source": [
    "# WPM"
   ]
  },
  {
   "cell_type": "code",
   "execution_count": null,
   "metadata": {},
   "outputs": [],
   "source": [
    "function solve_WPM!(nsteps, dt, particles, meshx, example, weights; \n",
    "                    plotting=false::Bool, kernel=kernel_poisson!, T=NaN, K=1)\n",
    "    init_pos = copy(particles.x)\n",
    "    init_vel = copy(particles.v)\n",
    "\n",
    "    np = particles.nbpart\n",
    "\n",
    "    results = (Eelec² = Array{Float64}(undef, nsteps),\n",
    "                Etot² = Array{Float64}(undef, nsteps),\n",
    "                momentum = Array{Float64, 2}(undef, length(particles.v[:, 1]), nsteps),\n",
    "                L²norm² = Array{Float64}(undef, nsteps),\n",
    "                C = Array{Float64}(undef, nsteps),\n",
    "                S = Array{Float64}(undef, nsteps))\n",
    "\n",
    "    pmover = ParticleMover{particles.type, particles.dim}(particles, meshx, K, dt; example.kx)\n",
    "\n",
    "    if plotting\n",
    "        widthx = -(-)(extrema(quadrulex.points)...)\n",
    "        widthv = -(-)(extrema(quadrulev.points)...)\n",
    "        scale = 0.9\n",
    "    end\n",
    "    \n",
    "    progression = ProgressMeter.Progress(nsteps, desc=\"Loop in time: \", showspeed=true)\n",
    "    animation = @animate for istep = 1:nsteps\n",
    "        WPM_step!(particles, pmover; kernel=kernel)\n",
    "        results.momentum[:, istep] = pmover.momentum \n",
    "        (results.Eelec²[istep], results.Etot²[istep]) = pmover.Eelec²tot²\n",
    "        \n",
    "        # results.C[istep] = copy(pmover.C[1])\n",
    "        # results.S[istep] = copy(pmover.S[1])\n",
    "\n",
    "        # L² norm:\n",
    "        results.L²norm²[istep] = 0.0\n",
    "        for i = 1:particles.nbpart\n",
    "            results.L²norm²[istep] += particles.β[i]^2 / vec(weights)[i]\n",
    "        end\n",
    "        \n",
    "        if istep % T == 0\n",
    "            particles.wei .= triangulation_interpolation(particles.wei ./ vec(weights), particles.x, particles.v, \n",
    "                                                            init_pos, init_vel, example)[1]\n",
    "            particles.wei .*= vec(weights)\n",
    "            particles.x .= init_pos\n",
    "            particles.v .= init_vel\n",
    "        end\n",
    "        \n",
    "        if plotting\n",
    "            plot(particles.x, particles.v, seriestype=:scatter, zcolor=vec(particles.β), \n",
    "                markersize=sqrt(0.1) * scale, zticks=[], camera=(0, 90), \n",
    "                markerstrokecolor=\"white\", markerstrokewidth=0, label=\"\", c=:jet1,\n",
    "                aspect_ratio=:equal, size=(600, 600), \n",
    "                title=\"t = $(@sprintf(\"%.3f\",istep*dt))\\nProgression: $(round(Int64,100*progression.counter / progression.n))%\", titlefontsize=8, margin=5Plots.mm)\n",
    "        end\n",
    "\n",
    "        ProgressMeter.next!(progression)\n",
    "    end when plotting\n",
    "    if !plotting\n",
    "        animation = nothing\n",
    "    end\n",
    "    \n",
    "    return results, animation\n",
    "end"
   ]
  },
  {
   "cell_type": "markdown",
   "metadata": {},
   "source": [
    "# Triangulation"
   ]
  },
  {
   "cell_type": "code",
   "execution_count": null,
   "metadata": {},
   "outputs": [],
   "source": [
    "function triangulation_interpolation(_valsf, _pos, _vel, gridxoutput, gridvoutput, example; \n",
    "                                        returntriangulation=false)\n",
    "    \"\"\"\n",
    "    Perform a linear interpolation of the data to the grid by using a Delaunay triangulation.\n",
    "\n",
    "    Steps:\n",
    "    1. Create the Delaunay triangulation\n",
    "    2. For each point (x,v) in (gridxoutput, gridvoutput)\n",
    "        a. Get the triangle T in which (x,v) lies, by iterating over all the triangles and testing each one of them\n",
    "        b. From the vertices of T get a linear interpolation of the function at x, using barycentric coordinates\n",
    "    \"\"\"\n",
    "    \n",
    "    myoutput = similar(gridxoutput)\n",
    "\n",
    "    pointset = Triangulate.TriangulateIO()\n",
    "\n",
    "    # Copy some rightmost particles to the left, and some leftmost particles to the right. \n",
    "    # This allows to interpolate values from a periodic triangulation.\n",
    "    κ = 1/20\n",
    "    rightmost_particles = findall(>((1 - κ) * example.L), _pos)\n",
    "    leftmost_particles = findall(<(κ * example.L), _pos)\n",
    "    \n",
    "    pos = append!(_pos[rightmost_particles] .- example.L, _pos  , _pos[leftmost_particles] .+ example. L)\n",
    "    vel = append!(_vel[rightmost_particles]             , _vel  , _vel[leftmost_particles])\n",
    "    valsf = append!(_valsf[rightmost_particles]         , _valsf, _valsf[leftmost_particles])\n",
    "    \n",
    "    @views pointset.pointlist = vcat(pos', vel')\n",
    "    pointset.pointattributelist = valsf'\n",
    "    (triangulation, _) = Triangulate.triangulate(\"Q\", pointset);\n",
    "\n",
    "    # Interpolate using the triangulation\n",
    "    @views @inbounds for part=eachindex(gridxoutput)\n",
    "        myoutput[part] = triangleContainingPoint(triangulation, gridxoutput[part], gridvoutput[part])[1]\n",
    "        (myoutput[part] < 0) && (myoutput[part] = 0) \n",
    "        # Usually happens in corners or at the top, so we can reasonably suppose the value if small enough to be \n",
    "        # approximated by zero.\n",
    "    end\n",
    "\n",
    "    returntriangulation ? nothing : triangulation=nothing\n",
    "    return vec(myoutput), triangulation\n",
    "end\n",
    "\n",
    "\n",
    "function triangleContainingPoint(triangulation, x, v)\n",
    "    @views @inbounds for (idxA, idxB, idxC) = eachcol(triangulation.trianglelist)\n",
    "        \n",
    "        A = triangulation.pointlist[:, idxA]\n",
    "        B = triangulation.pointlist[:, idxB]\n",
    "        C = triangulation.pointlist[:, idxC]\n",
    "        \n",
    "        # if x is outside of the rectangle defined by [minX(A, B, C), maxX(A, B, C)],\n",
    "        # or v is outside of the rectangle defined by [minV(A, B, C), maxV(A, B, C)],\n",
    "        # then we don't have to do the computations\n",
    "        if      ((x < A[1]) && (x < B[1]) && (x < C[1])) || ((x > A[1]) && (x > B[1]) && (x > C[1]))\n",
    "            continue\n",
    "        elseif  ((v < A[2]) && (v < B[2]) && (v < C[2])) || ((v > A[2]) && (v > B[2]) && (v > C[2]))\n",
    "            continue\n",
    "        end\n",
    "        \n",
    "        # Use barycentric coordinates:\n",
    "        det = (A[1] - C[1])*(B[2] - C[2]) - (A[2] - C[2])*(B[1] - C[1])\n",
    "        λ₁ = (x - C[1])*(B[2] - C[2]) + (v - C[2])*(C[1] - B[1])\n",
    "        λ₂ = (x - C[1])*(C[2] - A[2]) + (v - C[2])*(A[1] - C[1])\n",
    "        λ₁ /= det \n",
    "        λ₂ /= det\n",
    "        \n",
    "        if (λ₁≥0)&&(λ₂≥0)&&(λ₁+λ₂≤1)\n",
    "            wA = triangulation.pointattributelist[1, idxA]\n",
    "            wB = triangulation.pointattributelist[1, idxB]\n",
    "            wC = triangulation.pointattributelist[1, idxC]\n",
    "            return wA * λ₁ + wB * λ₂ + (1 - λ₁ - λ₂) * wC, (idxA, idxB, idxC)\n",
    "        end\n",
    "    end\n",
    "\n",
    "    return -1., (-1, -1, -1)\n",
    "end"
   ]
  },
  {
   "cell_type": "markdown",
   "metadata": {},
   "source": [
    "# Inputs"
   ]
  },
  {
   "cell_type": "code",
   "execution_count": null,
   "metadata": {},
   "outputs": [],
   "source": [
    "dev = CPU()\n",
    "\n",
    "# example = example_landaudamping_1D\n",
    "# example = example_stronglandaudamping_1D\n",
    "example = example_twostreaminstability_1D\n",
    "# example = example_twostreaminstabilityalternativeformulation_1D\n",
    "# example = example_bumpontail_1D\n",
    "# example = example_stationarygaussian_1D\n",
    "# example = example_nonhomogeneousstationarysolution_1D\n",
    "# example = example_test_1D\n",
    "\n",
    "T = 100\n",
    "dt = 0.1\n",
    "nstep = convert(Int64, floor(T/dt))\n",
    "\n",
    "nxbsl = 128\n",
    "nvbsl = 127\n",
    "# \n",
    "mytype = Float64\n",
    "meshx = OneDGrid{mytype}(dev, nxbsl, convert(mytype, 0.), convert(mytype, example.L));\n",
    "meshv = OneDGrid{mytype}(dev, nvbsl, convert(mytype, example.vmin), convert(mytype, example.vmax));\n",
    "\n",
    "quadX = RectangleRule\n",
    "quadV = RectangleRule\n",
    "nxwpm = 128\n",
    "nvwpm = 127\n",
    "quadrulex = quadX(nxwpm, 0, example.L);\n",
    "quadrulev = quadV(nvwpm, example.vmin, example.vmax);"
   ]
  },
  {
   "cell_type": "code",
   "execution_count": null,
   "metadata": {},
   "outputs": [],
   "source": [
    "bsl = zeros(Complex{Float64}, (nxbsl, nvbsl));\n",
    "@. bsl = example.f0.(meshx.points, meshv.points');\n",
    "@time resBSL, animBSL = solve_BSL!(nstep, dt, bsl, meshx, meshv, example.kx; plotting=false);"
   ]
  },
  {
   "cell_type": "code",
   "execution_count": null,
   "metadata": {},
   "outputs": [],
   "source": [
    "if animBSL != nothing\n",
    "    gif(animBSL, \"gif/tmp.mp4\");\n",
    "end"
   ]
  },
  {
   "cell_type": "markdown",
   "metadata": {},
   "source": [
    "# Weighted-Particle method"
   ]
  },
  {
   "cell_type": "code",
   "execution_count": null,
   "metadata": {},
   "outputs": [],
   "source": [
    "T = NaN\n",
    "dim = example.dim\n",
    "\n",
    "nbparticles = nxwpm*nvwpm\n",
    "x0_init = Array{mytype, 2}(undef, dim, nbparticles)\n",
    "v0_init = Array{mytype, 2}(undef, dim, nbparticles)\n",
    "wei = Array{mytype, 1}(undef, nbparticles)\n",
    "weights = quadrulex.weights .* quadrulev.weights'\n",
    "cur_part = 1\n",
    "for (idx, xx) = enumerate(quadrulex.points), (idv, vv) = enumerate(quadrulev.points)\n",
    "    x0_init[:, cur_part] .= xx\n",
    "    v0_init[:, cur_part] .= vv\n",
    "    wei[cur_part] = example.f0(xx, vv) * quadrulex.weights[idx] * quadrulev.weights[idv]\n",
    "    cur_part += 1\n",
    "end\n",
    "x0 = copy(x0_init)\n",
    "v0 = copy(v0_init)\n",
    "\n",
    "particles = Particles{mytype}(x0, v0, wei);\n",
    "@time resWPM, animWPM = solve_WPM!(nstep, dt, particles, meshx, example, vec(weights) ; \n",
    "                                    plotting=false, kernel=kernel_poisson!, T=T, K=1);"
   ]
  },
  {
   "cell_type": "code",
   "execution_count": null,
   "metadata": {},
   "outputs": [],
   "source": [
    "if animWPM != nothing\n",
    "    # gif(animWPM, \"gif/nonstationary_remapping_T$(@sprintf(\"%03d\", T)).mp4\");\n",
    "    gif(animWPM, \"gif/tmp.mp4\");\n",
    "end"
   ]
  },
  {
   "cell_type": "markdown",
   "metadata": {},
   "source": [
    "## Plot particles"
   ]
  },
  {
   "cell_type": "code",
   "execution_count": null,
   "metadata": {},
   "outputs": [],
   "source": [
    "plot(particles.x, particles.v, seriestype=:scatter, markersize=sqrt(600*600 / (nxbsl*nvbsl) / π) * 0.5, camera=(0, 90), markerstrokecolor=\"white\", markerstrokewidth=0, label=\"\", zcolor=particles.wei, c=:jet1, size=(600, 600), right_margin=5Plots.mm)"
   ]
  },
  {
   "cell_type": "markdown",
   "metadata": {},
   "source": [
    "## Triangulation interpolation"
   ]
  },
  {
   "cell_type": "code",
   "execution_count": null,
   "metadata": {},
   "outputs": [],
   "source": [
    "function plot_triangulation(tri; p=nothing, scaled=false)\n",
    "    if p==nothing \n",
    "        p = plot()\n",
    "    end\n",
    "\n",
    "    @views begin\n",
    "        x1 = tri.pointlist[1, tri.trianglelist'[:, 1]]'\n",
    "        x2 = tri.pointlist[1, tri.trianglelist'[:, 2]]'\n",
    "        x3 = tri.pointlist[1, tri.trianglelist'[:, 3]]'\n",
    "        posX = vec(vcat(x1, x2, x3, x1, NaN*similar(x1)))\n",
    "        v1 = tri.pointlist[2, tri.trianglelist'[:, 1]]'\n",
    "        v2 = tri.pointlist[2, tri.trianglelist'[:, 2]]'\n",
    "        v3 = tri.pointlist[2, tri.trianglelist'[:, 3]]'\n",
    "        posV = vec(vcat(v1, v2, v3, v1, NaN*similar(v1)))\n",
    "    end\n",
    "    if scaled \n",
    "        posX .-= 1; posX .*= example.L\n",
    "        posV .-= 1; posV .*= example.vmax - example.vmin; posV .+= example.vmin;\n",
    "    end\n",
    "    plot!(p, posX, posV, c=:rainbow, label=\"Delaunay Triangulation\", linewidth=0.1)\n",
    "    return p\n",
    "end"
   ]
  },
  {
   "cell_type": "code",
   "execution_count": null,
   "metadata": {},
   "outputs": [],
   "source": [
    "(newf, triangulation) = triangulation_interpolation(particles.wei ./ vec(weights), particles.x, particles.v, x0_init, v0_init, example; returntriangulation=true)\n",
    "newf .*= vec(weights);"
   ]
  },
  {
   "cell_type": "code",
   "execution_count": null,
   "metadata": {},
   "outputs": [],
   "source": [
    "p1 = plot(particles.x, particles.v, seriestype=:scatter, \n",
    "        markersize=sqrt(600*600 / (nxwpm*nvwpm) / π) * 0.4, camera=(0, 90), \n",
    "        markerstrokecolor=\"white\", markerstrokewidth=0, label=\"Particules\", zcolor=newf,\n",
    "        title=example.shortname * \"\\n($(quadX)($(nxwpm)), $(quadV)($(nvwpm)))\", titlefontsize=8, c=:jet1)\n",
    "\n",
    "plot_triangulation(triangulation; p=p1)\n",
    "# p2 = plot(x0_init, v0_init, newf, st=:surface, camera=(0, 90), title=\"Interpolated\", titlefontsize=8, c=:jet1)\n",
    "# p2 = plot(quadrulex.points, quadrulev.points, reshape(newf, nx, nv)', st=:contour, title=\"Interpolated\", titlefontsize=8, c=:jet1, levels=25)\n",
    "# plot(p1, p2, size=(1200, 600))\n",
    "plot(p1)\n",
    "# plot(p2)"
   ]
  },
  {
   "cell_type": "markdown",
   "metadata": {},
   "source": [
    "### Successive interpolations"
   ]
  },
  {
   "cell_type": "code",
   "execution_count": null,
   "metadata": {},
   "outputs": [],
   "source": [
    "newf = copy(particles.wei) ./ vec(weights)\n",
    "newx = copy(particles.x)\n",
    "newv = copy(particles.v)\n",
    "\n",
    "myplots = []\n",
    "\n",
    "push!(myplots, plot(particles.x, particles.v, seriestype=:scatter, markersize=1, camera=(0, 90), markerstrokecolor=\"white\", markerstrokewidth=0, label=\"\", zcolor=particles.wei, c=:jet1, zticks=[], colorbar=false, titlefontsize=8))\n",
    "title!(example.shortname * \"\\n($quadX($nxwpm), $quadV($nvwpm)),\\nafter time $(nstep*dt)\", titlefontsize=8)\n",
    "\n",
    "tokeep = [1, 2, 5, 10, 20]\n",
    "@showprogress for i = 1:maximum(tokeep)\n",
    "    (newf, triangulation) = triangulation_interpolation(newf, newx, newv, x0_init, v0_init, example; returntriangulation=true)\n",
    "    (i ∈ tokeep) && (push!(myplots, plot(x0_init, v0_init, newf .* vec(weights), st=:surface, camera=(0, 90), title=\"Interpolated $i times\", titlefontsize=8, c=:jet1, zcolor=particles.wei, colorbar=false, zticks=[],\n",
    "    margin=10Plots.mm)))\n",
    "    # we now know `newf` at x0_init, v0_init so we update newx, newv\n",
    "    newx = copy(x0_init) .+ rand() * (quadrulex.points[2] - quadrulex.points[1]) * 0.5\n",
    "    newv = copy(v0_init) .+ rand() * (quadrulev.points[2] - quadrulev.points[1]) * 0.5\n",
    "end"
   ]
  },
  {
   "cell_type": "code",
   "execution_count": null,
   "metadata": {},
   "outputs": [],
   "source": [
    "cbar = scatter([0,0], [0,1], zcolor=particles.wei,\n",
    "                xlims=(1,1.1), xshowaxis=false, xticks=[],\n",
    "                yshowaxis=false, yticks=[],\n",
    "                label=\"\", c=:jet1, grid=false, \n",
    "                left_margin=25Plots.mm, right_margin=3Plots.mm)\n",
    "\n",
    "l = @layout [\n",
    "    [grid(2,3)] a{0.01w}\n",
    "]\n",
    "plot(myplots..., cbar, layout=l, size=(1000, 600))"
   ]
  },
  {
   "cell_type": "code",
   "execution_count": null,
   "metadata": {},
   "outputs": [],
   "source": [
    "# savefig(imgdir * \"$(example.shortname)_successive_interpolations_afterfixing_periodic.png\")"
   ]
  },
  {
   "cell_type": "markdown",
   "metadata": {},
   "source": [
    "# Plots"
   ]
  },
  {
   "cell_type": "code",
   "execution_count": null,
   "metadata": {},
   "outputs": [],
   "source": [
    "t = (1:nstep) .* dt\n",
    "ε = 1e-18\n",
    "\n",
    "plot(legend=:outertop, minorgrid=true, size=(600, 400))\n",
    "\n",
    "# energies\n",
    "# plot!(t .+ dt,   resWPM.Eelec, label=L\"\\log_{10}(E_{elec, WPM}),\\quad dt=\"*\"$(dt)\")\n",
    "# plot!(t .- dt/2, resBSL.Eelec, label=L\"\\log_{10}(E_{elec, BSL}),\\quad dt=\"*\"$(dt)\", ls=:dash, lw=1)\n",
    "\n",
    "# log(Energies)\n",
    "plot!(t .+ dt,   max.(ε, sqrt.(resWPM.Eelec²)), label=L\"E_{elec, WPM}\\quad dt=\"*\"$(dt)\", yaxis=:log)\n",
    "plot!(t .- dt/2, max.(ε, sqrt.(resBSL.Eelec²)), label=L\"E_{elec, BSL}\\quad dt=\"*\"$(dt)\", ls=:dash, lw=1, yaxis=:log)\n",
    "# plot!(t, log.(E_tot),       label=L\"\\log(E_{tot}),\\quad dt=\"*\"$(dt)\")\n",
    "# plot!(t, log.(E_elecpic), label=L\"$\\log(E_{elec, PIC}),\\quad$ dt=\"*\"$(dt), \"* L\"$n_p$ =\"*\"$(nbparticlespic)\", ls=:dot)\n",
    "# plot!(t, log.(energy_from_projection), label=L\"\\log(E_{pic, PIC}),\\quad dt=\"*\"$(dt)\")\n",
    "# plot!(t, log.(energy_elec_from_phi), label=L\"\\log(E_{from\\,\\Phi, PIC}),\\quad dt=\"*\"$(dt)\")\n",
    "\n",
    "\n",
    "# ============== #\n",
    "\n",
    "# Landau damping (kx=0.5):\n",
    "# plot!(x->exp(-0.1533x - 5.6), label=\"Damping attendu (-0.1533)\")\n",
    "# E_th = abs.(4ϵ * 0.3677 .* exp.(−0.1533 .* t) .* cos.(1.4156.*t .−0.5326245)) * sqrt(L/2)\n",
    "# plot!(t, log.(E_th),label=\"Energie theorique\")\n",
    "# Landau damping (kx=0.4):\n",
    "# plot!(x->-0.0661x - 5.3, label=\"Damping attendu (-0.0661)\")\n",
    "# E_th = 0.002.*0.42466.*abs.(cos.(1.285.*t .-0.33577)).*exp.(-0.0661.*t) # expression du bouquin, pas correcte\n",
    "# E_th = abs.(4*example.α*0.3677*exp.(-0.1533 .* t) .* cos.(1.4156 .* t .- 0.536245) * sqrt(example.L/2)) # issue des calculs du bouquin en calculant correctement √(∫sin(0.5x)^2dx)\n",
    "# plot!(t, E_th,label=\"Energie theorique\", ls=:dashdotdot)\n",
    "\n",
    "# TSI (k,v0) = (0.2, 1.3):\n",
    "# plot!(t, -0.001t .- 4.2, label=L\"y=0.001t - 5.0\")\n",
    "# TSI (k,v0) = (0.2, 2.4):\n",
    "# plot!(t, 0.2258t .- 6.4, label=L\"y=0.2258t - 8.4\")\n",
    "# TSI (k,v0) = (0.2, 3):\n",
    "# plot!(t, 0.2845t .- 6.2, label=L\"y=0.2845t - 8.2\")\n",
    "\n",
    "# Strong Landau damping\n",
    "# plot!(t, -0.285473t .+ 1, label=L\"y=-0.285473t + 1\")\n",
    "# plot!(t, 0.086671t .- 3.7, label=L\"y=0.086671t - 3.7\")\n",
    "\n",
    "title!(example.longname * \"\\n($(quadX)($(nxwpm)), $(quadV)($(nvwpm))), vmax = $(example.vmax)\", titlefontsize=8)\n",
    "xlabel!(\"t (T=$(T))\")\n",
    "# xlabel!(\"time\")"
   ]
  },
  {
   "cell_type": "code",
   "execution_count": null,
   "metadata": {},
   "outputs": [],
   "source": [
    "savefig(imgdir*\"/tmp.png\")"
   ]
  },
  {
   "cell_type": "markdown",
   "metadata": {},
   "source": [
    "# Plot annotations"
   ]
  },
  {
   "cell_type": "code",
   "execution_count": null,
   "metadata": {},
   "outputs": [],
   "source": [
    "period = 2π / 1.4156\n",
    "vline!(vcat([4 + i*period for i=0:4], [49.5 + i*period for i=0:3]), label=\"\")\n",
    "# vline!([28.1 + i*p for i=-4:0], label=\"\")"
   ]
  },
  {
   "cell_type": "code",
   "execution_count": null,
   "metadata": {},
   "outputs": [],
   "source": [
    "plot!([49.5, 49.5+period], [-10, -10], arrow=arrow(:closed, :both), label=\"\")\n",
    "annotate!((51.5, -10.3, text(L\"\\frac{2\\pi}{1.4156}\", :top, 10)))"
   ]
  },
  {
   "cell_type": "markdown",
   "metadata": {},
   "source": [
    "# Quantités conservatives"
   ]
  },
  {
   "cell_type": "markdown",
   "metadata": {},
   "source": [
    "## Variation d'énergie totale"
   ]
  },
  {
   "cell_type": "code",
   "execution_count": null,
   "metadata": {},
   "outputs": [],
   "source": [
    "p11 = plot(t, resWPM.Etot², label=\"\", minorgrid=true, xlabel=\"t\")\n",
    "hline!(p11, [example.Etot²exact], label=\"Exact\")\n",
    "title!(p11, \"E_tot^2 (WPM)\")\n",
    "p12 = plot(t, max.(ε, abs.(resWPM.Etot² .- example.Etot²exact)), label=\"\", minorgrid=true, xlabel=\"t\", yaxis=:log)\n",
    "title!(p12, \"WPM - exact\")\n",
    "p21 = plot(t, resBSL.Etot², label=\"\", minorgrid=true, xlabel=\"t\")\n",
    "hline!(p21, [example.Etot²exact], label=\"Exact\")\n",
    "title!(p21, \"E_tot^2 (BSL)\")\n",
    "p22 = plot(t, max.(ε, abs.(resBSL.Etot² .- example.Etot²exact)), label=\"\", minorgrid=true, yaxis=:log, xlabel=\"t\")\n",
    "title!(p22, \"BSL - exact\")\n",
    "plt=plot(p11, p12, p21, p22, size=(800, 600), layout=(2, 2))"
   ]
  },
  {
   "cell_type": "markdown",
   "metadata": {},
   "source": [
    "## Variations du moment"
   ]
  },
  {
   "cell_type": "code",
   "execution_count": null,
   "metadata": {},
   "outputs": [],
   "source": [
    "p11 = plot(t, resWPM.momentum[1, :], label=\"\", minorgrid=true, xlabel=\"t\")\n",
    "hline!(p11, [example.momentumexact], label=\"Exact\")\n",
    "title!(p11, \"Momentum (WPM)\")\n",
    "p12 = plot(t, max.(ε, abs.(resWPM.momentum[1, :] .- example.momentumexact)), label=\"\", minorgrid=true, xlabel=\"t\", yaxis=:log)\n",
    "title!(p12, \"WPM - exact\")\n",
    "p21 = plot(t, resBSL.momentum, label=\"\", minorgrid=true, xlabel=\"t\")\n",
    "hline!(p21, [example.momentumexact], label=\"Exact\")\n",
    "title!(p21, \"Momentum (BSL)\")\n",
    "p22 = plot(t, max.(ε, abs.(resBSL.momentum .- example.momentumexact)), label=\"\", minorgrid=true, yaxis=:log, xlabel=\"t\")\n",
    "title!(p22, \"SL - exact\")\n",
    "plt=plot(p11, p12, p21, p22, size=(800, 600), layout=(2, 2))"
   ]
  },
  {
   "cell_type": "markdown",
   "metadata": {},
   "source": [
    "## Variations norme $L^2$"
   ]
  },
  {
   "cell_type": "code",
   "execution_count": null,
   "metadata": {},
   "outputs": [],
   "source": [
    "p11 = plot(t, resWPM.L²norm², label=\"\", minorgrid=true, xlabel=\"t\")\n",
    "hline!(p11, [example.L²norm²exact], label=\"Exact\")\n",
    "title!(p11, \"(Norme L^2)^2 (WPM)\")\n",
    "p12 = plot(t, max.(ε, abs.(resWPM.L²norm² .- example.L²norm²exact)), label=\"\", minorgrid=true, xlabel=\"t\", yaxis=:log)\n",
    "title!(p12, \"WPM - exact\")\n",
    "p21 = plot(t, resBSL.L²norm², label=\"\", minorgrid=true, xlabel=\"t\")\n",
    "hline!(p21, [example.L²norm²exact], label=\"Exact\")\n",
    "title!(p21, \"(Norme L^2)^2 (BSL)\")\n",
    "p22 = plot(t, max.(ε, abs.(resBSL.L²norm² .- example.L²norm²exact)), label=\"\", minorgrid=true, yaxis=:log, xlabel=\"t\")\n",
    "title!(p22, \"BSL - exact\")\n",
    "plt=plot(p11, p12, p21, p22, size=(800, 600), layout=(2, 2))"
   ]
  },
  {
   "cell_type": "markdown",
   "metadata": {},
   "source": [
    "## Visualisation des points de quadrature"
   ]
  },
  {
   "cell_type": "code",
   "execution_count": null,
   "metadata": {},
   "outputs": [],
   "source": [
    "visualization_quadrulex = RectangleRule(32, 0, example.L)\n",
    "visualization_quadrulev = GaussHermiteRule(64, example.vmin, example.vmax)\n",
    "\n",
    "gridx_init = copy(vec(repeat(visualization_quadrulex.points, 1, visualization_quadrulev.len)))\n",
    "gridv_init = copy(vec(repeat(visualization_quadrulev.points', visualization_quadrulex.len, 1)))\n",
    "plot(gridx_init, gridv_init, seriestype=:scatter, markersize=sqrt(600*600 / (nxwpm*nvwpm) / π) * 0.5, camera=(0, 90), markerstrokecolor=nothing, markerstrokewidth=0, label=\"\", zcolor=vec(example.f0.(gridx_init, gridv_init')), c=:rainbow)"
   ]
  },
  {
   "cell_type": "markdown",
   "metadata": {},
   "source": [
    "# Other quantities of interest"
   ]
  },
  {
   "cell_type": "markdown",
   "metadata": {},
   "source": [
    "## $\\int f dv$, $\\int fdx$"
   ]
  },
  {
   "cell_type": "code",
   "execution_count": null,
   "metadata": {},
   "outputs": [],
   "source": [
    "function ∫f(pos, w, mesh)\n",
    "    toplot = Float64[]\n",
    "    for p=mesh.points\n",
    "        push!(toplot, sum(w[findall((pos .>= p) .&& (pos .< (p + mesh.step)))]))\n",
    "    end\n",
    "    return toplot\n",
    "end"
   ]
  },
  {
   "cell_type": "code",
   "execution_count": null,
   "metadata": {},
   "outputs": [],
   "source": [
    "instant = nstep\n",
    "\n",
    "valstoplot = ∫f(particles.x, particles.wei ./ meshx.step, meshx) # ∫fdv\n",
    "p1 = plot(meshx.points .+ meshx.step/2, valstoplot,\n",
    "            label=\"WPM ($(nxwpm)×$(nvwpm))\", minorgrid=true)\n",
    "plot!(p1, meshx.points, vec(sum(real(bsl), dims=2)) .* meshv.step, \n",
    "        label=\"BSL ($(nxbsl)×$(nvbsl))\", ls=:dash)\n",
    "title!(p1, \"$(example.shortname), ∫f(t^$(instant),x,v)dv\")\n",
    "xlabel!(p1, \"x\")\n",
    "\n",
    "\n",
    "valstoplot = ∫f(particles.v, particles.wei ./ meshv.step, meshv) # ∫fdx\n",
    "p2 = plot(meshv.points .+ meshv.step/2, valstoplot,\n",
    "            label=\"WPM ($(nxwpm)×$(nvwpm))\", minorgrid=true)\n",
    "plot!(p2, meshv.points, vec(sum(real(bsl), dims=1)) .* meshx.step,\n",
    "        label=\"BSL ($(nxbsl)×$(nvbsl))\", ls=:dash)\n",
    "title!(p2, \"$(example.shortname), ∫f(t^$(instant),x,v)dx\")\n",
    "xlabel!(p2, \"v\")\n",
    "\n",
    "\n",
    "p12 = plot(p1, p2, size=(1000, 500), margin=10Plots.mm)\n",
    "display(p12)\n",
    "\n",
    "# imgdir = \"../../../latex/imgs/png/integrals_f_dx_or_dv/\" # Folder in which to store images \n",
    "# savefig(imgdir*\"$(example.shortname)_t$(nstep)_$(nxwpm)_$(nvwpm).png\")\n",
    "\n",
    "(newf, _) = triangulation_interpolation(particles.wei ./ vec(weights), particles.x, particles.v, x0_init, v0_init, example; returntriangulation=false)\n",
    "newf .*= vec(weights);\n",
    "\n",
    "valstoplot = ∫f(x0_init .+ 100eps(), newf ./ meshx.step, meshx) # ∫fdv\n",
    "p1 = plot(meshx.points, valstoplot,\n",
    "            label=\"WPM ($(nxwpm)×$(nvwpm))\", minorgrid=true)\n",
    "plot!(p1, meshx.points, vec(sum(real(bsl), dims=2)) .* meshv.step, \n",
    "        label=\"BSL ($(nxbsl)×$(nvbsl))\", ls=:dash)\n",
    "title!(p1, \"$(example.shortname), ∫f(t^$(instant),x,v)dv\")\n",
    "xlabel!(p1, \"x\")\n",
    "\n",
    "valstoplot = ∫f(v0_init .+ 100eps(), newf ./ meshv.step, meshv) # ∫fdx\n",
    "p2 = plot(meshv.points, valstoplot,\n",
    "            label=\"WPM ($(nxwpm)×$(nvwpm))\", minorgrid=true)\n",
    "plot!(p2, meshv.points, vec(sum(real(bsl), dims=1)) .* meshx.step,\n",
    "        label=\"BSL ($(nxbsl)×$(nvbsl))\", ls=:dash)\n",
    "title!(p2, \"$(example.shortname), ∫f(t^$(instant),x,v)dx\")\n",
    "xlabel!(p2, \"v\")\n",
    "\n",
    "p12 = plot(p1, p2, size=(1000, 500), margin=10Plots.mm)"
   ]
  },
  {
   "cell_type": "markdown",
   "metadata": {},
   "source": [
    "## Coupe à $x$ fixé"
   ]
  },
  {
   "cell_type": "code",
   "execution_count": null,
   "metadata": {},
   "outputs": [],
   "source": [
    "function coupe_x_fixe(posofslice, x, v, w; width=0.1)\n",
    "    proj_to_slice = []\n",
    "    for part = 1:nbparticles \n",
    "        ((x[part] < posofslice - width/2) || (x[part] > posofslice + width/2)) && continue\n",
    "        push!(proj_to_slice, part)\n",
    "    end\n",
    "    permutation = sortperm(v[proj_to_slice])\n",
    "    return v[proj_to_slice][permutation], w[proj_to_slice][permutation]\n",
    "end"
   ]
  },
  {
   "cell_type": "code",
   "execution_count": null,
   "metadata": {},
   "outputs": [],
   "source": [
    "instant = 1\n",
    "width   = 0.5\n",
    "sliceat = example.L/5\n",
    "plot(coupe_x_fixe(sliceat, resWPM.historyX[:, instant], resWPM.historyV[:, instant], particles.wei; width=width)..., label=\"WPM\")\n",
    "title!(\"f(t=t^$(instant-1), x ± \"*@sprintf(\"%.4f\", width)*\", ⋅)\")\n",
    "xlabel!(\"v\")"
   ]
  },
  {
   "cell_type": "markdown",
   "metadata": {},
   "source": [
    "## Coupe à $v$ fixé"
   ]
  },
  {
   "cell_type": "code",
   "execution_count": null,
   "metadata": {},
   "outputs": [],
   "source": [
    "function coupe_v_fixe(posofslice, x, v, w; width=0.1)\n",
    "    proj_to_slice = []\n",
    "    for part = 1:nbparticles \n",
    "        ((v[part] < posofslice - width/2) || (v[part] > posofslice + width/2)) && continue\n",
    "        push!(proj_to_slice, part)\n",
    "    end\n",
    "    permutation = sortperm(x[proj_to_slice])\n",
    "    return x[proj_to_slice][permutation], w[proj_to_slice][permutation]\n",
    "end"
   ]
  },
  {
   "cell_type": "code",
   "execution_count": null,
   "metadata": {},
   "outputs": [],
   "source": [
    "instant = 3\n",
    "width   = 0.2\n",
    "sliceat = 0.\n",
    "plot(coupe_v_fixe(sliceat, particles.x, particles.v, particles.wei; width=width)..., label=\"WPM\")\n",
    "plot!\n",
    "title!(\"f(t=t^$(instant-1), x ± \"*@sprintf(\"%.4f\", width)*\", ⋅)\")\n",
    "xlabel!(\"x\")"
   ]
  },
  {
   "cell_type": "markdown",
   "metadata": {},
   "source": [
    "# Repeated plots"
   ]
  },
  {
   "cell_type": "code",
   "execution_count": null,
   "metadata": {},
   "outputs": [],
   "source": [
    "using Printf\n",
    "\n",
    "# arr_examples = [example_landaudamping, example_stronglandaudamping, example_twostreaminstability, \n",
    "#                 example_bumpontail, example_stationarygaussian, example_nonhomogeneousstationarysolution]\n",
    "arr_examples = [example_stationarygaussian]\n",
    "arr_T = [10, 50, 101, 201, 250, 400, 500, NaN]\n",
    "\n",
    "for example = arr_examples\n",
    "    println(example.longname * \" (\" * example.shortname * \")\")\n",
    "    flush(stdout)\n",
    "\n",
    "    nstep = 1000\n",
    "    dt = 0.1\n",
    "\n",
    "    nx = 127\n",
    "    nv = 129\n",
    "\n",
    "    meshx = OneDGrid(dev, nx, 0, example.L);\n",
    "    meshv = OneDGrid(dev, nv, example.vmin, example.vmax);\n",
    "\n",
    "    quadX = RectangleRule\n",
    "    quadV = RectangleRule\n",
    "\n",
    "    quadrulex = quadX(nx, 0, example.L);\n",
    "    quadrulev = quadV(nv, example.vmin, example.vmax);\n",
    "\n",
    "    nbparticles = nx*nv\n",
    "    t = (1:nstep) .* dt\n",
    "    \n",
    "    bsl = zeros(Complex{Float64}, (nx,nv));\n",
    "    @. bsl = example.f0.(meshx.points, meshv.points');\n",
    "    resBSL, animBSL = solve_BSL!(nstep, dt, bsl, meshx, meshv, example.kx; plotting=false);\n",
    "\n",
    "    for T = arr_T \n",
    "        println(\"T=$(@sprintf(\"%03d\", T))\")\n",
    "        flush(stdout)\n",
    "\n",
    "        x0_init = copy(vec(repeat(quadrulex.points, 1, quadrulev.len)))\n",
    "        v0_init = copy(vec(repeat(quadrulev.points', quadrulex.len, 1)))\n",
    "        x0 = copy(vec(repeat(quadrulex.points, 1, quadrulev.len)))\n",
    "        v0 = copy(vec(repeat(quadrulev.points', quadrulex.len, 1)))\n",
    "        weights = quadrulex.weights .* quadrulev.weights'\n",
    "        wei = vec(example.f0.(quadrulex.points, quadrulev.points') .* weights)\n",
    "        # println(\"WPM:\")\n",
    "        # flush(stdout)\n",
    "        p = Particles(x0, v0, wei, nbparticles);\n",
    "        resWPM, animWPM = solve_WPM!(nstep, dt, p, meshx, example, vec(weights) ; \n",
    "                                            plotting=false, kernel=kernel_poisson!, T=T);\n",
    "\n",
    "\n",
    "\n",
    "        plot(legend=:bottomright, minorgrid=true, size=(600, 400))\n",
    "        plot!(t .+ dt, log10.(resWPM.Eelec), label=L\"E_{elec, WPM}\\quad dt=\"*\"$(dt)\")\n",
    "        plot!(t, log10.(resBSL.Eelec), label=L\"E_{elec, BSL}\\quad dt=\"*\"$(dt)\", ls=:dash, lw=1)\n",
    "        title!(example.shortname * \"\\n($(quadX)($(nx)), $(quadV)($(nv)))\", titlefontsize=8)\n",
    "        xlabel!(\"t (T=$(T))\")\n",
    "        \n",
    "        savefig(imgdir*\"periodic_bdy_conditions/\"*example.shortname*\"_$(nx)_$(nv)_T$(@sprintf(\"%03d\", T)).png\")\n",
    "\n",
    "        println(\"=====\")\n",
    "        flush(stdout)\n",
    "    end\n",
    "end"
   ]
  },
  {
   "cell_type": "markdown",
   "metadata": {},
   "source": [
    "# Convergence interpolation"
   ]
  },
  {
   "cell_type": "code",
   "execution_count": null,
   "metadata": {},
   "outputs": [],
   "source": [
    "# interpolation\n",
    "x0_gridinit = copy(vec(repeat(meshx.points, 1, meshv.len)))\n",
    "v0_gridinit = copy(vec(repeat(meshv.points', meshx.len, 1)))\n",
    "(newf, tri) = triangulation_interpolation(p.wei ./ vec(weights), p.x, p.v, x0_gridinit, v0_gridinit, example;  \n",
    "                                    returntriangulation=false)\n",
    "println((nx, nv, sum((newf .- vec(real(bsl))).^2) * meshx.step * meshv.step))\n",
    "plot(meshx.points, meshv.points, newf, st=:surface, camera=(0, 90), c=:jet1, right_margin=10Plots.mm)"
   ]
  },
  {
   "cell_type": "markdown",
   "metadata": {},
   "source": [
    "## Evolution de la diff en norme L2 (entre BSL raffiné et WPM) en fonction du nombre de particules\n",
    "\n",
    "(nx, nv, ||BSL - WPM||_2)\n",
    "\n",
    "(8, 16, 1.9854954055349652)\n",
    "\n",
    "(16, 32, 1.5415532148334858)\n",
    "\n",
    "(32, 64, 0.8750895981106529)\n",
    "\n",
    "(64, 128, 0.507113530637363)\n",
    "\n",
    "(128, 256, 0.4465578959127579)"
   ]
  },
  {
   "cell_type": "code",
   "execution_count": null,
   "metadata": {},
   "outputs": [],
   "source": [
    "plot(p.x, p.v, zcolor=p.wei ./ vec(weights), st=:scatter, c=:jet1, minorgrid=true)"
   ]
  },
  {
   "cell_type": "code",
   "execution_count": null,
   "metadata": {},
   "outputs": [],
   "source": []
  },
  {
   "cell_type": "markdown",
   "metadata": {},
   "source": [
    "# Figures $\\int fdx$, $\\int fdv$"
   ]
  },
  {
   "cell_type": "code",
   "execution_count": null,
   "metadata": {},
   "outputs": [],
   "source": [
    "function several_figures_∫fdx_∫fdv(example, times)    \n",
    "        for nstep=times\n",
    "                dt = 0.1\n",
    "\n",
    "                quadX = RectangleRule\n",
    "                quadV = RectangleRule\n",
    "\n",
    "                # ============================================================\n",
    "\n",
    "                nxs = [64, 96, 128, 196, 256]\n",
    "                nvs = [65, 97, 129, 197, 257]\n",
    "\n",
    "                nxbsl = 128\n",
    "                nvbsl = 129\n",
    "                meshx = OneDGrid(dev, nxbsl, 0, example.L);\n",
    "                meshv = OneDGrid(dev, nvbsl, example.vmin, example.vmax);\n",
    "\n",
    "\n",
    "                bsl = zeros(Complex{Float64}, (nxbsl, nvbsl));\n",
    "                @. bsl = example.f0.(meshx.points, meshv.points');\n",
    "                @time resBSL, animBSL = solve_BSL!(nstep, dt, bsl, meshx, meshv, example.kx; plotting=false);\n",
    "\n",
    "                for (nxwpm, nvwpm) = zip(nxs, nvs)\n",
    "                        quadrulex = quadX(nxwpm, 0, example.L);\n",
    "                        quadrulev = quadV(nvwpm, example.vmin, example.vmax);\n",
    "\n",
    "                        T = NaN\n",
    "\n",
    "                        nbparticles = nxwpm*nvwpm\n",
    "                        x0_init = copy(vec(repeat(quadrulex.points, 1, nvwpm)))\n",
    "                        v0_init = copy(vec(repeat(quadrulev.points', nxwpm, 1)))\n",
    "                        x0 = copy(vec(repeat(quadrulex.points, 1, nvwpm)))\n",
    "                        v0 = copy(vec(repeat(quadrulev.points', nxwpm, 1)))\n",
    "                        weights = quadrulex.weights .* quadrulev.weights'\n",
    "                        wei = vec(example.f0.(quadrulex.points, quadrulev.points') .* weights)\n",
    "                        particles = Particles(x0, v0, wei, nbparticles);\n",
    "                        @time resWPM, animWPM = solve_WPM!(nstep, dt, particles, meshx, example, vec(weights) ; \n",
    "                                                                plotting=false, kernel=kernel_poisson!, T=T);\n",
    "\n",
    "                        \n",
    "                        (newf, _) = triangulation_interpolation(particles.wei ./ vec(weights), particles.x, particles.v, x0_init, v0_init, example; returntriangulation=false)\n",
    "                        newf .*= vec(weights);\n",
    "                        # newf = particles.wei\n",
    "\n",
    "                        valstoplot = ∫f(x0_init .+ 100eps(), newf ./ meshx.step, meshx) # ∫fdv\n",
    "                        p1 = plot(meshx.points .+ meshx.step/2, valstoplot,\n",
    "                                        label=\"WPM interp. ($(nxwpm)×$(nvwpm))\", minorgrid=true)\n",
    "                        plot!(p1, meshx.points, vec(sum(real(bsl), dims=2)) .* meshv.step, \n",
    "                                label=\"BSL ($(nxbsl)×$(nvbsl))\", ls=:dash)\n",
    "                        title!(p1, \"$(example.shortname), ∫f(t^$(nstep),x,v)dv\")\n",
    "                        xlabel!(p1, \"x\")\n",
    "\n",
    "\n",
    "                        valstoplot = ∫f(v0_init .+ 100eps(), newf ./ meshv.step, meshv) # ∫fdx\n",
    "                        p2 = plot(meshv.points .+ meshv.step/2, valstoplot,\n",
    "                                        label=\"WPM interp. ($(nxwpm)×$(nvwpm))\", minorgrid=true)\n",
    "                        plot!(p2, meshv.points, vec(sum(real(bsl), dims=1)) .* meshx.step,\n",
    "                                label=\"BSL ($(nxbsl)×$(nvbsl))\", ls=:dash)\n",
    "                        title!(p2, \"$(example.shortname), ∫f(t^$(nstep),x,v)dx\")\n",
    "                        xlabel!(p2, \"v\")\n",
    "\n",
    "\n",
    "                        p12 = plot(p1, p2, size=(1000, 500), margin=10Plots.mm)\n",
    "\n",
    "                        imgdir = \"../../../latex/imgs/png/integrals_f_dx_or_dv/\" # Folder in which to store images \n",
    "                        savefig(imgdir*\"$(example.shortname)_interp_t$(nstep)_$(nxwpm)_$(nvwpm).png\")\n",
    "                end\n",
    "        end\n",
    "end"
   ]
  },
  {
   "cell_type": "code",
   "execution_count": null,
   "metadata": {},
   "outputs": [],
   "source": [
    "# example = example_landaudamping\n",
    "# example = example_stronglandaudamping\n",
    "example = example_twostreaminstability\n",
    "# example = example_twostreaminstabilityalternativeformulation\n",
    "# example = example_bumpontail\n",
    "# example = example_stationarygaussian\n",
    "# example = example_nonhomogeneousstationarysolution\n",
    "# example = example_test\n",
    "\n",
    "times = [0, 10, 25, 50, 100]\n",
    "\n",
    "several_figures_∫fdx_∫fdv(example, times)"
   ]
  },
  {
   "cell_type": "code",
   "execution_count": null,
   "metadata": {},
   "outputs": [],
   "source": []
  }
 ],
 "metadata": {
  "kernelspec": {
   "display_name": "Julia 1.7.2",
   "language": "julia",
   "name": "julia-1.7"
  },
  "language_info": {
   "file_extension": ".jl",
   "mimetype": "application/julia",
   "name": "julia",
   "version": "1.7.2"
  }
 },
 "nbformat": 4,
 "nbformat_minor": 2
}
