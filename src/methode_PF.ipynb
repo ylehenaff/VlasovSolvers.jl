{
 "cells": [
  {
   "cell_type": "code",
   "execution_count": 2,
   "metadata": {},
   "outputs": [],
   "source": [
    "using Revise\n",
    "\n",
    "using LinearAlgebra, QuadGK, Roots, FFTW, FastGaussQuadrature, SpecialFunctions\n",
    "using Triangulate\n",
    "using VlasovSolvers\n",
    "import VlasovSolvers: advection!\n",
    "import VlasovSolvers: samples, Particles, PF_step!, ParticleMover, kernel_poisson!, kernel_gyrokinetic!\n",
    "\n",
    "using ProgressMeter, Printf\n",
    "using Plots, LaTeXStrings"
   ]
  },
  {
   "cell_type": "markdown",
   "metadata": {},
   "source": [
    "# Quadrature rules"
   ]
  },
  {
   "cell_type": "code",
   "execution_count": 3,
   "metadata": {},
   "outputs": [],
   "source": [
    "struct RectangleRule\n",
    "    len  :: Int64\n",
    "    start :: Float64\n",
    "    stop  :: Float64\n",
    "    points :: Vector{Float64}\n",
    "    weights :: Vector{Float64}\n",
    "    step :: Float64\n",
    "\n",
    "    function RectangleRule(len, start, stop)\n",
    "        points = LinRange(start, stop, len+1)[1:end-1]\n",
    "        s = step(points) \n",
    "        weights = [s for _ = 1:len]\n",
    "        new(len, start, stop, vec(points), weights, s)\n",
    "    end\n",
    "end"
   ]
  },
  {
   "cell_type": "code",
   "execution_count": 4,
   "metadata": {},
   "outputs": [],
   "source": [
    "struct TrapezoidalRule\n",
    "    len  :: Int64\n",
    "    start :: Float64\n",
    "    stop  :: Float64\n",
    "    points :: Vector{Float64}\n",
    "    weights :: Vector{Float64}\n",
    "    step :: Float64\n",
    "\n",
    "    function TrapezoidalRule(len, start, stop)\n",
    "        points = LinRange(start, stop, len)[1:end]\n",
    "        s = step(points) \n",
    "        weights = [s for _ = 1:len]\n",
    "        weights[1] /= 2\n",
    "        weights[end] /= 2\n",
    "        new(len, start, stop, vec(points), weights, s)\n",
    "    end\n",
    "end"
   ]
  },
  {
   "cell_type": "code",
   "execution_count": 5,
   "metadata": {},
   "outputs": [],
   "source": [
    "struct SimpsonRule\n",
    "    len  :: Int64\n",
    "    start :: Float64\n",
    "    stop  :: Float64\n",
    "    points :: Vector{Float64}\n",
    "    weights :: Vector{Float64}\n",
    "    step :: Float64\n",
    "\n",
    "    function SimpsonRule(len, start, stop)\n",
    "        # make sure the number of points is uneven\n",
    "        if len % 2 == 0\n",
    "            len += 1\n",
    "        end\n",
    "        points = LinRange(start, stop, len)\n",
    "        s = step(points) \n",
    "        weights = s/3 .* ones(len)\n",
    "        weights[2:2:end-1] .*= 4\n",
    "        weights[3:2:end-2] .*= 2\n",
    "        new(len, start, stop, vec(points), weights, s)\n",
    "    end\n",
    "end"
   ]
  },
  {
   "cell_type": "code",
   "execution_count": 6,
   "metadata": {},
   "outputs": [],
   "source": [
    "struct GaussHermiteRule\n",
    "    len  :: Int64\n",
    "    start :: Float64\n",
    "    stop  :: Float64\n",
    "    points :: Array{Float64}\n",
    "    weights :: Array{Float64}\n",
    "\n",
    "    function GaussHermiteRule(len, start, stop)\n",
    "        points, weights = gausshermite(len)\n",
    "        weights .*= exp.(points.^2)\n",
    "        new(len, start, stop, points, weights)\n",
    "    end\n",
    "end"
   ]
  },
  {
   "cell_type": "code",
   "execution_count": 7,
   "metadata": {},
   "outputs": [],
   "source": [
    "struct GaussLegendreRule\n",
    "    len  :: Int64\n",
    "    start :: Float64\n",
    "    stop  :: Float64\n",
    "    points :: Array{Float64}\n",
    "    weights :: Array{Float64}\n",
    "\n",
    "    function GaussLegendreRule(len, start, stop)\n",
    "        points, weights = gausslegendre(len)\n",
    "        points .+= 1\n",
    "        points .*= (stop - start) / 2\n",
    "        points .+= start\n",
    "        weights .*= (stop - start) / 2\n",
    "        new(len, start, stop, points, weights)\n",
    "    end\n",
    "end"
   ]
  },
  {
   "cell_type": "code",
   "execution_count": 8,
   "metadata": {},
   "outputs": [],
   "source": [
    "struct GaussRadauRule\n",
    "    len  :: Int64\n",
    "    start :: Float64\n",
    "    stop  :: Float64\n",
    "    points :: Array{Float64}\n",
    "    weights :: Array{Float64}\n",
    "\n",
    "    function GaussRadauRule(len, start, stop)\n",
    "        points, weights = gaussradau(len)\n",
    "        points .+= 1\n",
    "        points .*= (stop - start) / 2\n",
    "        points .+= start\n",
    "        weights .*= (stop - start) / 2\n",
    "        new(len, start, stop, points, weights)\n",
    "    end\n",
    "end"
   ]
  },
  {
   "cell_type": "code",
   "execution_count": 9,
   "metadata": {},
   "outputs": [],
   "source": [
    "struct GaussLobattoRule\n",
    "    len  :: Int64\n",
    "    start :: Float64\n",
    "    stop  :: Float64\n",
    "    points :: Array{Float64}\n",
    "    weights :: Array{Float64}\n",
    "\n",
    "    function GaussLobattoRule(len, start, stop)\n",
    "        points, weights = gausslobatto(len)\n",
    "        points .+= 1\n",
    "        points .*= (stop - start) / 2\n",
    "        points .+= start\n",
    "        weights .*= (stop - start) / 2\n",
    "        new(len, start, stop, points, weights)\n",
    "    end\n",
    "end"
   ]
  },
  {
   "cell_type": "code",
   "execution_count": 10,
   "metadata": {},
   "outputs": [],
   "source": [
    "struct KronrodRule\n",
    "    len  :: Int64\n",
    "    start :: Float64\n",
    "    stop  :: Float64\n",
    "    points :: Vector{Float64}\n",
    "    weights :: Vector{Float64}\n",
    "    step :: Float64\n",
    "\n",
    "    function KronrodRule(len, start, stop)\n",
    "        pts, w, _ = kronrod(len)\n",
    "        weights = []\n",
    "        points = []\n",
    "        for i = 1:len\n",
    "            push!(points, pts[i])\n",
    "            push!(weights, w[i])\n",
    "            push!(points, -pts[i])\n",
    "            push!(weights, w[i])\n",
    "        end\n",
    "        push!(points, pts[end])\n",
    "        push!(weights, w[end])\n",
    "        \n",
    "        points .+= 1\n",
    "        points .*= (stop - start) / 2\n",
    "        points .+= start\n",
    "        weights .*= (stop - start) / 2\n",
    "        len = 2*len + 1\n",
    "        new(len, start, stop, points, weights)\n",
    "end\n",
    "    end"
   ]
  },
  {
   "cell_type": "code",
   "execution_count": 11,
   "metadata": {},
   "outputs": [
    {
     "data": {
      "text/plain": [
       "projection_onto_grid! (generic function with 1 method)"
      ]
     },
     "execution_count": 11,
     "metadata": {},
     "output_type": "execute_result"
    }
   ],
   "source": [
    "# Only works for rectangle and trapezoidal rules\n",
    "function projection_onto_grid!(grid_dst, meshx, meshv, X, V_, W)\n",
    "    meshxstep = meshx[2] - meshx[1]\n",
    "    meshvstep = meshv[2] - meshv[1]\n",
    "    grid_dst .= 0\n",
    "\n",
    "\n",
    "    # Periodic Boundary conditions on velocity\n",
    "    V = copy(V_)\n",
    "    V[findall(v -> v >= meshv[end],  V)] .-= meshv[end] - meshv[1]\n",
    "    V[findall(v -> v < meshv[1],  V)] .+= meshv[end] - meshv[1]\n",
    "    \n",
    "    for ipart = 1:length(X)\n",
    "        idxgridx = Int64(fld(X[ipart],            meshxstep)) + 1\n",
    "        idxgridv = Int64(fld(V[ipart] - meshv[1], meshvstep)) + 1\n",
    "        idxgridxp1 = idxgridx<length(meshx) ? idxgridx+1 : 1\n",
    "        idxgridvp1 = idxgridv<length(meshv) ? idxgridv+1 : 1\n",
    "        \n",
    "        tx = (X[ipart]             - (idxgridx-1) * meshxstep) / meshxstep\n",
    "        tv = (V[ipart] - meshv[1]  - (idxgridv-1) * meshvstep) / meshvstep\n",
    "\n",
    "        # println((idxgridv, V[ipart]))\n",
    "        grid_dst[idxgridx  , idxgridv  ] += W[ipart] * (1-tx) * (1-tv)\n",
    "        grid_dst[idxgridx  , idxgridvp1] += W[ipart] * (1-tx) * tv\n",
    "        grid_dst[idxgridxp1, idxgridvp1] += W[ipart] * tx     * tv\n",
    "        grid_dst[idxgridxp1, idxgridv  ] += W[ipart] * tx     * (1 - tv)\n",
    "    end\n",
    "end"
   ]
  },
  {
   "cell_type": "markdown",
   "metadata": {},
   "source": [
    "# Numerical examples"
   ]
  },
  {
   "cell_type": "code",
   "execution_count": 12,
   "metadata": {},
   "outputs": [],
   "source": [
    "struct LandauDamping\n",
    "    α\n",
    "    kx\n",
    "    μ\n",
    "    β\n",
    "    f0\n",
    "    shortname\n",
    "    longname\n",
    "    L \n",
    "    vmin \n",
    "    vmax\n",
    "\n",
    "    function LandauDamping(alpha, kx, mu, beta; \n",
    "                            shortname=\"Landau\", longname=\"(Strong/Weak) Landau damping\", L=nothing, vmin=-9, vmax=9)\n",
    "        isnothing(L) ? L = 2π / kx : nothing\n",
    "        f(x,v) = (1 + alpha * cos(kx*x)) * exp(- beta * (v-mu)^2 / 2) / √(2π/beta)\n",
    "        new(alpha, kx, mu, beta, f, shortname, longname, L, vmin, vmax)\n",
    "    end\n",
    "end\n",
    "\n",
    "struct TwoStreamInstability \n",
    "    α\n",
    "    kx\n",
    "    β\n",
    "    f0\n",
    "    shortname\n",
    "    longname\n",
    "    L \n",
    "    vmin \n",
    "    vmax\n",
    "    v0\n",
    "\n",
    "    function TwoStreamInstability(alpha, kx, v0; \n",
    "                                    shortname=\"TSI\", longname=\"Two-Stream Instability\", L=nothing, vmin=-9, vmax=9)\n",
    "        isnothing(L) ? L = 2π / kx : nothing\n",
    "        f(x,v) = (1 + alpha * cos(kx*x)) * (exp(- (v-v0)^2 / 2) + exp(- (v+v0)^2 / 2)) / (2*√(2π))\n",
    "        new(alpha, kx, 1., f, shortname, longname, L, vmin, vmax, v0)\n",
    "    end\n",
    "end\n",
    "\n",
    "struct TwoStreamInstabilityAlternativeFormulation\n",
    "    α\n",
    "    kx\n",
    "    β\n",
    "    f0\n",
    "    shortname\n",
    "    longname\n",
    "    L \n",
    "    vmin \n",
    "    vmax\n",
    "\n",
    "    function TwoStreamInstabilityAlternativeFormulation(alpha, kx; \n",
    "                                    shortname=\"TSI_alt\", longname=\"Two-Stream Instability Alternative Formulation\", L=nothing, vmin=-9, vmax=9)\n",
    "        isnothing(L) ? L = 2π / kx : nothing\n",
    "        f(x,v) = (1 - alpha * cos(kx*x)) * exp(- v^2 / 2) * v^2 / √(2π)\n",
    "        new(alpha, kx, 1., f, shortname, longname, L, vmin, vmax)\n",
    "    end\n",
    "end\n",
    "\n",
    "struct BumpOnTail \n",
    "    α\n",
    "    kx\n",
    "    μ₁\n",
    "    μ₂\n",
    "    β₁\n",
    "    β₂\n",
    "    n₁\n",
    "    n₂\n",
    "    f0\n",
    "    shortname\n",
    "    longname\n",
    "    L \n",
    "    vmin \n",
    "    vmax\n",
    "\n",
    "    function BumpOnTail(alpha, kx, mu1, mu2, beta1, beta2; \n",
    "                        n1=0.9, n2=0.2, shortname=\"BoT\", longname=\"Bump on Tail\", L=nothing, vmin=-9, vmax=9)\n",
    "        isnothing(L) ? L = 2π / kx : nothing\n",
    "        f(x,v) = (1 + alpha * cos(kx*x)) * ((n1*exp(-beta1*(v-mu1)^2 /2) + n2*exp(-beta2*(v-mu2)^2 / 2)) / √(2π))\n",
    "        new(alpha, kx, mu1, mu2, beta1, beta2, n1, n2, f, shortname, longname, L, vmin, vmax)\n",
    "    end\n",
    "end\n",
    "\n",
    "struct NonHomogeneousStationarySolution\n",
    "    α\n",
    "    kx\n",
    "    β\n",
    "    M₀\n",
    "    f0\n",
    "    shortname\n",
    "    longname\n",
    "    L\n",
    "    vmin\n",
    "    vmax\n",
    "\n",
    "    function getM₀(α, β)\n",
    "        find_zero( (M) -> M - α * √(2π/β) * besseli(1, M * β) * 2, 10)\n",
    "        # 2 factor because of the definition of I₁(z) and C(t):\n",
    "        # I₁(z) = 1/π ∫_0^π exp(z cos(θ)) cos(θ) dθ\n",
    "        #       = 1/(2π) ∫_0^{2π} exp(z cos(θ)) cos(θ) dθ\n",
    "        # C(t)  = 1/π ∫_0^{2π} ∫_{-∞}^{+∞} f(t,θ,v) cos(θ) dθ dv\n",
    "        #       = 2α √(2π/β) I₁(βM₀)\n",
    "    end\n",
    "\n",
    "    function NonHomogeneousStationarySolution(alpha, kx, beta;\n",
    "                                                shortname=\"non-homog\", longname=\"Non Homogeneous Stationary Solution\", L=nothing, \n",
    "                                                vmin=-9, vmax=9)\n",
    "        isnothing(L) ? L = 2π / kx : nothing\n",
    "        m = getM₀(alpha, beta)\n",
    "        new(alpha, kx, beta, m, (x,v) -> alpha * exp.(-beta * (v^2 / 2 - m * cos(x*kx))), shortname, longname, L, vmin, vmax)\n",
    "    end\n",
    "end\n",
    "\n",
    "struct StationaryGaussian\n",
    "    α\n",
    "    kx\n",
    "    β\n",
    "    f0\n",
    "    shortname\n",
    "    longname\n",
    "    L\n",
    "    vmin\n",
    "    vmax\n",
    "\n",
    "    function StationaryGaussian(alpha, kx, beta;\n",
    "                                                shortname=\"gaussian\", longname=\"Stationary Gaussian\", L=nothing, \n",
    "                                                vmin=-9, vmax=9)\n",
    "        isnothing(L) ? L = 2π / kx : nothing\n",
    "        new(alpha, kx, beta, (x,v) -> alpha * exp.(-beta * v^2 / 2) / √(2π/beta), shortname, longname, L, vmin, vmax)\n",
    "    end\n",
    "end\n",
    "\n",
    "struct Test\n",
    "    α\n",
    "    kx\n",
    "    β\n",
    "    f0\n",
    "    shortname\n",
    "    longname\n",
    "    L\n",
    "    vmin\n",
    "    vmax\n",
    "\n",
    "    function Test(alpha, kx, beta;\n",
    "                                shortname=\"test\", longname=\"Test\", L=nothing, \n",
    "                                vmin=-9, vmax=9)\n",
    "        isnothing(L) ? L = 2π / kx : nothing\n",
    "        new(alpha, kx, beta, (x,v) -> alpha * exp.(-beta * (v - (vmin+vmax)/2)^2 / 2) / √(2π/beta) * exp.(-beta * (x - L/2)^2 / 2) / √(2π/beta), shortname, longname, L, vmin, vmax)\n",
    "    end\n",
    "end\n",
    "\n",
    "example_landaudamping = LandauDamping(0.001, 0.5, 0., 1.; \n",
    "                                        longname=\"Weak Landau damping\", shortname=\"weakLD\", vmin=-9, vmax=9);\n",
    "example_stronglandaudamping = LandauDamping(0.5, 0.5, 0., 1.; longname=\"Strong Landau damping\", shortname=\"strongLD\");\n",
    "example_twostreaminstability = TwoStreamInstability(0.001, 0.2, 3.);\n",
    "example_twostreaminstabilityalternativeformulation = TwoStreamInstabilityAlternativeFormulation(0.05, 0.2);\n",
    "example_bumpontail = BumpOnTail(0.04, 0.3, 0, 4.5, 1, 4);\n",
    "example_nonhomogeneousstationarysolution = NonHomogeneousStationarySolution(0.2, 1, 2);\n",
    "example_stationarygaussian = StationaryGaussian(0.2, 1, 1);\n",
    "example_test = Test(0.2, 1, 1);"
   ]
  },
  {
   "cell_type": "markdown",
   "metadata": {},
   "source": [
    "# SL classique"
   ]
  },
  {
   "cell_type": "code",
   "execution_count": 13,
   "metadata": {},
   "outputs": [
    {
     "data": {
      "text/plain": [
       "solve_SL! (generic function with 1 method)"
      ]
     },
     "execution_count": 13,
     "metadata": {},
     "output_type": "execute_result"
    }
   ],
   "source": [
    "\"\"\"\n",
    "    hmf_poisson!(fᵗ    :: Array{Complex{Float64},2},\n",
    "                 mesh1 :: OneDGrid,\n",
    "                 mesh2 :: OneDGrid,\n",
    "                 ex    :: Array{Float64})\n",
    "\n",
    "    Compute the electric hamiltonian mean field from the\n",
    "    transposed distribution function\n",
    "\n",
    "\"\"\"\n",
    "function hmf_poisson!(fᵗ::Array{Complex{Float64},2},\n",
    "        mesh1::OneDGrid,\n",
    "        mesh2::OneDGrid,\n",
    "        ex::Array{Float64}; K=1)\n",
    "\n",
    "    n1 = mesh1.len\n",
    "    rho = mesh2.step .* vec(sum(fᵗ, dims=1)) # ≈ ∫ f(t,x_i,v)dv, i=1, ..., n1\n",
    "    kernel = zeros(Float64, n1)\n",
    "    ker = -(mesh1.stop - mesh1.start) / (2π)\n",
    "    for k=1:K\n",
    "        kernel[1+k]   =  ker / k    # fourier mode  1\n",
    "        kernel[end - (k-1)] = -ker / k    # fourier mode -1\n",
    "    end\n",
    "    ex .= real(ifft(fft(rho) .* 1im .* kernel))\n",
    "end\n",
    "\n",
    "function solve_SL!(nsteps, dt, f, mesh1, mesh2, kx; plotting=false::Bool)\n",
    "    n1, n2 = size(f)\n",
    "    fᵗ = zeros(Complex{Float64}, (n2,n1))\n",
    "    transpose!(fᵗ, f)\n",
    "\n",
    "    results = (Eelec = Array{Float64}(undef, nsteps),\n",
    "                Etot = Array{Float64}(undef, nsteps),\n",
    "                momentum = Array{Float64}(undef, nsteps),\n",
    "                L²norm = Array{Float64}(undef, nsteps))\n",
    "\n",
    "\n",
    "    ex = zeros(Float64, n1)\n",
    "    hmf_poisson!(fᵗ, mesh1, mesh2, ex)\n",
    "    advection!(fᵗ, mesh2, ex, 0.5dt)\n",
    "\n",
    "    progression = ProgressMeter.Progress(nsteps,desc=\"Loop in time: \", showspeed=true)\n",
    "    \n",
    "    animation = @animate for istep = 1:nsteps\n",
    "        results.Eelec[istep] = sum(ex.^2) * mesh1.step\n",
    "        results.Etot[istep] = (results.Eelec[istep] + sum(mesh2.points'.^2 .* real(f)) * mesh1.step * mesh2.step) / 2\n",
    "        results.momentum[istep] = sum(sum(real(f), dims=1) .* mesh2.points) * mesh1.step * mesh2.step\n",
    "        results.L²norm[istep] = sum(real(f).^2) * mesh1.step * mesh2.step\n",
    "    \n",
    "        advection!(f, mesh1, mesh2.points, dt)\n",
    "        transpose!(fᵗ, f)\n",
    "        hmf_poisson!(fᵗ, mesh1, mesh2, ex)\n",
    "        advection!(fᵗ, mesh2, ex, dt)\n",
    "        transpose!(f, fᵗ) \n",
    "        \n",
    "        if plotting\n",
    "            plot(mesh1.points, mesh2.points, real(f)', size=(500, 500), st=:surface, camera=(0, 90))\n",
    "            title!(\"Progression: $(round(Int64,100*progression.counter / progression.n))%\")\n",
    "        end\n",
    "        \n",
    "        ProgressMeter.next!(progression)\n",
    "    end when plotting\n",
    "    if !plotting\n",
    "        animation = nothing\n",
    "    end\n",
    "    \n",
    "    results.Eelec .= sqrt.(results.Eelec)\n",
    "    results.Etot .= sqrt.(results.Etot)\n",
    "    results.L²norm .= sqrt.(results.L²norm)\n",
    "    \n",
    "    return results, animation\n",
    "end"
   ]
  },
  {
   "cell_type": "markdown",
   "metadata": {},
   "source": [
    "# PIC solver"
   ]
  },
  {
   "cell_type": "code",
   "execution_count": 14,
   "metadata": {},
   "outputs": [
    {
     "data": {
      "text/plain": [
       "solve_PF! (generic function with 1 method)"
      ]
     },
     "execution_count": 14,
     "metadata": {},
     "output_type": "execute_result"
    }
   ],
   "source": [
    "function solve_PF!(nsteps, dt, particles, meshx, example, weights; plotting=false::Bool, kernel=kernel_poisson!, T=NaN)\n",
    "    init_pos = copy(particles.x)\n",
    "    init_vel = copy(particles.v)\n",
    "\n",
    "    np = particles.nbpart\n",
    "\n",
    "    results = (Eelec = Array{Float64}(undef, nsteps),\n",
    "                Etot = Array{Float64}(undef, nsteps),\n",
    "                momentum = Array{Float64}(undef, nsteps),\n",
    "                L²norm = Array{Float64}(undef, nsteps),\n",
    "                C = Array{Float64}(undef, nsteps),\n",
    "                S = Array{Float64}(undef, nsteps),\n",
    "                historyX = Array{Float64}(undef, np, nsteps+1),\n",
    "                historyV = Array{Float64}(undef, np, nsteps+1))\n",
    "\n",
    "    pmover = ParticleMover(particles, meshx, 1, dt; example.kx)\n",
    "\n",
    "    results.historyX[:, 1] .= particles.x\n",
    "    results.historyV[:, 1] .= particles.v\n",
    "\n",
    "    if plotting\n",
    "        widthx = -(-)(extrema(quadrulex.points)...)\n",
    "        widthv = -(-)(extrema(quadrulev.points)...)\n",
    "        scale = 0.9\n",
    "    end\n",
    "    \n",
    "    progression = ProgressMeter.Progress(nsteps, desc=\"Loop in time: \", showspeed=true)\n",
    "    animation = @animate for istep = 1:nsteps\n",
    "        \n",
    "        results.Eelec[istep], results.momentum[istep], results.Etot[istep] = PF_step!(particles, pmover; kernel=kernel)\n",
    "        results.C[istep] = pmover.C[1]\n",
    "        results.S[istep] = pmover.S[1]\n",
    "        results.L²norm[istep] = sum(particles.wei.^2 ./ vec(weights))\n",
    "        results.historyX[:, istep+1] .= particles.x\n",
    "        results.historyV[:, istep+1] .= particles.v\n",
    "        \n",
    "        if istep % T == 0\n",
    "            # p.wei .= nufft_interpolation(p.wei, p.x, p.v, init_pos, init_vel) .* weights\n",
    "            particles.wei .= triangulation_interpolation(particles.wei ./ vec(weights), particles.x, particles.v, \n",
    "                                                            init_pos, init_vel, example)[1]\n",
    "            particles.wei .*= vec(weights)\n",
    "            particles.x .= init_pos\n",
    "            particles.v .= init_vel\n",
    "        end\n",
    "        \n",
    "        if plotting\n",
    "            plot(particles.x, particles.v, seriestype=:scatter, zcolor=vec(particles.wei), \n",
    "                markersize=sqrt(600*600 / (nx*nv) / π) * scale, zticks=[], camera=(0, 90), \n",
    "                markerstrokecolor=\"white\", markerstrokewidth=0, label=\"\", c=:jet1,\n",
    "                aspect_ratio=:equal, size=(600, 600), \n",
    "                title=\"t = $(@sprintf(\"%.3f\",istep*dt))\\nProgression: $(round(Int64,100*progression.counter / progression.n))%\", titlefontsize=8, margin=5Plots.mm)\n",
    "        end\n",
    "\n",
    "        ProgressMeter.next!(progression)\n",
    "    end when plotting\n",
    "    if !plotting\n",
    "        animation = nothing\n",
    "    end\n",
    "    \n",
    "    results.Eelec .= sqrt.(results.Eelec)\n",
    "    results.Etot .= sqrt.(results.Etot)\n",
    "    results.L²norm .= sqrt.(results.L²norm)\n",
    "    \n",
    "    return results, animation\n",
    "end"
   ]
  },
  {
   "cell_type": "code",
   "execution_count": 15,
   "metadata": {},
   "outputs": [
    {
     "data": {
      "text/plain": [
       "triangleContainingPoint (generic function with 1 method)"
      ]
     },
     "execution_count": 15,
     "metadata": {},
     "output_type": "execute_result"
    }
   ],
   "source": [
    "function triangulation_interpolation(_valsf, _pos, _vel, gridxoutput, gridvoutput, example; \n",
    "                                        returntriangulation=false)\n",
    "\"\"\"\n",
    "Perform a linear interpolation of the data to the grid by using a Delaunay triangulation.\n",
    "\n",
    "    Steps:\n",
    "    1. Create the Delaunay triangulation\n",
    "    2. For each point (x,v) in (gridxoutput, gridvoutput)\n",
    "        a. Get the triangle T in which (x,v) lies, by iterating over all the triangles and testing each one of them\n",
    "        b. From the vertices of T get a linear interpolation of the function at x, using barycentric coordinates\n",
    "    \"\"\"\n",
    "    \n",
    "    myoutput = similar(gridxoutput)\n",
    "\n",
    "    pointset = Triangulate.TriangulateIO()\n",
    "\n",
    "    @views pointset.pointlist = vcat(_pos', _vel')\n",
    "    pointset.pointattributelist = _valsf'\n",
    "    (triangulation, _) = Triangulate.triangulate(\"Q\", pointset);\n",
    "\n",
    "    indicestoreview = []\n",
    "\n",
    "    # Interpolate using the triangulation\n",
    "    @views @inbounds for part=eachindex(gridxoutput)\n",
    "        myoutput[part] = triangleContainingPoint(triangulation, gridxoutput[part], gridvoutput[part])[1]\n",
    "        myoutput[part] < 0 ? push!(indicestoreview, part) : nothing\n",
    "    end\n",
    "\n",
    "    # Perform rough approximation when the triangulation could not help us interpolate.\n",
    "    # In this case we suppose the function is constant between the closest known value at the same velocity and the \n",
    "    # point at the desired location. \n",
    "    @views @inbounds for part=indicestoreview\n",
    "        xline = findall((gridvoutput .== gridvoutput[part]).&&(myoutput .≥ 0)) \n",
    "        myoutput[part] = 0.0 # set value to 0.0 if nothing better can be done\n",
    "        if isempty(xline)\n",
    "            continue\n",
    "        end\n",
    "        x = gridxoutput[part]\n",
    "        idxxminknown = minimum(xline)\n",
    "        xminknown = gridxoutput[idxxminknown]\n",
    "        idxxmaxknown = maximum(xline)\n",
    "        xmaxknown = gridxoutput[idxxmaxknown]\n",
    "        x > xmaxknown ? x -= example.L : nothing\n",
    "        myoutput[part] = myoutput[idxxminknown] * (x-xmaxknown+example.L) / (xminknown - xmaxknown + example.L) +\n",
    "                    myoutput[idxxmaxknown] * (1 - (x-xmaxknown+example.L) / (xminknown - xmaxknown + example.L))\n",
    "    end \n",
    "\n",
    "    returntriangulation ? nothing : triangulation=nothing\n",
    "    return vec(myoutput), triangulation\n",
    "end\n",
    "\n",
    "\n",
    "function triangleContainingPoint(triangulation, x, v)\n",
    "    @views @inbounds for (idxA, idxB, idxC) = eachcol(triangulation.trianglelist)\n",
    "        \n",
    "        A = triangulation.pointlist[:, idxA]\n",
    "        B = triangulation.pointlist[:, idxB]\n",
    "        C = triangulation.pointlist[:, idxC]\n",
    "        \n",
    "        # if x is outside of the rectangle defined by [minX(A, B, C), maxX(A, B, C)],\n",
    "        # or v is outside of the rectangle defined by [minV(A, B, C), maxV(A, B, C)],\n",
    "        # then we don't have to do the computations\n",
    "        if      ((x < A[1]) && (x < B[1]) && (x < C[1])) || ((x > A[1]) && (x > B[1]) && (x > C[1]))\n",
    "            continue\n",
    "        elseif  ((v < A[2]) && (v < B[2]) && (v < C[2])) || ((v > A[2]) && (v > B[2]) && (v > C[2]))\n",
    "            continue\n",
    "        end\n",
    "        \n",
    "        # Use barycentric coordinates:\n",
    "        det = (A[1] - C[1])*(B[2] - C[2]) - (A[2] - C[2])*(B[1] - C[1])\n",
    "        λ₁ = (x - C[1])*(B[2] - C[2]) + (v - C[2])*(C[1] - B[1])\n",
    "        λ₂ = (x - C[1])*(C[2] - A[2]) + (v - C[2])*(A[1] - C[1])\n",
    "        λ₁ /= det \n",
    "        λ₂ /= det\n",
    "        \n",
    "        if (λ₁≥0)&&(λ₂≥0)&&(λ₁+λ₂≤1)\n",
    "            wA = triangulation.pointattributelist[1, idxA]\n",
    "            wB = triangulation.pointattributelist[1, idxB]\n",
    "            wC = triangulation.pointattributelist[1, idxC]\n",
    "            return wA * λ₁ + wB * λ₂ + (1 - λ₁ - λ₂) * wC, (idxA, idxB, idxC)\n",
    "        end\n",
    "    end\n",
    "\n",
    "    return -1., (-1, -1, -1)\n",
    "end"
   ]
  },
  {
   "cell_type": "markdown",
   "metadata": {},
   "source": [
    "# Inputs"
   ]
  },
  {
   "cell_type": "code",
   "execution_count": 107,
   "metadata": {},
   "outputs": [],
   "source": [
    "dev = CPU()\n",
    "\n",
    "imgdir = \"../../../latex/imgs/png/triangulation/\" # Folder in which to store images \n",
    "\n",
    "\n",
    "# example = example_landaudamping\n",
    "example = example_stronglandaudamping\n",
    "# example = example_twostreaminstability\n",
    "# example = example_twostreaminstabilityalternativeformulation\n",
    "# example = example_bumpontail\n",
    "# example = example_stationarygaussian\n",
    "# example = example_nonhomogeneousstationarysolution\n",
    "# example = example_test\n",
    "\n",
    "nstep =150\n",
    "dt = 0.1\n",
    "\n",
    "nxsl = 128\n",
    "nvsl = 129\n",
    "meshx = OneDGrid(dev, nxsl, 0, example.L);\n",
    "meshv = OneDGrid(dev, nvsl, example.vmin, example.vmax);\n",
    "\n",
    "quadX = RectangleRule\n",
    "quadV = RectangleRule\n",
    "nxpf = 128\n",
    "nvpf = 129\n",
    "quadrulex = quadX(nxpf, 0, example.L);\n",
    "quadrulev = quadV(nvpf, example.vmin, example.vmax);\n",
    "# # quadrulev = quadV(nv, μ - 5/√β, μ + 5/√β)\n",
    "# quadrulev = quadV(nv, example.μ - 5/√example.β, example.μ + 5/√example.β)"
   ]
  },
  {
   "cell_type": "code",
   "execution_count": 108,
   "metadata": {},
   "outputs": [],
   "source": [
    "# kx = example.kx\n",
    "# β = example.β\n",
    "# α = example.α\n",
    "# M₀ = example.M₀\n",
    "\n",
    "# println(\"M₀ = $(M₀)\")\n",
    "\n",
    "# rule = RectangleRule(nx, 0, example.L);\n",
    "# println(\"Rectangles:\\t$(sum(cos.(kx.*rule.points) .* rule.weights))\")\n",
    "# rule = TrapezoidalRule(nx, 0, example.L);\n",
    "# println(\"Trapèzes:\\t$(sum(cos.(kx.*rule.points) .* rule.weights))\")\n",
    "# rule = GaussLegendreRule(nx, 0, example.L);\n",
    "# println(\"Gauss-Legendre:\\t$(sum(cos.(kx.*rule.points) .* rule.weights))\")\n",
    "\n",
    "# println(repeat(\"=\", 45))\n",
    "\n",
    "# println(\"π M₀ = \\t\\t\"     *   \"$(π * M₀)\")\n",
    "# rule = RectangleRule(nx, 0, example.L);\n",
    "# println(\"Rectangles:\\t\"   *   \"$(sum(cos.(rule.points) .* example.f0.(rule.points, quadrulev.points') .* rule.weights.*quadrulev.weights'))\")\n",
    "# rule = TrapezoidalRule(nx, 0, example.L);\n",
    "# println(\"Trapèzes:\\t\"     *   \"$(sum(cos.(rule.points) .* example.f0.(rule.points, quadrulev.points') .* rule.weights.*quadrulev.weights'))\")\n",
    "# rule = GaussLegendreRule(nx, 0, example.L);\n",
    "# println(\"Gauss-Legendre:\\t\" * \"$(sum(cos.(rule.points) .* example.f0.(rule.points, quadrulev.points') .* rule.weights.*quadrulev.weights'))\")"
   ]
  },
  {
   "cell_type": "code",
   "execution_count": 109,
   "metadata": {},
   "outputs": [],
   "source": [
    "# besseli(1, β * M₀) * α * √(2π/β) * 2 - M₀"
   ]
  },
  {
   "cell_type": "code",
   "execution_count": 110,
   "metadata": {},
   "outputs": [],
   "source": [
    "# gridv = example.vmin:0.01:example.vmax\n",
    "\n",
    "# ex_quadrulev = quadV(nv, example.vmin, example.vmax);\n",
    "# ex_quadrulev2 = quadV(nv, example.μ - 5/√example.β, example.μ + 5/√example.β)\n",
    "# ex_quadrulev3 = quadV(nv, example.μ - 4/√example.β, example.μ + 4/√example.β)\n",
    "\n",
    "# plot(gridv, example.f0.(π/2, gridv))\n",
    "# plot!(ex_quadrulev.points, zeros(ex_quadrulev.len) .+ 0.01, seriestype=:scatter, markerstrokewidth=0, label=\"grille totale\")\n",
    "# plot!(ex_quadrulev2.points, zeros(ex_quadrulev2.len) .+ 0.025, seriestype=:scatter, markerstrokewidth=0, label=\"±5σ\")\n",
    "# plot!(ex_quadrulev3.points, zeros(ex_quadrulev3.len) .+ 0.040, seriestype=:scatter, markerstrokewidth=0, label=\"±4σ\")"
   ]
  },
  {
   "cell_type": "code",
   "execution_count": 111,
   "metadata": {},
   "outputs": [],
   "source": [
    "# plot(quadrulex.points, quadrulev.points, vec(example.f0.(quadrulex.points, quadrulev.points')), c=:jet1, st=:surface)\n",
    "# xlabel!(\"x\")\n",
    "# ylabel!(\"v\")\n",
    "# # savefig(\"gif/gyrokinetic_example.png\")"
   ]
  },
  {
   "cell_type": "markdown",
   "metadata": {},
   "source": [
    "# Simulations"
   ]
  },
  {
   "cell_type": "code",
   "execution_count": 112,
   "metadata": {},
   "outputs": [
    {
     "name": "stderr",
     "output_type": "stream",
     "text": [
      "\u001b[32mLoop in time: 100%|███████████████████████| Time: 0:00:01 ( 8.58 ms/it)\u001b[39m\n"
     ]
    },
    {
     "name": "stdout",
     "output_type": "stream",
     "text": [
      "  1.292898 seconds (2.82 M allocations: 289.333 MiB, 4.40% gc time)\n"
     ]
    }
   ],
   "source": [
    "gsl = zeros(Complex{Float64}, (nxsl, nvsl));\n",
    "@. gsl = example.f0.(meshx.points, meshv.points');\n",
    "@time resSL, animSL = solve_SL!(nstep, dt, gsl, meshx, meshv, example.kx; plotting=false);"
   ]
  },
  {
   "cell_type": "code",
   "execution_count": 113,
   "metadata": {},
   "outputs": [],
   "source": [
    "if animSL != nothing\n",
    "    gif(animSL, \"gif/tmp.mp4\");\n",
    "end"
   ]
  },
  {
   "cell_type": "markdown",
   "metadata": {},
   "source": [
    "# PIC interpretation"
   ]
  },
  {
   "cell_type": "code",
   "execution_count": 114,
   "metadata": {},
   "outputs": [
    {
     "name": "stderr",
     "output_type": "stream",
     "text": [
      "\u001b[32mLoop in time: 100%|███████████████████████| Time: 0:00:00 ( 2.90 ms/it)\u001b[39m\n"
     ]
    },
    {
     "name": "stdout",
     "output_type": "stream",
     "text": [
      "  0.436580 seconds (72.03 k allocations: 273.005 MiB, 13.52% gc time)\n"
     ]
    }
   ],
   "source": [
    "T = NaN\n",
    "\n",
    "nbparticles = nxpf*nvpf\n",
    "x0_init = copy(vec(repeat(quadrulex.points, 1, nvpf)))\n",
    "v0_init = copy(vec(repeat(quadrulev.points', nxpf, 1)))\n",
    "x0 = copy(vec(repeat(quadrulex.points, 1, nvpf)))\n",
    "v0 = copy(vec(repeat(quadrulev.points', nxpf, 1)))\n",
    "weights = quadrulex.weights .* quadrulev.weights'\n",
    "wei = vec(example.f0.(quadrulex.points, quadrulev.points') .* weights)\n",
    "particles = Particles(x0, v0, wei, nbparticles);\n",
    "@time resPF, animPF = solve_PF!(nstep, dt, particles, meshx, example, vec(weights) ; \n",
    "                                    plotting=false, kernel=kernel_poisson!, T=T);"
   ]
  },
  {
   "cell_type": "code",
   "execution_count": 79,
   "metadata": {},
   "outputs": [],
   "source": [
    "if animPF != nothing\n",
    "    # gif(animPF, \"gif/nonstationary_remapping_T$(@sprintf(\"%03d\", T)).mp4\");\n",
    "    gif(animPF, \"gif/tmp.mp4\");\n",
    "end"
   ]
  },
  {
   "cell_type": "markdown",
   "metadata": {},
   "source": [
    "## Plot particles"
   ]
  },
  {
   "cell_type": "code",
   "execution_count": null,
   "metadata": {},
   "outputs": [],
   "source": [
    "plot(vec(particles.x), vec(particles.v), seriestype=:scatter, markersize=sqrt(600*600 / (nxsl*nvsl) / π) * 0.5, camera=(0, 90), markerstrokecolor=\"white\", markerstrokewidth=0, label=\"\", zcolor=vec(particles.wei), c=:jet1, aspect_ratio=:equal, size=(600, 600), right_margin=5Plots.mm)"
   ]
  },
  {
   "cell_type": "markdown",
   "metadata": {},
   "source": [
    "## Triangulation interpolation"
   ]
  },
  {
   "cell_type": "code",
   "execution_count": null,
   "metadata": {},
   "outputs": [],
   "source": [
    "function plot_triangulation(tri; p=nothing, scaled=false)\n",
    "    if p==nothing \n",
    "        p = plot()\n",
    "    end\n",
    "\n",
    "    @views begin\n",
    "        x1 = tri.pointlist[1, tri.trianglelist'[:, 1]]'\n",
    "        x2 = tri.pointlist[1, tri.trianglelist'[:, 2]]'\n",
    "        x3 = tri.pointlist[1, tri.trianglelist'[:, 3]]'\n",
    "        posX = vec(vcat(x1, x2, x3, x1, NaN*similar(x1)))\n",
    "        v1 = tri.pointlist[2, tri.trianglelist'[:, 1]]'\n",
    "        v2 = tri.pointlist[2, tri.trianglelist'[:, 2]]'\n",
    "        v3 = tri.pointlist[2, tri.trianglelist'[:, 3]]'\n",
    "        posV = vec(vcat(v1, v2, v3, v1, NaN*similar(v1)))\n",
    "    end\n",
    "    if scaled \n",
    "        posX .-= 1; posX .*= example.L\n",
    "        posV .-= 1; posV .*= example.vmax - example.vmin; posV .+= example.vmin;\n",
    "    end\n",
    "    plot!(p, posX, posV, c=:rainbow, label=\"Delaunay Triangulation\", linewidth=0.1)\n",
    "    return p\n",
    "end"
   ]
  },
  {
   "cell_type": "code",
   "execution_count": null,
   "metadata": {},
   "outputs": [],
   "source": [
    "(newf, triangulation) = triangulation_interpolation(particles.wei ./ vec(weights), particles.x, particles.v, x0_init, v0_init, example; returntriangulation=true)\n",
    "newf .*= vec(weights);"
   ]
  },
  {
   "cell_type": "code",
   "execution_count": null,
   "metadata": {},
   "outputs": [],
   "source": [
    "p1 = plot(particles.x, particles.v, seriestype=:scatter, \n",
    "        markersize=sqrt(600*600 / (nxpf*nvpf) / π) * 0.4, camera=(0, 90), \n",
    "        markerstrokecolor=\"white\", markerstrokewidth=0, label=\"Particules\", zcolor=newf,\n",
    "        title=example.shortname * \"\\n($(quadX)($(nxpf)), $(quadV)($(nvpf)))\", titlefontsize=8, c=:jet1)\n",
    "# p1 = plot(x0_init, v0_init, seriestype=:scatter, \n",
    "#         markersize=sqrt(600*600 / (nx*nv) / π) * 0.3, camera=(0, 90), \n",
    "#         markerstrokecolor=\"white\", markerstrokewidth=0, label=\"Particules\", zcolor=newf,\n",
    "#         title=example.shortname * \"\\n($(quadX)($(nx)), $(quadV)($(nv)))\", titlefontsize=8, c=:jet1)\n",
    "plot_triangulation(triangulation; p=p1)\n",
    "# p2 = plot(x0_init, v0_init, newf, st=:surface, camera=(0, 90), title=\"Interpolated\", titlefontsize=8, c=:jet1)\n",
    "# p2 = plot(quadrulex.points, quadrulev.points, reshape(newf, nx, nv)', st=:contour, title=\"Interpolated\", titlefontsize=8, c=:jet1, levels=25)\n",
    "# plot(p1, p2, size=(1200, 600))\n",
    "plot(p1)\n",
    "# plot(p2)"
   ]
  },
  {
   "cell_type": "markdown",
   "metadata": {},
   "source": [
    "### Successive interpolations"
   ]
  },
  {
   "cell_type": "code",
   "execution_count": null,
   "metadata": {},
   "outputs": [],
   "source": [
    "newf = copy(particles.wei) ./ vec(weights)\n",
    "newx = copy(particles.x)\n",
    "newv = copy(particles.v)\n",
    "\n",
    "myplots = []\n",
    "\n",
    "push!(myplots, plot(particles.x, particles.v, seriestype=:scatter, markersize=1, camera=(0, 90), markerstrokecolor=\"white\", markerstrokewidth=0, label=\"\", zcolor=particles.wei, c=:jet1, zticks=[], colorbar=false, titlefontsize=8))\n",
    "title!(example.shortname * \"\\n($quadX($nxpf), $quadV($nvpf)),\\nafter time $(nstep*dt)\", titlefontsize=8)\n",
    "\n",
    "tokeep = [1, 2, 5, 10, 20]\n",
    "@showprogress for i = 1:maximum(tokeep)\n",
    "    (newf, triangulation) = triangulation_interpolation(newf, newx, newv, x0_init, v0_init, example; returntriangulation=true)\n",
    "    (i ∈ tokeep) && (push!(myplots, plot(x0_init, v0_init, newf .* vec(weights), st=:surface, camera=(0, 90), title=\"Interpolated $i times\", titlefontsize=8, c=:jet1, zcolor=particles.wei, colorbar=false, zticks=[],\n",
    "    margin=10Plots.mm)))\n",
    "    # we now know `newf` at x0_init, v0_init so we update newx, newv\n",
    "    newx = copy(x0_init) .+ rand() * (quadrulex.points[2] - quadrulex.points[1]) * 0.5\n",
    "    newv = copy(v0_init) .+ rand() * (quadrulev.points[2] - quadrulev.points[1]) * 0.5\n",
    "end"
   ]
  },
  {
   "cell_type": "code",
   "execution_count": null,
   "metadata": {},
   "outputs": [],
   "source": [
    "cbar = scatter([0,0], [0,1], zcolor=particles.wei,\n",
    "                xlims=(1,1.1), xshowaxis=false, xticks=[],\n",
    "                yshowaxis=false, yticks=[],\n",
    "                label=\"\", c=:jet1, grid=false, \n",
    "                left_margin=25Plots.mm, right_margin=3Plots.mm)\n",
    "\n",
    "l = @layout [\n",
    "    [grid(2,3)] a{0.01w}\n",
    "]\n",
    "plot(myplots..., cbar, layout=l, size=(1000, 600))"
   ]
  },
  {
   "cell_type": "code",
   "execution_count": null,
   "metadata": {},
   "outputs": [],
   "source": [
    "savefig(imgdir * \"$(example.shortname)_successive_interpolations_afterfixing_periodic.png\")"
   ]
  },
  {
   "cell_type": "markdown",
   "metadata": {},
   "source": [
    "# Classical PIC"
   ]
  },
  {
   "cell_type": "code",
   "execution_count": null,
   "metadata": {},
   "outputs": [],
   "source": [
    "# nbparticlespic = Int64(2e5)\n",
    "# (x0, y0, wei) = samples(np, example.kx, example.α, example.μ, example.β)\n",
    "# p = Particles(x0, y0, wei, nbparticlespic);\n",
    "# @time E_elecpic, momentumpic, E_totpic, animation = solve_PIC!(nstep, dt, p, meshx;plotting=false, kx=example.kx);"
   ]
  },
  {
   "cell_type": "markdown",
   "metadata": {},
   "source": [
    "# Plots"
   ]
  },
  {
   "cell_type": "code",
   "execution_count": null,
   "metadata": {},
   "outputs": [],
   "source": [
    "t = (1:nstep) .* dt\n",
    "\n",
    "\n",
    "plot(legend=:bottomright, minorgrid=true, size=(600, 400))\n",
    "\n",
    "# energies\n",
    "# plot!(t .+ dt,   resPF.Eelec, label=L\"\\log_{10}(E_{elec, PF}),\\quad dt=\"*\"$(dt)\")\n",
    "# plot!(t .- dt/2, resSL.Eelec, label=L\"\\log_{10}(E_{elec, SL}),\\quad dt=\"*\"$(dt)\", ls=:dash, lw=1)\n",
    "\n",
    "# log(Energies)\n",
    "plot!(t .+ dt,   log10.(resPF.Eelec), label=L\"\\log_{10}(E_{elec, PF}),\\quad dt=\"*\"$(dt)\")\n",
    "plot!(t .- dt/2, log10.(resSL.Eelec), label=L\"\\log_{10}(E_{elec, SL}),\\quad dt=\"*\"$(dt)\", ls=:dash, lw=1)\n",
    "# plot!(t, log.(E_tot),       label=L\"\\log(E_{tot}),\\quad dt=\"*\"$(dt)\")\n",
    "# plot!(t, log.(E_elecpic), label=L\"$\\log(E_{elec, PIC}),\\quad$ dt=\"*\"$(dt), \"* L\"$n_p$ =\"*\"$(nbparticlespic)\", ls=:dot)\n",
    "# plot!(t, log.(energy_from_projection), label=L\"\\log(E_{pic, PIC}),\\quad dt=\"*\"$(dt)\")\n",
    "# plot!(t, log.(energy_elec_from_phi), label=L\"\\log(E_{from\\,\\Phi, PIC}),\\quad dt=\"*\"$(dt)\")\n",
    "\n",
    "\n",
    "# ============== #\n",
    "\n",
    "# Landau damping (kx=0.5):\n",
    "# plot!(x->-0.1533x - 5.6, label=\"Damping attendu (-0.1533)\")\n",
    "# E_th = abs.(4ϵ * 0.3677 .* exp.(−0.1533 .* t) .* cos.(1.4156.*t .−0.5326245)) * sqrt(L/2)\n",
    "# plot!(t, log.(E_th),label=\"Energie theorique\")\n",
    "# Landau damping (kx=0.4):\n",
    "# plot!(x->-0.0661x - 5.3, label=\"Damping attendu (-0.0661)\")\n",
    "# E_th = 0.002.*0.42466.*abs.(cos.(1.285.*t .-0.33577)).*exp.(-0.0661.*t) # expression du bouquin, pas correcte\n",
    "# E_th = abs.(4*ϵ*0.424666*exp.(-0.0661 .* t) .* cos.(1.2850 .* t .- 0.3357725) * sqrt(L/2)) # issue des calculs du bouquin en calculant correctement √(∫sin(0.5x)^2dx)\n",
    "# plot!(t, log.(E_th),label=\"Energie theorique\", ls=:dashdotdot)\n",
    "\n",
    "# TSI (k,v0) = (0.2, 1.3):\n",
    "# plot!(t, -0.001t .- 4.2, label=L\"y=0.001t - 5.0\")\n",
    "# TSI (k,v0) = (0.2, 2.4):\n",
    "# plot!(t, 0.2258t .- 6.4, label=L\"y=0.2258t - 8.4\")\n",
    "# TSI (k,v0) = (0.2, 3):\n",
    "# plot!(t, 0.2845t .- 6.2, label=L\"y=0.2845t - 8.2\")\n",
    "\n",
    "# Strong Landau damping\n",
    "# plot!(t, -0.285473t .+ 1, label=L\"y=-0.285473t + 1\")\n",
    "# plot!(t, 0.086671t .- 3.7, label=L\"y=0.086671t - 3.7\")\n",
    "\n",
    "title!(example.longname * \"\\n($(quadX)($(nxpf)), $(quadV)($(nvpf)))\", titlefontsize=8)\n",
    "xlabel!(\"t (T=$(T))\")\n",
    "# xlabel!(\"time\")"
   ]
  },
  {
   "cell_type": "code",
   "execution_count": null,
   "metadata": {},
   "outputs": [],
   "source": [
    "savefig(imgdir*\"/tmp.png\")"
   ]
  },
  {
   "cell_type": "markdown",
   "metadata": {},
   "source": [
    "# Plot annotations"
   ]
  },
  {
   "cell_type": "code",
   "execution_count": null,
   "metadata": {},
   "outputs": [],
   "source": [
    "period = 2π / 1.4156\n",
    "vline!(vcat([4 + i*period for i=0:4], [49.5 + i*period for i=0:3]), label=\"\")\n",
    "# vline!([28.1 + i*p for i=-4:0], label=\"\")"
   ]
  },
  {
   "cell_type": "code",
   "execution_count": null,
   "metadata": {},
   "outputs": [],
   "source": [
    "plot!([49.5, 49.5+period], [-10, -10], arrow=arrow(:closed, :both), label=\"\")\n",
    "annotate!((51.5, -10.3, text(L\"\\frac{2\\pi}{1.4156}\", :top, 10)))"
   ]
  },
  {
   "cell_type": "markdown",
   "metadata": {},
   "source": [
    "# Quantités conservatives (SL Généralisé)"
   ]
  },
  {
   "cell_type": "markdown",
   "metadata": {},
   "source": [
    "## Variation d'énergie totale"
   ]
  },
  {
   "cell_type": "code",
   "execution_count": null,
   "metadata": {},
   "outputs": [],
   "source": [
    "p11 = plot(t, resPF.Etot, label=\"\", minorgrid=true)\n",
    "title!(p11, \"Énergie totale (PF)\")\n",
    "p12 = plot(t, (resPF.Etot .- resPF.Etot[1]) ./ resPF.Etot[1], label=\"\", minorgrid=true)\n",
    "title!(p12, \"Relative (PF)\")\n",
    "p21 = plot(t, resSL.Etot, label=\"\", minorgrid=true)\n",
    "title!(p21, \"Énergie totale (SL)\")\n",
    "p22 = plot(t, (resSL.Etot .- resSL.Etot[1]) ./ resSL.Etot[1], label=\"\", minorgrid=true)\n",
    "title!(p22, \"Relative (SL)\")\n",
    "plt=plot(p11, p12, p21, p22, size=(800, 600), layout=(2, 2))"
   ]
  },
  {
   "cell_type": "code",
   "execution_count": null,
   "metadata": {},
   "outputs": [],
   "source": [
    "p11 = plot(t, E_totpic, label=\"\")\n",
    "title!(p11, \"Énergie totale (PIC)\")\n",
    "p12 = plot(t, (E_totpic .- E_totpic[1]) ./ E_totpic[1], label=\"\")\n",
    "title!(p12, \"Relative (PIC)\")\n",
    "plt=plot(p11, p12, size=(800, 600), layout=(2, 1))"
   ]
  },
  {
   "cell_type": "markdown",
   "metadata": {},
   "source": [
    "## Variations du moment"
   ]
  },
  {
   "cell_type": "code",
   "execution_count": null,
   "metadata": {},
   "outputs": [],
   "source": [
    "p11 = plot(t, resPF.momentum, label=\"\", minorgrid=true)\n",
    "title!(p11, \"Momentum (PF)\")\n",
    "p12 = plot(t, (resPF.momentum .- resPF.momentum[1]) ./ resPF.momentum[1], label=\"\", minorgrid=true)\n",
    "title!(p12, \"Relatif (PF)\")\n",
    "p21 = plot(t, resSL.momentum, label=\"\", minorgrid=true)\n",
    "title!(p21, \"Momentum (SL)\")\n",
    "p22 = plot(t, (resSL.momentum .- resSL.momentum[1]) ./ resSL.momentum[1], label=\"\", minorgrid=true)\n",
    "title!(p22, \"Relatif (SL)\")\n",
    "plt=plot(p11, p12, p21, p22, size=(800, 600), layout=(2, 2))"
   ]
  },
  {
   "cell_type": "code",
   "execution_count": null,
   "metadata": {},
   "outputs": [],
   "source": [
    "p1 = plot(t, momentumpic, label=\"\", minorgrid=true)\n",
    "title!(p1, \"Momentum (PIC)\")\n",
    "p2 = plot(t, (momentumpic .- momentumpic[1]) ./ momentumpic[1], label=\"\", minorgrid=true)\n",
    "title!(p2, \"Relative (PIC)\")\n",
    "plt=plot(p1, p2, size=(800, 600), layout=(2, 1))"
   ]
  },
  {
   "cell_type": "markdown",
   "metadata": {},
   "source": [
    "## Variations norme $L^2$"
   ]
  },
  {
   "cell_type": "code",
   "execution_count": null,
   "metadata": {},
   "outputs": [],
   "source": [
    "p11 = plot(t, resPF.L²norm, label=\"\", minorgrid=true)\n",
    "title!(p11, L\"\\mathbb{L}^2\"*\" (PF)\")\n",
    "p12 = plot(t, (resPF.L²norm .- resPF.L²norm[1]) ./ resPF.L²norm[1], label=\"\", minorgrid=true)\n",
    "title!(p12, \"Relatif (PF)\")\n",
    "p21 = plot(t, resSL.L²norm, label=\"\", minorgrid=true)\n",
    "title!(p21, L\"\\mathbb{L}^2\"*\" (SL)\")\n",
    "p22 = plot(t, (resSL.L²norm .- resSL.L²norm[1]) ./ resSL.L²norm[1], label=\"\", minorgrid=true)\n",
    "title!(p22, \"Relatif (SL)\")\n",
    "plt=plot(p11, p12, p21, p22, size=(800, 600), layout=(2, 2))"
   ]
  },
  {
   "cell_type": "markdown",
   "metadata": {},
   "source": [
    "## Visualisation des points de quadrature"
   ]
  },
  {
   "cell_type": "code",
   "execution_count": null,
   "metadata": {},
   "outputs": [],
   "source": [
    "visualization_quadrulex = TrapezoidalRule(16, 0, example.L)\n",
    "visualization_quadrulev = GaussHermiteRule(64, example.vmin, example.vmax)\n",
    "\n",
    "gridx_init = copy(vec(repeat(visualization_quadrulex.points, 1, visualization_quadrulev.len)))\n",
    "gridv_init = copy(vec(repeat(visualization_quadrulev.points', visualization_quadrulex.len, 1)))\n",
    "plot(gridx_init, gridv_init, seriestype=:scatter, markersize=sqrt(600*600 / (nxpf*nvpf) / π) * 0.5, camera=(0, 90), markerstrokecolor=nothing, markerstrokewidth=0, label=\"\", zcolor=vec(example.f0.(gridx_init, gridv_init')), c=:rainbow)"
   ]
  },
  {
   "cell_type": "markdown",
   "metadata": {},
   "source": [
    "# Other quantities of interest"
   ]
  },
  {
   "cell_type": "markdown",
   "metadata": {},
   "source": [
    "## $\\int f dv$, $\\int fdx$"
   ]
  },
  {
   "cell_type": "code",
   "execution_count": 115,
   "metadata": {},
   "outputs": [
    {
     "data": {
      "text/plain": [
       "∫f (generic function with 2 methods)"
      ]
     },
     "execution_count": 115,
     "metadata": {},
     "output_type": "execute_result"
    }
   ],
   "source": [
    "function ∫f(pos, w, mesh)\n",
    "    # cleanpos = sort(unique(pos))\n",
    "    # idunique = indexin(cleanpos, pos)\n",
    "    # toplot = Vector{Float64}(undef, length(idunique))\n",
    "    # for idu = 1:length(idunique)\n",
    "    #     toplot[idu] = sum(w[findall(pos .≈ cleanpos[idu])])\n",
    "    # end\n",
    "\n",
    "    toplot = Float64[]\n",
    "    for p=mesh.points\n",
    "        push!(toplot, sum(w[findall((pos .> (p - mesh.step/2)) .&& (pos .< (p + mesh.step/2)))]))\n",
    "    end\n",
    "\n",
    "    return toplot\n",
    "end"
   ]
  },
  {
   "cell_type": "code",
   "execution_count": 116,
   "metadata": {},
   "outputs": [
    {
     "data": {
      "image/svg+xml": "<?xml version=\"1.0\" encoding=\"utf-8\"?>\n<svg xmlns=\"http://www.w3.org/2000/svg\" xmlns:xlink=\"http://www.w3.org/1999/xlink\" width=\"1000\" height=\"500\" viewBox=\"0 0 4000 2000\">\n<defs>\n  <clipPath id=\"clip630\">\n    <rect x=\"0\" y=\"0\" width=\"4000\" height=\"2000\"/>\n  </clipPath>\n</defs>\n<path clip-path=\"url(#clip630)\" d=\"\nM0 2000 L4000 2000 L4000 0 L0 0  Z\n  \" fill=\"#ffffff\" fill-rule=\"evenodd\" fill-opacity=\"1\"/>\n<defs>\n  <clipPath id=\"clip631\">\n    <rect x=\"800\" y=\"0\" width=\"2801\" height=\"2000\"/>\n  </clipPath>\n</defs>\n<path clip-path=\"url(#clip630)\" d=\"\nM235.266 1776.71 L1911.81 1776.71 L1911.81 171.344 L235.266 171.344  Z\n  \" fill=\"#ffffff\" fill-rule=\"evenodd\" fill-opacity=\"1\"/>\n<defs>\n  <clipPath id=\"clip632\">\n    <rect x=\"235\" y=\"171\" width=\"1678\" height=\"1606\"/>\n  </clipPath>\n</defs>\n<polyline clip-path=\"url(#clip632)\" style=\"stroke:#000000; stroke-linecap:butt; stroke-linejoin:round; stroke-width:2; stroke-opacity:0.1; fill:none\" points=\"\n  282.716,1776.71 282.716,171.344 \n  \"/>\n<polyline clip-path=\"url(#clip632)\" style=\"stroke:#000000; stroke-linecap:butt; stroke-linejoin:round; stroke-width:2; stroke-opacity:0.1; fill:none\" points=\"\n  536.425,1776.71 536.425,171.344 \n  \"/>\n<polyline clip-path=\"url(#clip632)\" style=\"stroke:#000000; stroke-linecap:butt; stroke-linejoin:round; stroke-width:2; stroke-opacity:0.1; fill:none\" points=\"\n  790.134,1776.71 790.134,171.344 \n  \"/>\n<polyline clip-path=\"url(#clip632)\" style=\"stroke:#000000; stroke-linecap:butt; stroke-linejoin:round; stroke-width:2; stroke-opacity:0.1; fill:none\" points=\"\n  1043.84,1776.71 1043.84,171.344 \n  \"/>\n<polyline clip-path=\"url(#clip632)\" style=\"stroke:#000000; stroke-linecap:butt; stroke-linejoin:round; stroke-width:2; stroke-opacity:0.1; fill:none\" points=\"\n  1297.55,1776.71 1297.55,171.344 \n  \"/>\n<polyline clip-path=\"url(#clip632)\" style=\"stroke:#000000; stroke-linecap:butt; stroke-linejoin:round; stroke-width:2; stroke-opacity:0.1; fill:none\" points=\"\n  1551.26,1776.71 1551.26,171.344 \n  \"/>\n<polyline clip-path=\"url(#clip632)\" style=\"stroke:#000000; stroke-linecap:butt; stroke-linejoin:round; stroke-width:2; stroke-opacity:0.1; fill:none\" points=\"\n  1804.97,1776.71 1804.97,171.344 \n  \"/>\n<polyline clip-path=\"url(#clip632)\" style=\"stroke:#000000; stroke-linecap:butt; stroke-linejoin:round; stroke-width:2; stroke-opacity:0.05; fill:none\" points=\"\n  333.458,1776.71 333.458,171.344 \n  \"/>\n<polyline clip-path=\"url(#clip632)\" style=\"stroke:#000000; stroke-linecap:butt; stroke-linejoin:round; stroke-width:2; stroke-opacity:0.05; fill:none\" points=\"\n  384.199,1776.71 384.199,171.344 \n  \"/>\n<polyline clip-path=\"url(#clip632)\" style=\"stroke:#000000; stroke-linecap:butt; stroke-linejoin:round; stroke-width:2; stroke-opacity:0.05; fill:none\" points=\"\n  434.941,1776.71 434.941,171.344 \n  \"/>\n<polyline clip-path=\"url(#clip632)\" style=\"stroke:#000000; stroke-linecap:butt; stroke-linejoin:round; stroke-width:2; stroke-opacity:0.05; fill:none\" points=\"\n  485.683,1776.71 485.683,171.344 \n  \"/>\n<polyline clip-path=\"url(#clip632)\" style=\"stroke:#000000; stroke-linecap:butt; stroke-linejoin:round; stroke-width:2; stroke-opacity:0.05; fill:none\" points=\"\n  587.167,1776.71 587.167,171.344 \n  \"/>\n<polyline clip-path=\"url(#clip632)\" style=\"stroke:#000000; stroke-linecap:butt; stroke-linejoin:round; stroke-width:2; stroke-opacity:0.05; fill:none\" points=\"\n  637.908,1776.71 637.908,171.344 \n  \"/>\n<polyline clip-path=\"url(#clip632)\" style=\"stroke:#000000; stroke-linecap:butt; stroke-linejoin:round; stroke-width:2; stroke-opacity:0.05; fill:none\" points=\"\n  688.65,1776.71 688.65,171.344 \n  \"/>\n<polyline clip-path=\"url(#clip632)\" style=\"stroke:#000000; stroke-linecap:butt; stroke-linejoin:round; stroke-width:2; stroke-opacity:0.05; fill:none\" points=\"\n  739.392,1776.71 739.392,171.344 \n  \"/>\n<polyline clip-path=\"url(#clip632)\" style=\"stroke:#000000; stroke-linecap:butt; stroke-linejoin:round; stroke-width:2; stroke-opacity:0.05; fill:none\" points=\"\n  840.876,1776.71 840.876,171.344 \n  \"/>\n<polyline clip-path=\"url(#clip632)\" style=\"stroke:#000000; stroke-linecap:butt; stroke-linejoin:round; stroke-width:2; stroke-opacity:0.05; fill:none\" points=\"\n  891.617,1776.71 891.617,171.344 \n  \"/>\n<polyline clip-path=\"url(#clip632)\" style=\"stroke:#000000; stroke-linecap:butt; stroke-linejoin:round; stroke-width:2; stroke-opacity:0.05; fill:none\" points=\"\n  942.359,1776.71 942.359,171.344 \n  \"/>\n<polyline clip-path=\"url(#clip632)\" style=\"stroke:#000000; stroke-linecap:butt; stroke-linejoin:round; stroke-width:2; stroke-opacity:0.05; fill:none\" points=\"\n  993.101,1776.71 993.101,171.344 \n  \"/>\n<polyline clip-path=\"url(#clip632)\" style=\"stroke:#000000; stroke-linecap:butt; stroke-linejoin:round; stroke-width:2; stroke-opacity:0.05; fill:none\" points=\"\n  1094.58,1776.71 1094.58,171.344 \n  \"/>\n<polyline clip-path=\"url(#clip632)\" style=\"stroke:#000000; stroke-linecap:butt; stroke-linejoin:round; stroke-width:2; stroke-opacity:0.05; fill:none\" points=\"\n  1145.33,1776.71 1145.33,171.344 \n  \"/>\n<polyline clip-path=\"url(#clip632)\" style=\"stroke:#000000; stroke-linecap:butt; stroke-linejoin:round; stroke-width:2; stroke-opacity:0.05; fill:none\" points=\"\n  1196.07,1776.71 1196.07,171.344 \n  \"/>\n<polyline clip-path=\"url(#clip632)\" style=\"stroke:#000000; stroke-linecap:butt; stroke-linejoin:round; stroke-width:2; stroke-opacity:0.05; fill:none\" points=\"\n  1246.81,1776.71 1246.81,171.344 \n  \"/>\n<polyline clip-path=\"url(#clip632)\" style=\"stroke:#000000; stroke-linecap:butt; stroke-linejoin:round; stroke-width:2; stroke-opacity:0.05; fill:none\" points=\"\n  1348.29,1776.71 1348.29,171.344 \n  \"/>\n<polyline clip-path=\"url(#clip632)\" style=\"stroke:#000000; stroke-linecap:butt; stroke-linejoin:round; stroke-width:2; stroke-opacity:0.05; fill:none\" points=\"\n  1399.04,1776.71 1399.04,171.344 \n  \"/>\n<polyline clip-path=\"url(#clip632)\" style=\"stroke:#000000; stroke-linecap:butt; stroke-linejoin:round; stroke-width:2; stroke-opacity:0.05; fill:none\" points=\"\n  1449.78,1776.71 1449.78,171.344 \n  \"/>\n<polyline clip-path=\"url(#clip632)\" style=\"stroke:#000000; stroke-linecap:butt; stroke-linejoin:round; stroke-width:2; stroke-opacity:0.05; fill:none\" points=\"\n  1500.52,1776.71 1500.52,171.344 \n  \"/>\n<polyline clip-path=\"url(#clip632)\" style=\"stroke:#000000; stroke-linecap:butt; stroke-linejoin:round; stroke-width:2; stroke-opacity:0.05; fill:none\" points=\"\n  1602,1776.71 1602,171.344 \n  \"/>\n<polyline clip-path=\"url(#clip632)\" style=\"stroke:#000000; stroke-linecap:butt; stroke-linejoin:round; stroke-width:2; stroke-opacity:0.05; fill:none\" points=\"\n  1652.74,1776.71 1652.74,171.344 \n  \"/>\n<polyline clip-path=\"url(#clip632)\" style=\"stroke:#000000; stroke-linecap:butt; stroke-linejoin:round; stroke-width:2; stroke-opacity:0.05; fill:none\" points=\"\n  1703.49,1776.71 1703.49,171.344 \n  \"/>\n<polyline clip-path=\"url(#clip632)\" style=\"stroke:#000000; stroke-linecap:butt; stroke-linejoin:round; stroke-width:2; stroke-opacity:0.05; fill:none\" points=\"\n  1754.23,1776.71 1754.23,171.344 \n  \"/>\n<polyline clip-path=\"url(#clip632)\" style=\"stroke:#000000; stroke-linecap:butt; stroke-linejoin:round; stroke-width:2; stroke-opacity:0.05; fill:none\" points=\"\n  1855.71,1776.71 1855.71,171.344 \n  \"/>\n<polyline clip-path=\"url(#clip632)\" style=\"stroke:#000000; stroke-linecap:butt; stroke-linejoin:round; stroke-width:2; stroke-opacity:0.05; fill:none\" points=\"\n  1906.45,1776.71 1906.45,171.344 \n  \"/>\n<polyline clip-path=\"url(#clip630)\" style=\"stroke:#000000; stroke-linecap:butt; stroke-linejoin:round; stroke-width:4; stroke-opacity:1; fill:none\" points=\"\n  235.266,1776.71 1911.81,1776.71 \n  \"/>\n<polyline clip-path=\"url(#clip630)\" style=\"stroke:#000000; stroke-linecap:butt; stroke-linejoin:round; stroke-width:4; stroke-opacity:1; fill:none\" points=\"\n  282.716,1776.71 282.716,1757.81 \n  \"/>\n<polyline clip-path=\"url(#clip630)\" style=\"stroke:#000000; stroke-linecap:butt; stroke-linejoin:round; stroke-width:4; stroke-opacity:1; fill:none\" points=\"\n  536.425,1776.71 536.425,1757.81 \n  \"/>\n<polyline clip-path=\"url(#clip630)\" style=\"stroke:#000000; stroke-linecap:butt; stroke-linejoin:round; stroke-width:4; stroke-opacity:1; fill:none\" points=\"\n  790.134,1776.71 790.134,1757.81 \n  \"/>\n<polyline clip-path=\"url(#clip630)\" style=\"stroke:#000000; stroke-linecap:butt; stroke-linejoin:round; stroke-width:4; stroke-opacity:1; fill:none\" points=\"\n  1043.84,1776.71 1043.84,1757.81 \n  \"/>\n<polyline clip-path=\"url(#clip630)\" style=\"stroke:#000000; stroke-linecap:butt; stroke-linejoin:round; stroke-width:4; stroke-opacity:1; fill:none\" points=\"\n  1297.55,1776.71 1297.55,1757.81 \n  \"/>\n<polyline clip-path=\"url(#clip630)\" style=\"stroke:#000000; stroke-linecap:butt; stroke-linejoin:round; stroke-width:4; stroke-opacity:1; fill:none\" points=\"\n  1551.26,1776.71 1551.26,1757.81 \n  \"/>\n<polyline clip-path=\"url(#clip630)\" style=\"stroke:#000000; stroke-linecap:butt; stroke-linejoin:round; stroke-width:4; stroke-opacity:1; fill:none\" points=\"\n  1804.97,1776.71 1804.97,1757.81 \n  \"/>\n<polyline clip-path=\"url(#clip630)\" style=\"stroke:#000000; stroke-linecap:butt; stroke-linejoin:round; stroke-width:4; stroke-opacity:1; fill:none\" points=\"\n  333.458,1776.71 333.458,1767.26 \n  \"/>\n<polyline clip-path=\"url(#clip630)\" style=\"stroke:#000000; stroke-linecap:butt; stroke-linejoin:round; stroke-width:4; stroke-opacity:1; fill:none\" points=\"\n  384.199,1776.71 384.199,1767.26 \n  \"/>\n<polyline clip-path=\"url(#clip630)\" style=\"stroke:#000000; stroke-linecap:butt; stroke-linejoin:round; stroke-width:4; stroke-opacity:1; fill:none\" points=\"\n  434.941,1776.71 434.941,1767.26 \n  \"/>\n<polyline clip-path=\"url(#clip630)\" style=\"stroke:#000000; stroke-linecap:butt; stroke-linejoin:round; stroke-width:4; stroke-opacity:1; fill:none\" points=\"\n  485.683,1776.71 485.683,1767.26 \n  \"/>\n<polyline clip-path=\"url(#clip630)\" style=\"stroke:#000000; stroke-linecap:butt; stroke-linejoin:round; stroke-width:4; stroke-opacity:1; fill:none\" points=\"\n  587.167,1776.71 587.167,1767.26 \n  \"/>\n<polyline clip-path=\"url(#clip630)\" style=\"stroke:#000000; stroke-linecap:butt; stroke-linejoin:round; stroke-width:4; stroke-opacity:1; fill:none\" points=\"\n  637.908,1776.71 637.908,1767.26 \n  \"/>\n<polyline clip-path=\"url(#clip630)\" style=\"stroke:#000000; stroke-linecap:butt; stroke-linejoin:round; stroke-width:4; stroke-opacity:1; fill:none\" points=\"\n  688.65,1776.71 688.65,1767.26 \n  \"/>\n<polyline clip-path=\"url(#clip630)\" style=\"stroke:#000000; stroke-linecap:butt; stroke-linejoin:round; stroke-width:4; stroke-opacity:1; fill:none\" points=\"\n  739.392,1776.71 739.392,1767.26 \n  \"/>\n<polyline clip-path=\"url(#clip630)\" style=\"stroke:#000000; stroke-linecap:butt; stroke-linejoin:round; stroke-width:4; stroke-opacity:1; fill:none\" points=\"\n  840.876,1776.71 840.876,1767.26 \n  \"/>\n<polyline clip-path=\"url(#clip630)\" style=\"stroke:#000000; stroke-linecap:butt; stroke-linejoin:round; stroke-width:4; stroke-opacity:1; fill:none\" points=\"\n  891.617,1776.71 891.617,1767.26 \n  \"/>\n<polyline clip-path=\"url(#clip630)\" style=\"stroke:#000000; stroke-linecap:butt; stroke-linejoin:round; stroke-width:4; stroke-opacity:1; fill:none\" points=\"\n  942.359,1776.71 942.359,1767.26 \n  \"/>\n<polyline clip-path=\"url(#clip630)\" style=\"stroke:#000000; stroke-linecap:butt; stroke-linejoin:round; stroke-width:4; stroke-opacity:1; fill:none\" points=\"\n  993.101,1776.71 993.101,1767.26 \n  \"/>\n<polyline clip-path=\"url(#clip630)\" style=\"stroke:#000000; stroke-linecap:butt; stroke-linejoin:round; stroke-width:4; stroke-opacity:1; fill:none\" points=\"\n  1094.58,1776.71 1094.58,1767.26 \n  \"/>\n<polyline clip-path=\"url(#clip630)\" style=\"stroke:#000000; stroke-linecap:butt; stroke-linejoin:round; stroke-width:4; stroke-opacity:1; fill:none\" points=\"\n  1145.33,1776.71 1145.33,1767.26 \n  \"/>\n<polyline clip-path=\"url(#clip630)\" style=\"stroke:#000000; stroke-linecap:butt; stroke-linejoin:round; stroke-width:4; stroke-opacity:1; fill:none\" points=\"\n  1196.07,1776.71 1196.07,1767.26 \n  \"/>\n<polyline clip-path=\"url(#clip630)\" style=\"stroke:#000000; stroke-linecap:butt; stroke-linejoin:round; stroke-width:4; stroke-opacity:1; fill:none\" points=\"\n  1246.81,1776.71 1246.81,1767.26 \n  \"/>\n<polyline clip-path=\"url(#clip630)\" style=\"stroke:#000000; stroke-linecap:butt; stroke-linejoin:round; stroke-width:4; stroke-opacity:1; fill:none\" points=\"\n  1348.29,1776.71 1348.29,1767.26 \n  \"/>\n<polyline clip-path=\"url(#clip630)\" style=\"stroke:#000000; stroke-linecap:butt; stroke-linejoin:round; stroke-width:4; stroke-opacity:1; fill:none\" points=\"\n  1399.04,1776.71 1399.04,1767.26 \n  \"/>\n<polyline clip-path=\"url(#clip630)\" style=\"stroke:#000000; stroke-linecap:butt; stroke-linejoin:round; stroke-width:4; stroke-opacity:1; fill:none\" points=\"\n  1449.78,1776.71 1449.78,1767.26 \n  \"/>\n<polyline clip-path=\"url(#clip630)\" style=\"stroke:#000000; stroke-linecap:butt; stroke-linejoin:round; stroke-width:4; stroke-opacity:1; fill:none\" points=\"\n  1500.52,1776.71 1500.52,1767.26 \n  \"/>\n<polyline clip-path=\"url(#clip630)\" style=\"stroke:#000000; stroke-linecap:butt; stroke-linejoin:round; stroke-width:4; stroke-opacity:1; fill:none\" points=\"\n  1602,1776.71 1602,1767.26 \n  \"/>\n<polyline clip-path=\"url(#clip630)\" style=\"stroke:#000000; stroke-linecap:butt; stroke-linejoin:round; stroke-width:4; stroke-opacity:1; fill:none\" points=\"\n  1652.74,1776.71 1652.74,1767.26 \n  \"/>\n<polyline clip-path=\"url(#clip630)\" style=\"stroke:#000000; stroke-linecap:butt; stroke-linejoin:round; stroke-width:4; stroke-opacity:1; fill:none\" points=\"\n  1703.49,1776.71 1703.49,1767.26 \n  \"/>\n<polyline clip-path=\"url(#clip630)\" style=\"stroke:#000000; stroke-linecap:butt; stroke-linejoin:round; stroke-width:4; stroke-opacity:1; fill:none\" points=\"\n  1754.23,1776.71 1754.23,1767.26 \n  \"/>\n<polyline clip-path=\"url(#clip630)\" style=\"stroke:#000000; stroke-linecap:butt; stroke-linejoin:round; stroke-width:4; stroke-opacity:1; fill:none\" points=\"\n  1855.71,1776.71 1855.71,1767.26 \n  \"/>\n<polyline clip-path=\"url(#clip630)\" style=\"stroke:#000000; stroke-linecap:butt; stroke-linejoin:round; stroke-width:4; stroke-opacity:1; fill:none\" points=\"\n  1906.45,1776.71 1906.45,1767.26 \n  \"/>\n<path clip-path=\"url(#clip630)\" d=\"M282.716 1820.43 Q279.105 1820.43 277.276 1823.99 Q275.47 1827.53 275.47 1834.66 Q275.47 1841.77 277.276 1845.33 Q279.105 1848.88 282.716 1848.88 Q286.35 1848.88 288.155 1845.33 Q289.984 1841.77 289.984 1834.66 Q289.984 1827.53 288.155 1823.99 Q286.35 1820.43 282.716 1820.43 M282.716 1816.72 Q288.526 1816.72 291.581 1821.33 Q294.66 1825.91 294.66 1834.66 Q294.66 1843.39 291.581 1848 Q288.526 1852.58 282.716 1852.58 Q276.906 1852.58 273.827 1848 Q270.771 1843.39 270.771 1834.66 Q270.771 1825.91 273.827 1821.33 Q276.906 1816.72 282.716 1816.72 Z\" fill=\"#000000\" fill-rule=\"evenodd\" fill-opacity=\"1\" /><path clip-path=\"url(#clip630)\" d=\"M531.078 1847.97 L547.397 1847.97 L547.397 1851.91 L525.453 1851.91 L525.453 1847.97 Q528.115 1845.22 532.698 1840.59 Q537.304 1835.94 538.485 1834.59 Q540.73 1832.07 541.61 1830.33 Q542.513 1828.57 542.513 1826.88 Q542.513 1824.13 540.568 1822.39 Q538.647 1820.66 535.545 1820.66 Q533.346 1820.66 530.892 1821.42 Q528.462 1822.19 525.684 1823.74 L525.684 1819.01 Q528.508 1817.88 530.962 1817.3 Q533.416 1816.72 535.453 1816.72 Q540.823 1816.72 544.017 1819.41 Q547.212 1822.09 547.212 1826.58 Q547.212 1828.71 546.402 1830.63 Q545.615 1832.53 543.508 1835.13 Q542.929 1835.8 539.828 1839.01 Q536.726 1842.21 531.078 1847.97 Z\" fill=\"#000000\" fill-rule=\"evenodd\" fill-opacity=\"1\" /><path clip-path=\"url(#clip630)\" d=\"M793.143 1821.42 L781.338 1839.87 L793.143 1839.87 L793.143 1821.42 M791.916 1817.35 L797.796 1817.35 L797.796 1839.87 L802.726 1839.87 L802.726 1843.76 L797.796 1843.76 L797.796 1851.91 L793.143 1851.91 L793.143 1843.76 L777.541 1843.76 L777.541 1839.25 L791.916 1817.35 Z\" fill=\"#000000\" fill-rule=\"evenodd\" fill-opacity=\"1\" /><path clip-path=\"url(#clip630)\" d=\"M1044.25 1832.76 Q1041.1 1832.76 1039.25 1834.92 Q1037.42 1837.07 1037.42 1840.82 Q1037.42 1844.55 1039.25 1846.72 Q1041.1 1848.88 1044.25 1848.88 Q1047.4 1848.88 1049.22 1846.72 Q1051.08 1844.55 1051.08 1840.82 Q1051.08 1837.07 1049.22 1834.92 Q1047.4 1832.76 1044.25 1832.76 M1053.53 1818.11 L1053.53 1822.37 Q1051.77 1821.54 1049.97 1821.1 Q1048.18 1820.66 1046.42 1820.66 Q1041.79 1820.66 1039.34 1823.78 Q1036.91 1826.91 1036.56 1833.23 Q1037.93 1831.21 1039.99 1830.15 Q1042.05 1829.06 1044.53 1829.06 Q1049.73 1829.06 1052.74 1832.23 Q1055.78 1835.38 1055.78 1840.82 Q1055.78 1846.14 1052.63 1849.36 Q1049.48 1852.58 1044.25 1852.58 Q1038.25 1852.58 1035.08 1848 Q1031.91 1843.39 1031.91 1834.66 Q1031.91 1826.47 1035.8 1821.61 Q1039.69 1816.72 1046.24 1816.72 Q1048 1816.72 1049.78 1817.07 Q1051.59 1817.42 1053.53 1818.11 Z\" fill=\"#000000\" fill-rule=\"evenodd\" fill-opacity=\"1\" /><path clip-path=\"url(#clip630)\" d=\"M1297.55 1835.5 Q1294.22 1835.5 1292.3 1837.28 Q1290.4 1839.06 1290.4 1842.19 Q1290.4 1845.31 1292.3 1847.09 Q1294.22 1848.88 1297.55 1848.88 Q1300.89 1848.88 1302.81 1847.09 Q1304.73 1845.29 1304.73 1842.19 Q1304.73 1839.06 1302.81 1837.28 Q1300.91 1835.5 1297.55 1835.5 M1292.88 1833.51 Q1289.87 1832.76 1288.18 1830.7 Q1286.51 1828.64 1286.51 1825.68 Q1286.51 1821.54 1289.45 1819.13 Q1292.41 1816.72 1297.55 1816.72 Q1302.71 1816.72 1305.65 1819.13 Q1308.59 1821.54 1308.59 1825.68 Q1308.59 1828.64 1306.9 1830.7 Q1305.24 1832.76 1302.25 1833.51 Q1305.63 1834.29 1307.51 1836.58 Q1309.4 1838.88 1309.4 1842.19 Q1309.4 1847.21 1306.33 1849.89 Q1303.27 1852.58 1297.55 1852.58 Q1291.83 1852.58 1288.76 1849.89 Q1285.7 1847.21 1285.7 1842.19 Q1285.7 1838.88 1287.6 1836.58 Q1289.5 1834.29 1292.88 1833.51 M1291.16 1826.12 Q1291.16 1828.81 1292.83 1830.31 Q1294.52 1831.82 1297.55 1831.82 Q1300.56 1831.82 1302.25 1830.31 Q1303.96 1828.81 1303.96 1826.12 Q1303.96 1823.44 1302.25 1821.93 Q1300.56 1820.43 1297.55 1820.43 Q1294.52 1820.43 1292.83 1821.93 Q1291.16 1823.44 1291.16 1826.12 Z\" fill=\"#000000\" fill-rule=\"evenodd\" fill-opacity=\"1\" /><path clip-path=\"url(#clip630)\" d=\"M1525.95 1847.97 L1533.59 1847.97 L1533.59 1821.61 L1525.28 1823.27 L1525.28 1819.01 L1533.54 1817.35 L1538.22 1817.35 L1538.22 1847.97 L1545.86 1847.97 L1545.86 1851.91 L1525.95 1851.91 L1525.95 1847.97 Z\" fill=\"#000000\" fill-rule=\"evenodd\" fill-opacity=\"1\" /><path clip-path=\"url(#clip630)\" d=\"M1565.3 1820.43 Q1561.69 1820.43 1559.86 1823.99 Q1558.05 1827.53 1558.05 1834.66 Q1558.05 1841.77 1559.86 1845.33 Q1561.69 1848.88 1565.3 1848.88 Q1568.93 1848.88 1570.74 1845.33 Q1572.57 1841.77 1572.57 1834.66 Q1572.57 1827.53 1570.74 1823.99 Q1568.93 1820.43 1565.3 1820.43 M1565.3 1816.72 Q1571.11 1816.72 1574.17 1821.33 Q1577.24 1825.91 1577.24 1834.66 Q1577.24 1843.39 1574.17 1848 Q1571.11 1852.58 1565.3 1852.58 Q1559.49 1852.58 1556.41 1848 Q1553.36 1843.39 1553.36 1834.66 Q1553.36 1825.91 1556.41 1821.33 Q1559.49 1816.72 1565.3 1816.72 Z\" fill=\"#000000\" fill-rule=\"evenodd\" fill-opacity=\"1\" /><path clip-path=\"url(#clip630)\" d=\"M1780.46 1847.97 L1788.1 1847.97 L1788.1 1821.61 L1779.79 1823.27 L1779.79 1819.01 L1788.05 1817.35 L1792.72 1817.35 L1792.72 1847.97 L1800.36 1847.97 L1800.36 1851.91 L1780.46 1851.91 L1780.46 1847.97 Z\" fill=\"#000000\" fill-rule=\"evenodd\" fill-opacity=\"1\" /><path clip-path=\"url(#clip630)\" d=\"M1813.84 1847.97 L1830.16 1847.97 L1830.16 1851.91 L1808.21 1851.91 L1808.21 1847.97 Q1810.87 1845.22 1815.46 1840.59 Q1820.06 1835.94 1821.24 1834.59 Q1823.49 1832.07 1824.37 1830.33 Q1825.27 1828.57 1825.27 1826.88 Q1825.27 1824.13 1823.33 1822.39 Q1821.41 1820.66 1818.3 1820.66 Q1816.1 1820.66 1813.65 1821.42 Q1811.22 1822.19 1808.44 1823.74 L1808.44 1819.01 Q1811.27 1817.88 1813.72 1817.3 Q1816.17 1816.72 1818.21 1816.72 Q1823.58 1816.72 1826.78 1819.41 Q1829.97 1822.09 1829.97 1826.58 Q1829.97 1828.71 1829.16 1830.63 Q1828.37 1832.53 1826.27 1835.13 Q1825.69 1835.8 1822.59 1839.01 Q1819.48 1842.21 1813.84 1847.97 Z\" fill=\"#000000\" fill-rule=\"evenodd\" fill-opacity=\"1\" /><path clip-path=\"url(#clip630)\" d=\"M1090.15 1909.92 L1077.26 1927.27 L1090.82 1945.57 L1083.92 1945.57 L1073.54 1931.57 L1063.16 1945.57 L1056.26 1945.57 L1070.1 1926.92 L1057.43 1909.92 L1064.34 1909.92 L1073.79 1922.62 L1083.25 1909.92 L1090.15 1909.92 Z\" fill=\"#000000\" fill-rule=\"evenodd\" fill-opacity=\"1\" /><polyline clip-path=\"url(#clip632)\" style=\"stroke:#000000; stroke-linecap:butt; stroke-linejoin:round; stroke-width:2; stroke-opacity:0.1; fill:none\" points=\"\n  235.266,1573.36 1911.81,1573.36 \n  \"/>\n<polyline clip-path=\"url(#clip632)\" style=\"stroke:#000000; stroke-linecap:butt; stroke-linejoin:round; stroke-width:2; stroke-opacity:0.1; fill:none\" points=\"\n  235.266,1281.34 1911.81,1281.34 \n  \"/>\n<polyline clip-path=\"url(#clip632)\" style=\"stroke:#000000; stroke-linecap:butt; stroke-linejoin:round; stroke-width:2; stroke-opacity:0.1; fill:none\" points=\"\n  235.266,989.307 1911.81,989.307 \n  \"/>\n<polyline clip-path=\"url(#clip632)\" style=\"stroke:#000000; stroke-linecap:butt; stroke-linejoin:round; stroke-width:2; stroke-opacity:0.1; fill:none\" points=\"\n  235.266,697.278 1911.81,697.278 \n  \"/>\n<polyline clip-path=\"url(#clip632)\" style=\"stroke:#000000; stroke-linecap:butt; stroke-linejoin:round; stroke-width:2; stroke-opacity:0.1; fill:none\" points=\"\n  235.266,405.249 1911.81,405.249 \n  \"/>\n<polyline clip-path=\"url(#clip632)\" style=\"stroke:#000000; stroke-linecap:butt; stroke-linejoin:round; stroke-width:2; stroke-opacity:0.05; fill:none\" points=\"\n  235.266,1748.58 1911.81,1748.58 \n  \"/>\n<polyline clip-path=\"url(#clip632)\" style=\"stroke:#000000; stroke-linecap:butt; stroke-linejoin:round; stroke-width:2; stroke-opacity:0.05; fill:none\" points=\"\n  235.266,1690.18 1911.81,1690.18 \n  \"/>\n<polyline clip-path=\"url(#clip632)\" style=\"stroke:#000000; stroke-linecap:butt; stroke-linejoin:round; stroke-width:2; stroke-opacity:0.05; fill:none\" points=\"\n  235.266,1631.77 1911.81,1631.77 \n  \"/>\n<polyline clip-path=\"url(#clip632)\" style=\"stroke:#000000; stroke-linecap:butt; stroke-linejoin:round; stroke-width:2; stroke-opacity:0.05; fill:none\" points=\"\n  235.266,1514.96 1911.81,1514.96 \n  \"/>\n<polyline clip-path=\"url(#clip632)\" style=\"stroke:#000000; stroke-linecap:butt; stroke-linejoin:round; stroke-width:2; stroke-opacity:0.05; fill:none\" points=\"\n  235.266,1456.55 1911.81,1456.55 \n  \"/>\n<polyline clip-path=\"url(#clip632)\" style=\"stroke:#000000; stroke-linecap:butt; stroke-linejoin:round; stroke-width:2; stroke-opacity:0.05; fill:none\" points=\"\n  235.266,1398.15 1911.81,1398.15 \n  \"/>\n<polyline clip-path=\"url(#clip632)\" style=\"stroke:#000000; stroke-linecap:butt; stroke-linejoin:round; stroke-width:2; stroke-opacity:0.05; fill:none\" points=\"\n  235.266,1339.74 1911.81,1339.74 \n  \"/>\n<polyline clip-path=\"url(#clip632)\" style=\"stroke:#000000; stroke-linecap:butt; stroke-linejoin:round; stroke-width:2; stroke-opacity:0.05; fill:none\" points=\"\n  235.266,1222.93 1911.81,1222.93 \n  \"/>\n<polyline clip-path=\"url(#clip632)\" style=\"stroke:#000000; stroke-linecap:butt; stroke-linejoin:round; stroke-width:2; stroke-opacity:0.05; fill:none\" points=\"\n  235.266,1164.52 1911.81,1164.52 \n  \"/>\n<polyline clip-path=\"url(#clip632)\" style=\"stroke:#000000; stroke-linecap:butt; stroke-linejoin:round; stroke-width:2; stroke-opacity:0.05; fill:none\" points=\"\n  235.266,1106.12 1911.81,1106.12 \n  \"/>\n<polyline clip-path=\"url(#clip632)\" style=\"stroke:#000000; stroke-linecap:butt; stroke-linejoin:round; stroke-width:2; stroke-opacity:0.05; fill:none\" points=\"\n  235.266,1047.71 1911.81,1047.71 \n  \"/>\n<polyline clip-path=\"url(#clip632)\" style=\"stroke:#000000; stroke-linecap:butt; stroke-linejoin:round; stroke-width:2; stroke-opacity:0.05; fill:none\" points=\"\n  235.266,930.901 1911.81,930.901 \n  \"/>\n<polyline clip-path=\"url(#clip632)\" style=\"stroke:#000000; stroke-linecap:butt; stroke-linejoin:round; stroke-width:2; stroke-opacity:0.05; fill:none\" points=\"\n  235.266,872.495 1911.81,872.495 \n  \"/>\n<polyline clip-path=\"url(#clip632)\" style=\"stroke:#000000; stroke-linecap:butt; stroke-linejoin:round; stroke-width:2; stroke-opacity:0.05; fill:none\" points=\"\n  235.266,814.089 1911.81,814.089 \n  \"/>\n<polyline clip-path=\"url(#clip632)\" style=\"stroke:#000000; stroke-linecap:butt; stroke-linejoin:round; stroke-width:2; stroke-opacity:0.05; fill:none\" points=\"\n  235.266,755.684 1911.81,755.684 \n  \"/>\n<polyline clip-path=\"url(#clip632)\" style=\"stroke:#000000; stroke-linecap:butt; stroke-linejoin:round; stroke-width:2; stroke-opacity:0.05; fill:none\" points=\"\n  235.266,638.872 1911.81,638.872 \n  \"/>\n<polyline clip-path=\"url(#clip632)\" style=\"stroke:#000000; stroke-linecap:butt; stroke-linejoin:round; stroke-width:2; stroke-opacity:0.05; fill:none\" points=\"\n  235.266,580.466 1911.81,580.466 \n  \"/>\n<polyline clip-path=\"url(#clip632)\" style=\"stroke:#000000; stroke-linecap:butt; stroke-linejoin:round; stroke-width:2; stroke-opacity:0.05; fill:none\" points=\"\n  235.266,522.06 1911.81,522.06 \n  \"/>\n<polyline clip-path=\"url(#clip632)\" style=\"stroke:#000000; stroke-linecap:butt; stroke-linejoin:round; stroke-width:2; stroke-opacity:0.05; fill:none\" points=\"\n  235.266,463.655 1911.81,463.655 \n  \"/>\n<polyline clip-path=\"url(#clip632)\" style=\"stroke:#000000; stroke-linecap:butt; stroke-linejoin:round; stroke-width:2; stroke-opacity:0.05; fill:none\" points=\"\n  235.266,346.843 1911.81,346.843 \n  \"/>\n<polyline clip-path=\"url(#clip632)\" style=\"stroke:#000000; stroke-linecap:butt; stroke-linejoin:round; stroke-width:2; stroke-opacity:0.05; fill:none\" points=\"\n  235.266,288.437 1911.81,288.437 \n  \"/>\n<polyline clip-path=\"url(#clip632)\" style=\"stroke:#000000; stroke-linecap:butt; stroke-linejoin:round; stroke-width:2; stroke-opacity:0.05; fill:none\" points=\"\n  235.266,230.031 1911.81,230.031 \n  \"/>\n<polyline clip-path=\"url(#clip632)\" style=\"stroke:#000000; stroke-linecap:butt; stroke-linejoin:round; stroke-width:2; stroke-opacity:0.05; fill:none\" points=\"\n  235.266,171.626 1911.81,171.626 \n  \"/>\n<polyline clip-path=\"url(#clip630)\" style=\"stroke:#000000; stroke-linecap:butt; stroke-linejoin:round; stroke-width:4; stroke-opacity:1; fill:none\" points=\"\n  235.266,1776.71 235.266,171.344 \n  \"/>\n<polyline clip-path=\"url(#clip630)\" style=\"stroke:#000000; stroke-linecap:butt; stroke-linejoin:round; stroke-width:4; stroke-opacity:1; fill:none\" points=\"\n  235.266,1573.36 254.164,1573.36 \n  \"/>\n<polyline clip-path=\"url(#clip630)\" style=\"stroke:#000000; stroke-linecap:butt; stroke-linejoin:round; stroke-width:4; stroke-opacity:1; fill:none\" points=\"\n  235.266,1281.34 254.164,1281.34 \n  \"/>\n<polyline clip-path=\"url(#clip630)\" style=\"stroke:#000000; stroke-linecap:butt; stroke-linejoin:round; stroke-width:4; stroke-opacity:1; fill:none\" points=\"\n  235.266,989.307 254.164,989.307 \n  \"/>\n<polyline clip-path=\"url(#clip630)\" style=\"stroke:#000000; stroke-linecap:butt; stroke-linejoin:round; stroke-width:4; stroke-opacity:1; fill:none\" points=\"\n  235.266,697.278 254.164,697.278 \n  \"/>\n<polyline clip-path=\"url(#clip630)\" style=\"stroke:#000000; stroke-linecap:butt; stroke-linejoin:round; stroke-width:4; stroke-opacity:1; fill:none\" points=\"\n  235.266,405.249 254.164,405.249 \n  \"/>\n<polyline clip-path=\"url(#clip630)\" style=\"stroke:#000000; stroke-linecap:butt; stroke-linejoin:round; stroke-width:4; stroke-opacity:1; fill:none\" points=\"\n  235.266,1748.58 244.715,1748.58 \n  \"/>\n<polyline clip-path=\"url(#clip630)\" style=\"stroke:#000000; stroke-linecap:butt; stroke-linejoin:round; stroke-width:4; stroke-opacity:1; fill:none\" points=\"\n  235.266,1690.18 244.715,1690.18 \n  \"/>\n<polyline clip-path=\"url(#clip630)\" style=\"stroke:#000000; stroke-linecap:butt; stroke-linejoin:round; stroke-width:4; stroke-opacity:1; fill:none\" points=\"\n  235.266,1631.77 244.715,1631.77 \n  \"/>\n<polyline clip-path=\"url(#clip630)\" style=\"stroke:#000000; stroke-linecap:butt; stroke-linejoin:round; stroke-width:4; stroke-opacity:1; fill:none\" points=\"\n  235.266,1514.96 244.715,1514.96 \n  \"/>\n<polyline clip-path=\"url(#clip630)\" style=\"stroke:#000000; stroke-linecap:butt; stroke-linejoin:round; stroke-width:4; stroke-opacity:1; fill:none\" points=\"\n  235.266,1456.55 244.715,1456.55 \n  \"/>\n<polyline clip-path=\"url(#clip630)\" style=\"stroke:#000000; stroke-linecap:butt; stroke-linejoin:round; stroke-width:4; stroke-opacity:1; fill:none\" points=\"\n  235.266,1398.15 244.715,1398.15 \n  \"/>\n<polyline clip-path=\"url(#clip630)\" style=\"stroke:#000000; stroke-linecap:butt; stroke-linejoin:round; stroke-width:4; stroke-opacity:1; fill:none\" points=\"\n  235.266,1339.74 244.715,1339.74 \n  \"/>\n<polyline clip-path=\"url(#clip630)\" style=\"stroke:#000000; stroke-linecap:butt; stroke-linejoin:round; stroke-width:4; stroke-opacity:1; fill:none\" points=\"\n  235.266,1222.93 244.715,1222.93 \n  \"/>\n<polyline clip-path=\"url(#clip630)\" style=\"stroke:#000000; stroke-linecap:butt; stroke-linejoin:round; stroke-width:4; stroke-opacity:1; fill:none\" points=\"\n  235.266,1164.52 244.715,1164.52 \n  \"/>\n<polyline clip-path=\"url(#clip630)\" style=\"stroke:#000000; stroke-linecap:butt; stroke-linejoin:round; stroke-width:4; stroke-opacity:1; fill:none\" points=\"\n  235.266,1106.12 244.715,1106.12 \n  \"/>\n<polyline clip-path=\"url(#clip630)\" style=\"stroke:#000000; stroke-linecap:butt; stroke-linejoin:round; stroke-width:4; stroke-opacity:1; fill:none\" points=\"\n  235.266,1047.71 244.715,1047.71 \n  \"/>\n<polyline clip-path=\"url(#clip630)\" style=\"stroke:#000000; stroke-linecap:butt; stroke-linejoin:round; stroke-width:4; stroke-opacity:1; fill:none\" points=\"\n  235.266,930.901 244.715,930.901 \n  \"/>\n<polyline clip-path=\"url(#clip630)\" style=\"stroke:#000000; stroke-linecap:butt; stroke-linejoin:round; stroke-width:4; stroke-opacity:1; fill:none\" points=\"\n  235.266,872.495 244.715,872.495 \n  \"/>\n<polyline clip-path=\"url(#clip630)\" style=\"stroke:#000000; stroke-linecap:butt; stroke-linejoin:round; stroke-width:4; stroke-opacity:1; fill:none\" points=\"\n  235.266,814.089 244.715,814.089 \n  \"/>\n<polyline clip-path=\"url(#clip630)\" style=\"stroke:#000000; stroke-linecap:butt; stroke-linejoin:round; stroke-width:4; stroke-opacity:1; fill:none\" points=\"\n  235.266,755.684 244.715,755.684 \n  \"/>\n<polyline clip-path=\"url(#clip630)\" style=\"stroke:#000000; stroke-linecap:butt; stroke-linejoin:round; stroke-width:4; stroke-opacity:1; fill:none\" points=\"\n  235.266,638.872 244.715,638.872 \n  \"/>\n<polyline clip-path=\"url(#clip630)\" style=\"stroke:#000000; stroke-linecap:butt; stroke-linejoin:round; stroke-width:4; stroke-opacity:1; fill:none\" points=\"\n  235.266,580.466 244.715,580.466 \n  \"/>\n<polyline clip-path=\"url(#clip630)\" style=\"stroke:#000000; stroke-linecap:butt; stroke-linejoin:round; stroke-width:4; stroke-opacity:1; fill:none\" points=\"\n  235.266,522.06 244.715,522.06 \n  \"/>\n<polyline clip-path=\"url(#clip630)\" style=\"stroke:#000000; stroke-linecap:butt; stroke-linejoin:round; stroke-width:4; stroke-opacity:1; fill:none\" points=\"\n  235.266,463.655 244.715,463.655 \n  \"/>\n<polyline clip-path=\"url(#clip630)\" style=\"stroke:#000000; stroke-linecap:butt; stroke-linejoin:round; stroke-width:4; stroke-opacity:1; fill:none\" points=\"\n  235.266,346.843 244.715,346.843 \n  \"/>\n<polyline clip-path=\"url(#clip630)\" style=\"stroke:#000000; stroke-linecap:butt; stroke-linejoin:round; stroke-width:4; stroke-opacity:1; fill:none\" points=\"\n  235.266,288.437 244.715,288.437 \n  \"/>\n<polyline clip-path=\"url(#clip630)\" style=\"stroke:#000000; stroke-linecap:butt; stroke-linejoin:round; stroke-width:4; stroke-opacity:1; fill:none\" points=\"\n  235.266,230.031 244.715,230.031 \n  \"/>\n<polyline clip-path=\"url(#clip630)\" style=\"stroke:#000000; stroke-linecap:butt; stroke-linejoin:round; stroke-width:4; stroke-opacity:1; fill:none\" points=\"\n  235.266,171.626 244.715,171.626 \n  \"/>\n<path clip-path=\"url(#clip630)\" d=\"M117.929 1559.16 Q114.318 1559.16 112.489 1562.73 Q110.683 1566.27 110.683 1573.4 Q110.683 1580.51 112.489 1584.07 Q114.318 1587.61 117.929 1587.61 Q121.563 1587.61 123.368 1584.07 Q125.197 1580.51 125.197 1573.4 Q125.197 1566.27 123.368 1562.73 Q121.563 1559.16 117.929 1559.16 M117.929 1555.46 Q123.739 1555.46 126.794 1560.07 Q129.873 1564.65 129.873 1573.4 Q129.873 1582.13 126.794 1586.73 Q123.739 1591.32 117.929 1591.32 Q112.118 1591.32 109.04 1586.73 Q105.984 1582.13 105.984 1573.4 Q105.984 1564.65 109.04 1560.07 Q112.118 1555.46 117.929 1555.46 Z\" fill=\"#000000\" fill-rule=\"evenodd\" fill-opacity=\"1\" /><path clip-path=\"url(#clip630)\" d=\"M138.091 1584.77 L142.975 1584.77 L142.975 1590.64 L138.091 1590.64 L138.091 1584.77 Z\" fill=\"#000000\" fill-rule=\"evenodd\" fill-opacity=\"1\" /><path clip-path=\"url(#clip630)\" d=\"M163.739 1571.5 Q160.59 1571.5 158.739 1573.65 Q156.91 1575.81 156.91 1579.56 Q156.91 1583.28 158.739 1585.46 Q160.59 1587.61 163.739 1587.61 Q166.887 1587.61 168.715 1585.46 Q170.567 1583.28 170.567 1579.56 Q170.567 1575.81 168.715 1573.65 Q166.887 1571.5 163.739 1571.5 M173.021 1556.85 L173.021 1561.11 Q171.262 1560.27 169.456 1559.83 Q167.674 1559.4 165.914 1559.4 Q161.285 1559.4 158.831 1562.52 Q156.401 1565.65 156.053 1571.96 Q157.419 1569.95 159.479 1568.89 Q161.54 1567.8 164.016 1567.8 Q169.225 1567.8 172.234 1570.97 Q175.266 1574.12 175.266 1579.56 Q175.266 1584.88 172.118 1588.1 Q168.97 1591.32 163.739 1591.32 Q157.743 1591.32 154.572 1586.73 Q151.401 1582.13 151.401 1573.4 Q151.401 1565.21 155.29 1560.34 Q159.178 1555.46 165.729 1555.46 Q167.489 1555.46 169.271 1555.81 Q171.076 1556.15 173.021 1556.85 Z\" fill=\"#000000\" fill-rule=\"evenodd\" fill-opacity=\"1\" /><path clip-path=\"url(#clip630)\" d=\"M118.183 1267.13 Q114.572 1267.13 112.743 1270.7 Q110.938 1274.24 110.938 1281.37 Q110.938 1288.48 112.743 1292.04 Q114.572 1295.58 118.183 1295.58 Q121.818 1295.58 123.623 1292.04 Q125.452 1288.48 125.452 1281.37 Q125.452 1274.24 123.623 1270.7 Q121.818 1267.13 118.183 1267.13 M118.183 1263.43 Q123.993 1263.43 127.049 1268.04 Q130.128 1272.62 130.128 1281.37 Q130.128 1290.1 127.049 1294.7 Q123.993 1299.29 118.183 1299.29 Q112.373 1299.29 109.294 1294.7 Q106.239 1290.1 106.239 1281.37 Q106.239 1272.62 109.294 1268.04 Q112.373 1263.43 118.183 1263.43 Z\" fill=\"#000000\" fill-rule=\"evenodd\" fill-opacity=\"1\" /><path clip-path=\"url(#clip630)\" d=\"M138.345 1292.74 L143.229 1292.74 L143.229 1298.62 L138.345 1298.62 L138.345 1292.74 Z\" fill=\"#000000\" fill-rule=\"evenodd\" fill-opacity=\"1\" /><path clip-path=\"url(#clip630)\" d=\"M163.414 1282.2 Q160.081 1282.2 158.16 1283.99 Q156.262 1285.77 156.262 1288.89 Q156.262 1292.02 158.16 1293.8 Q160.081 1295.58 163.414 1295.58 Q166.748 1295.58 168.669 1293.8 Q170.59 1292 170.59 1288.89 Q170.59 1285.77 168.669 1283.99 Q166.771 1282.2 163.414 1282.2 M158.739 1280.21 Q155.729 1279.47 154.04 1277.41 Q152.373 1275.35 152.373 1272.39 Q152.373 1268.25 155.313 1265.84 Q158.276 1263.43 163.414 1263.43 Q168.577 1263.43 171.516 1265.84 Q174.456 1268.25 174.456 1272.39 Q174.456 1275.35 172.766 1277.41 Q171.1 1279.47 168.114 1280.21 Q171.493 1281 173.368 1283.29 Q175.266 1285.58 175.266 1288.89 Q175.266 1293.92 172.188 1296.6 Q169.132 1299.29 163.414 1299.29 Q157.697 1299.29 154.618 1296.6 Q151.563 1293.92 151.563 1288.89 Q151.563 1285.58 153.461 1283.29 Q155.359 1281 158.739 1280.21 M157.026 1272.83 Q157.026 1275.51 158.692 1277.02 Q160.382 1278.52 163.414 1278.52 Q166.424 1278.52 168.114 1277.02 Q169.827 1275.51 169.827 1272.83 Q169.827 1270.14 168.114 1268.64 Q166.424 1267.13 163.414 1267.13 Q160.382 1267.13 158.692 1268.64 Q157.026 1270.14 157.026 1272.83 Z\" fill=\"#000000\" fill-rule=\"evenodd\" fill-opacity=\"1\" /><path clip-path=\"url(#clip630)\" d=\"M108.901 1002.65 L116.54 1002.65 L116.54 976.286 L108.23 977.953 L108.23 973.693 L116.493 972.027 L121.169 972.027 L121.169 1002.65 L128.808 1002.65 L128.808 1006.59 L108.901 1006.59 L108.901 1002.65 Z\" fill=\"#000000\" fill-rule=\"evenodd\" fill-opacity=\"1\" /><path clip-path=\"url(#clip630)\" d=\"M138.253 1000.71 L143.137 1000.71 L143.137 1006.59 L138.253 1006.59 L138.253 1000.71 Z\" fill=\"#000000\" fill-rule=\"evenodd\" fill-opacity=\"1\" /><path clip-path=\"url(#clip630)\" d=\"M163.322 975.106 Q159.711 975.106 157.882 978.67 Q156.077 982.212 156.077 989.342 Q156.077 996.448 157.882 1000.01 Q159.711 1003.55 163.322 1003.55 Q166.956 1003.55 168.762 1000.01 Q170.59 996.448 170.59 989.342 Q170.59 982.212 168.762 978.67 Q166.956 975.106 163.322 975.106 M163.322 971.402 Q169.132 971.402 172.188 976.008 Q175.266 980.592 175.266 989.342 Q175.266 998.068 172.188 1002.67 Q169.132 1007.26 163.322 1007.26 Q157.512 1007.26 154.433 1002.67 Q151.378 998.068 151.378 989.342 Q151.378 980.592 154.433 976.008 Q157.512 971.402 163.322 971.402 Z\" fill=\"#000000\" fill-rule=\"evenodd\" fill-opacity=\"1\" /><path clip-path=\"url(#clip630)\" d=\"M110.498 710.623 L118.137 710.623 L118.137 684.257 L109.827 685.924 L109.827 681.664 L118.091 679.998 L122.767 679.998 L122.767 710.623 L130.405 710.623 L130.405 714.558 L110.498 714.558 L110.498 710.623 Z\" fill=\"#000000\" fill-rule=\"evenodd\" fill-opacity=\"1\" /><path clip-path=\"url(#clip630)\" d=\"M139.85 708.678 L144.734 708.678 L144.734 714.558 L139.85 714.558 L139.85 708.678 Z\" fill=\"#000000\" fill-rule=\"evenodd\" fill-opacity=\"1\" /><path clip-path=\"url(#clip630)\" d=\"M158.947 710.623 L175.266 710.623 L175.266 714.558 L153.322 714.558 L153.322 710.623 Q155.984 707.868 160.567 703.238 Q165.174 698.586 166.354 697.243 Q168.6 694.72 169.479 692.984 Q170.382 691.225 170.382 689.535 Q170.382 686.78 168.438 685.044 Q166.516 683.308 163.414 683.308 Q161.215 683.308 158.762 684.072 Q156.331 684.836 153.553 686.387 L153.553 681.664 Q156.378 680.53 158.831 679.951 Q161.285 679.373 163.322 679.373 Q168.692 679.373 171.887 682.058 Q175.081 684.743 175.081 689.234 Q175.081 691.363 174.271 693.285 Q173.484 695.183 171.377 697.775 Q170.799 698.447 167.697 701.664 Q164.595 704.859 158.947 710.623 Z\" fill=\"#000000\" fill-rule=\"evenodd\" fill-opacity=\"1\" /><path clip-path=\"url(#clip630)\" d=\"M108.415 418.594 L116.054 418.594 L116.054 392.228 L107.744 393.895 L107.744 389.635 L116.007 387.969 L120.683 387.969 L120.683 418.594 L128.322 418.594 L128.322 422.529 L108.415 422.529 L108.415 418.594 Z\" fill=\"#000000\" fill-rule=\"evenodd\" fill-opacity=\"1\" /><path clip-path=\"url(#clip630)\" d=\"M137.766 416.649 L142.651 416.649 L142.651 422.529 L137.766 422.529 L137.766 416.649 Z\" fill=\"#000000\" fill-rule=\"evenodd\" fill-opacity=\"1\" /><path clip-path=\"url(#clip630)\" d=\"M165.683 392.043 L153.878 410.492 L165.683 410.492 L165.683 392.043 M164.456 387.969 L170.336 387.969 L170.336 410.492 L175.266 410.492 L175.266 414.381 L170.336 414.381 L170.336 422.529 L165.683 422.529 L165.683 414.381 L150.081 414.381 L150.081 409.867 L164.456 387.969 Z\" fill=\"#000000\" fill-rule=\"evenodd\" fill-opacity=\"1\" /><path clip-path=\"url(#clip630)\" d=\"M766.845 21.9397 Q767.169 15.1747 770.451 12.5011 Q773.732 9.78698 776.77 9.78698 Q779.849 9.78698 782.401 12.3391 Q784.953 14.8506 785.763 20.5219 L779.768 21.1295 Q779.079 15.8633 776.77 15.8633 Q773.894 15.8633 773.57 22.9524 L770.937 78.0447 Q770.613 84.8097 767.331 87.4833 Q764.05 90.1974 760.972 90.1974 Q757.933 90.1974 755.381 87.6454 Q752.829 85.1338 752.019 79.4625 L758.014 78.8549 Q758.703 84.1211 761.012 84.1211 Q763.888 84.1211 764.212 77.032 L766.845 21.9397 Z\" fill=\"#000000\" fill-rule=\"evenodd\" fill-opacity=\"1\" /><path clip-path=\"url(#clip630)\" d=\"M821.289 9.54393 L821.289 15.7418 L814.16 15.7418 Q810.149 15.7418 808.57 17.3622 Q807.03 18.9825 807.03 23.1955 L807.03 27.2059 L819.305 27.2059 L819.305 32.9987 L807.03 32.9987 L807.03 72.576 L799.536 72.576 L799.536 32.9987 L792.407 32.9987 L792.407 27.2059 L799.536 27.2059 L799.536 24.0462 Q799.536 16.471 803.06 13.0277 Q806.585 9.54393 814.241 9.54393 L821.289 9.54393 Z\" fill=\"#000000\" fill-rule=\"evenodd\" fill-opacity=\"1\" /><path clip-path=\"url(#clip630)\" d=\"M845.433 9.62495 Q840.005 18.942 837.372 28.0566 Q834.738 37.1711 834.738 46.5287 Q834.738 55.8863 837.372 65.0818 Q840.045 74.2369 845.433 83.5134 L838.951 83.5134 Q832.875 73.9938 829.837 64.7983 Q826.839 55.6027 826.839 46.5287 Q826.839 37.4952 829.837 28.3401 Q832.835 19.1851 838.951 9.62495 L845.433 9.62495 Z\" fill=\"#000000\" fill-rule=\"evenodd\" fill-opacity=\"1\" /><path clip-path=\"url(#clip630)\" d=\"M867.267 14.324 L867.267 27.2059 L882.62 27.2059 L882.62 32.9987 L867.267 32.9987 L867.267 57.6282 Q867.267 63.1779 868.766 64.7578 Q870.305 66.3376 874.964 66.3376 L882.62 66.3376 L882.62 72.576 L874.964 72.576 Q866.336 72.576 863.054 69.3758 Q859.773 66.1351 859.773 57.6282 L859.773 32.9987 L854.304 32.9987 L854.304 27.2059 L859.773 27.2059 L859.773 14.324 L867.267 14.324 Z\" fill=\"#000000\" fill-rule=\"evenodd\" fill-opacity=\"1\" /><path clip-path=\"url(#clip630)\" d=\"M923.332 12.096 L945.328 34.6595 L937.186 34.6595 L919.362 18.6585 L901.538 34.6595 L893.396 34.6595 L915.392 12.096 L923.332 12.096 Z\" fill=\"#000000\" fill-rule=\"evenodd\" fill-opacity=\"1\" /><path clip-path=\"url(#clip630)\" d=\"M964.408 65.6895 L977.776 65.6895 L977.776 19.5497 L963.233 22.4663 L963.233 15.0127 L977.695 12.096 L985.878 12.096 L985.878 65.6895 L999.246 65.6895 L999.246 72.576 L964.408 72.576 L964.408 65.6895 Z\" fill=\"#000000\" fill-rule=\"evenodd\" fill-opacity=\"1\" /><path clip-path=\"url(#clip630)\" d=\"M1015.85 12.096 L1047.98 12.096 L1047.98 18.9825 L1023.35 18.9825 L1023.35 33.8088 Q1025.13 33.2012 1026.91 32.9176 Q1028.7 32.5936 1030.48 32.5936 Q1040.61 32.5936 1046.52 38.1433 Q1052.43 43.6931 1052.43 53.1722 Q1052.43 62.9348 1046.36 68.3631 Q1040.28 73.7508 1029.22 73.7508 Q1025.41 73.7508 1021.44 73.1026 Q1017.52 72.4545 1013.3 71.1582 L1013.3 62.9348 Q1016.95 64.9198 1020.84 65.892 Q1024.73 66.8642 1029.06 66.8642 Q1036.07 66.8642 1040.16 63.1779 Q1044.25 59.4916 1044.25 53.1722 Q1044.25 46.8528 1040.16 43.1664 Q1036.07 39.4801 1029.06 39.4801 Q1025.78 39.4801 1022.5 40.2093 Q1019.26 40.9384 1015.85 42.4778 L1015.85 12.096 Z\" fill=\"#000000\" fill-rule=\"evenodd\" fill-opacity=\"1\" /><path clip-path=\"url(#clip630)\" d=\"M1086.06 17.4837 Q1079.74 17.4837 1076.54 23.7221 Q1073.38 29.92 1073.38 42.3968 Q1073.38 54.833 1076.54 61.0714 Q1079.74 67.2693 1086.06 67.2693 Q1092.42 67.2693 1095.58 61.0714 Q1098.78 54.833 1098.78 42.3968 Q1098.78 29.92 1095.58 23.7221 Q1092.42 17.4837 1086.06 17.4837 M1086.06 11.0023 Q1096.22 11.0023 1101.57 19.0636 Q1106.96 27.0843 1106.96 42.3968 Q1106.96 57.6687 1101.57 65.73 Q1096.22 73.7508 1086.06 73.7508 Q1075.89 73.7508 1070.5 65.73 Q1065.15 57.6687 1065.15 42.3968 Q1065.15 27.0843 1070.5 19.0636 Q1075.89 11.0023 1086.06 11.0023 Z\" fill=\"#000000\" fill-rule=\"evenodd\" fill-opacity=\"1\" /><path clip-path=\"url(#clip630)\" d=\"M1122.19 62.2867 L1130.74 62.2867 L1130.74 69.2543 L1124.09 82.2172 L1118.87 82.2172 L1122.19 69.2543 L1122.19 62.2867 Z\" fill=\"#000000\" fill-rule=\"evenodd\" fill-opacity=\"1\" /><path clip-path=\"url(#clip630)\" d=\"M1184.37 27.2059 L1167.97 49.2833 L1185.22 72.576 L1176.43 72.576 L1163.23 54.752 L1150.02 72.576 L1141.23 72.576 L1158.85 48.8377 L1142.73 27.2059 L1151.52 27.2059 L1163.55 43.369 L1175.58 27.2059 L1184.37 27.2059 Z\" fill=\"#000000\" fill-rule=\"evenodd\" fill-opacity=\"1\" /><path clip-path=\"url(#clip630)\" d=\"M1197.66 62.2867 L1206.21 62.2867 L1206.21 69.2543 L1199.56 82.2172 L1194.34 82.2172 L1197.66 69.2543 L1197.66 62.2867 Z\" fill=\"#000000\" fill-rule=\"evenodd\" fill-opacity=\"1\" /><path clip-path=\"url(#clip630)\" d=\"M1216.78 27.2059 L1224.68 27.2059 L1238.86 65.2844 L1253.03 27.2059 L1260.93 27.2059 L1243.92 72.576 L1233.79 72.576 L1216.78 27.2059 Z\" fill=\"#000000\" fill-rule=\"evenodd\" fill-opacity=\"1\" /><path clip-path=\"url(#clip630)\" d=\"M1270.05 9.62495 L1276.53 9.62495 Q1282.61 19.1851 1285.6 28.3401 Q1288.64 37.4952 1288.64 46.5287 Q1288.64 55.6027 1285.6 64.7983 Q1282.61 73.9938 1276.53 83.5134 L1270.05 83.5134 Q1275.44 74.2369 1278.07 65.0818 Q1280.74 55.8863 1280.74 46.5287 Q1280.74 37.1711 1278.07 28.0566 Q1275.44 18.942 1270.05 9.62495 Z\" fill=\"#000000\" fill-rule=\"evenodd\" fill-opacity=\"1\" /><path clip-path=\"url(#clip630)\" d=\"M1333.45 34.0924 L1333.45 9.54393 L1340.9 9.54393 L1340.9 72.576 L1333.45 72.576 L1333.45 65.7705 Q1331.1 69.8214 1327.49 71.8063 Q1323.93 73.7508 1318.9 73.7508 Q1310.68 73.7508 1305.49 67.1883 Q1300.35 60.6258 1300.35 49.9314 Q1300.35 39.2371 1305.49 32.6746 Q1310.68 26.1121 1318.9 26.1121 Q1323.93 26.1121 1327.49 28.0971 Q1331.1 30.0415 1333.45 34.0924 M1308.05 49.9314 Q1308.05 58.1548 1311.41 62.8538 Q1314.81 67.5124 1320.73 67.5124 Q1326.64 67.5124 1330.04 62.8538 Q1333.45 58.1548 1333.45 49.9314 Q1333.45 41.7081 1330.04 37.0496 Q1326.64 32.3505 1320.73 32.3505 Q1314.81 32.3505 1311.41 37.0496 Q1308.05 41.7081 1308.05 49.9314 Z\" fill=\"#000000\" fill-rule=\"evenodd\" fill-opacity=\"1\" /><path clip-path=\"url(#clip630)\" d=\"M1350.9 27.2059 L1358.8 27.2059 L1372.98 65.2844 L1387.16 27.2059 L1395.06 27.2059 L1378.05 72.576 L1367.92 72.576 L1350.9 27.2059 Z\" fill=\"#000000\" fill-rule=\"evenodd\" fill-opacity=\"1\" /><polyline clip-path=\"url(#clip632)\" style=\"stroke:#009af9; stroke-linecap:butt; stroke-linejoin:round; stroke-width:4; stroke-opacity:1; fill:none\" points=\"\n  282.716,1416.31 295.17,964.751 307.624,1004.04 320.077,875.863 332.531,1134.8 344.985,534.84 357.439,521.241 369.893,1017.1 382.347,1305.39 394.801,1144.32 \n  407.255,756.372 419.709,1199.03 432.163,1731.27 444.617,651.142 457.071,1056.15 469.524,637.851 481.978,1530.75 494.432,797.36 506.886,1012.76 519.34,1203.81 \n  531.794,216.779 544.248,808.099 556.702,1426.61 569.156,1404.06 581.61,647.997 594.064,970.061 606.517,1017.32 618.971,1043.96 631.425,694.895 643.879,923.026 \n  656.333,709.186 668.787,1054.76 681.241,1038.71 693.695,1036.09 706.149,1042.98 718.603,894.224 731.057,657.25 743.511,1132.99 755.964,1535.82 768.418,1132.09 \n  780.872,669.767 793.326,1212.27 805.78,1138.96 818.234,1215.11 830.688,590.696 843.142,1536.78 855.596,1048.38 868.05,782.14 880.504,1123.45 892.958,1237.16 \n  905.411,1161.11 917.865,494.276 930.319,1045.59 942.773,446.38 955.227,805.895 967.681,634.46 980.135,1057.23 992.589,1237.42 1005.04,1366.23 1017.5,846.636 \n  1029.95,913.302 1042.4,1271.87 1054.86,1290.27 1067.31,864.137 1079.77,1337.55 1092.22,864.137 1104.67,1290.27 1117.13,1271.87 1129.58,913.302 1142.04,846.636 \n  1154.49,1366.23 1166.94,1237.42 1179.4,1057.23 1191.85,634.46 1204.31,805.895 1216.76,446.38 1229.21,1045.59 1241.67,494.276 1254.12,1161.11 1266.57,1237.16 \n  1279.03,1123.45 1291.48,782.14 1303.94,1048.38 1316.39,1536.78 1328.84,590.696 1341.3,1215.11 1353.75,1138.96 1366.21,1212.27 1378.66,669.767 1391.11,1132.09 \n  1403.57,1535.82 1416.02,1132.99 1428.48,657.25 1440.93,894.224 1453.38,1042.98 1465.84,1036.09 1478.29,1038.71 1490.75,1054.76 1503.2,709.186 1515.65,923.026 \n  1528.11,694.895 1540.56,1043.96 1553.01,1017.32 1565.47,970.061 1577.92,647.997 1590.38,1404.06 1602.83,1426.61 1615.28,808.099 1627.74,216.779 1640.19,1203.81 \n  1652.65,1012.76 1665.1,797.36 1677.55,1530.75 1690.01,637.851 1702.46,1056.15 1714.92,651.142 1727.37,1731.27 1739.82,1199.03 1752.28,756.372 1764.73,1144.32 \n  1777.19,1305.39 1789.64,1017.1 1802.09,521.241 1814.55,534.84 1827,1134.8 1839.46,875.863 1851.91,1004.04 1864.36,964.751 \n  \"/>\n<polyline clip-path=\"url(#clip632)\" style=\"stroke:#e26f46; stroke-linecap:butt; stroke-linejoin:round; stroke-width:4; stroke-opacity:1; fill:none\" stroke-dasharray=\"16, 10\" points=\"\n  282.716,947.173 295.17,947.605 307.624,948.869 320.077,950.878 332.531,953.489 344.985,956.513 357.439,959.727 369.893,962.886 382.347,965.74 394.801,968.056 \n  407.255,969.641 419.709,970.364 432.163,970.183 444.617,969.153 457.071,967.438 469.524,965.297 481.978,963.061 494.432,961.103 506.886,959.792 519.34,959.453 \n  531.794,960.327 544.248,962.537 556.702,966.065 569.156,970.744 581.61,976.262 594.064,982.185 606.517,987.998 618.971,993.167 631.425,997.204 643.879,999.743 \n  656.333,1000.6 668.787,999.795 681.241,997.592 693.695,994.431 706.149,990.893 718.603,987.611 731.057,985.194 743.511,984.143 755.964,984.789 768.418,987.256 \n  780.872,991.436 793.326,997.002 805.78,1003.44 818.234,1010.09 830.688,1016.26 843.142,1021.28 855.596,1024.64 868.05,1026.03 880.504,1025.41 892.958,1022.99 \n  905.411,1019.26 917.865,1014.83 930.319,1010.41 942.773,1006.65 955.227,1004.13 967.681,1003.23 980.135,1004.11 992.589,1006.72 1005.04,1010.79 1017.5,1015.86 \n  1029.95,1021.34 1042.4,1026.55 1054.86,1030.84 1067.31,1033.66 1079.77,1034.64 1092.22,1033.66 1104.67,1030.84 1117.13,1026.55 1129.58,1021.34 1142.04,1015.86 \n  1154.49,1010.79 1166.94,1006.72 1179.4,1004.11 1191.85,1003.23 1204.31,1004.13 1216.76,1006.65 1229.21,1010.41 1241.67,1014.83 1254.12,1019.26 1266.57,1022.99 \n  1279.03,1025.41 1291.48,1026.03 1303.94,1024.64 1316.39,1021.28 1328.84,1016.26 1341.3,1010.09 1353.75,1003.44 1366.21,997.002 1378.66,991.436 1391.11,987.256 \n  1403.57,984.789 1416.02,984.143 1428.48,985.194 1440.93,987.611 1453.38,990.893 1465.84,994.431 1478.29,997.592 1490.75,999.795 1503.2,1000.6 1515.65,999.743 \n  1528.11,997.204 1540.56,993.167 1553.01,987.998 1565.47,982.185 1577.92,976.262 1590.38,970.744 1602.83,966.065 1615.28,962.537 1627.74,960.327 1640.19,959.453 \n  1652.65,959.792 1665.1,961.103 1677.55,963.061 1690.01,965.297 1702.46,967.438 1714.92,969.153 1727.37,970.183 1739.82,970.364 1752.28,969.641 1764.73,968.056 \n  1777.19,965.74 1789.64,962.886 1802.09,959.727 1814.55,956.513 1827,953.489 1839.46,950.878 1851.91,948.869 1864.36,947.605 \n  \"/>\n<path clip-path=\"url(#clip630)\" d=\"\nM1616.52 380.376 L1855.93 380.376 L1855.93 224.856 L1616.52 224.856  Z\n  \" fill=\"#ffffff\" fill-rule=\"evenodd\" fill-opacity=\"1\"/>\n<polyline clip-path=\"url(#clip630)\" style=\"stroke:#000000; stroke-linecap:butt; stroke-linejoin:round; stroke-width:4; stroke-opacity:1; fill:none\" points=\"\n  1616.52,380.376 1855.93,380.376 1855.93,224.856 1616.52,224.856 1616.52,380.376 \n  \"/>\n<polyline clip-path=\"url(#clip630)\" style=\"stroke:#009af9; stroke-linecap:butt; stroke-linejoin:round; stroke-width:4; stroke-opacity:1; fill:none\" points=\"\n  1635.15,276.696 1746.92,276.696 \n  \"/>\n<path clip-path=\"url(#clip630)\" d=\"M1770.22 263.259 L1770.22 276.245 L1776.1 276.245 Q1779.37 276.245 1781.15 274.555 Q1782.93 272.865 1782.93 269.74 Q1782.93 266.639 1781.15 264.949 Q1779.37 263.259 1776.1 263.259 L1770.22 263.259 M1765.55 259.416 L1776.1 259.416 Q1781.91 259.416 1784.87 262.055 Q1787.86 264.671 1787.86 269.74 Q1787.86 274.856 1784.87 277.472 Q1781.91 280.088 1776.1 280.088 L1770.22 280.088 L1770.22 293.976 L1765.55 293.976 L1765.55 259.416 Z\" fill=\"#000000\" fill-rule=\"evenodd\" fill-opacity=\"1\" /><path clip-path=\"url(#clip630)\" d=\"M1794.13 259.416 L1813.99 259.416 L1813.99 263.352 L1798.81 263.352 L1798.81 273.537 L1812.51 273.537 L1812.51 277.472 L1798.81 277.472 L1798.81 293.976 L1794.13 293.976 L1794.13 259.416 Z\" fill=\"#000000\" fill-rule=\"evenodd\" fill-opacity=\"1\" /><polyline clip-path=\"url(#clip630)\" style=\"stroke:#e26f46; stroke-linecap:butt; stroke-linejoin:round; stroke-width:4; stroke-opacity:1; fill:none\" stroke-dasharray=\"16, 10\" points=\"\n  1635.15,328.536 1746.92,328.536 \n  \"/>\n<path clip-path=\"url(#clip630)\" d=\"M1787.79 312.391 L1787.79 316.951 Q1785.13 315.678 1782.77 315.053 Q1780.41 314.428 1778.21 314.428 Q1774.39 314.428 1772.31 315.909 Q1770.25 317.391 1770.25 320.122 Q1770.25 322.414 1771.61 323.594 Q1773 324.752 1776.84 325.469 L1779.67 326.048 Q1784.9 327.043 1787.37 329.566 Q1789.87 332.066 1789.87 336.279 Q1789.87 341.303 1786.5 343.895 Q1783.14 346.488 1776.63 346.488 Q1774.18 346.488 1771.4 345.932 Q1768.65 345.377 1765.69 344.289 L1765.69 339.474 Q1768.53 341.071 1771.26 341.881 Q1774 342.691 1776.63 342.691 Q1780.64 342.691 1782.81 341.117 Q1784.99 339.543 1784.99 336.627 Q1784.99 334.08 1783.42 332.645 Q1781.87 331.21 1778.3 330.492 L1775.45 329.937 Q1770.22 328.895 1767.88 326.673 Q1765.55 324.451 1765.55 320.492 Q1765.55 315.909 1768.76 313.27 Q1772 310.631 1777.68 310.631 Q1780.11 310.631 1782.63 311.071 Q1785.15 311.511 1787.79 312.391 Z\" fill=\"#000000\" fill-rule=\"evenodd\" fill-opacity=\"1\" /><path clip-path=\"url(#clip630)\" d=\"M1797.17 311.256 L1801.84 311.256 L1801.84 341.881 L1818.67 341.881 L1818.67 345.816 L1797.17 345.816 L1797.17 311.256 Z\" fill=\"#000000\" fill-rule=\"evenodd\" fill-opacity=\"1\" /><path clip-path=\"url(#clip630)\" d=\"\nM2213.22 1776.71 L3889.76 1776.71 L3889.76 171.344 L2213.22 171.344  Z\n  \" fill=\"#ffffff\" fill-rule=\"evenodd\" fill-opacity=\"1\"/>\n<defs>\n  <clipPath id=\"clip633\">\n    <rect x=\"2213\" y=\"171\" width=\"1678\" height=\"1606\"/>\n  </clipPath>\n</defs>\n<polyline clip-path=\"url(#clip633)\" style=\"stroke:#000000; stroke-linecap:butt; stroke-linejoin:round; stroke-width:2; stroke-opacity:0.1; fill:none\" points=\"\n  2393.5,1776.71 2393.5,171.344 \n  \"/>\n<polyline clip-path=\"url(#clip633)\" style=\"stroke:#000000; stroke-linecap:butt; stroke-linejoin:round; stroke-width:2; stroke-opacity:0.1; fill:none\" points=\"\n  2614.89,1776.71 2614.89,171.344 \n  \"/>\n<polyline clip-path=\"url(#clip633)\" style=\"stroke:#000000; stroke-linecap:butt; stroke-linejoin:round; stroke-width:2; stroke-opacity:0.1; fill:none\" points=\"\n  2836.28,1776.71 2836.28,171.344 \n  \"/>\n<polyline clip-path=\"url(#clip633)\" style=\"stroke:#000000; stroke-linecap:butt; stroke-linejoin:round; stroke-width:2; stroke-opacity:0.1; fill:none\" points=\"\n  3057.67,1776.71 3057.67,171.344 \n  \"/>\n<polyline clip-path=\"url(#clip633)\" style=\"stroke:#000000; stroke-linecap:butt; stroke-linejoin:round; stroke-width:2; stroke-opacity:0.1; fill:none\" points=\"\n  3279.06,1776.71 3279.06,171.344 \n  \"/>\n<polyline clip-path=\"url(#clip633)\" style=\"stroke:#000000; stroke-linecap:butt; stroke-linejoin:round; stroke-width:2; stroke-opacity:0.1; fill:none\" points=\"\n  3500.45,1776.71 3500.45,171.344 \n  \"/>\n<polyline clip-path=\"url(#clip633)\" style=\"stroke:#000000; stroke-linecap:butt; stroke-linejoin:round; stroke-width:2; stroke-opacity:0.1; fill:none\" points=\"\n  3721.84,1776.71 3721.84,171.344 \n  \"/>\n<polyline clip-path=\"url(#clip633)\" style=\"stroke:#000000; stroke-linecap:butt; stroke-linejoin:round; stroke-width:2; stroke-opacity:0.05; fill:none\" points=\"\n  2216.39,1776.71 2216.39,171.344 \n  \"/>\n<polyline clip-path=\"url(#clip633)\" style=\"stroke:#000000; stroke-linecap:butt; stroke-linejoin:round; stroke-width:2; stroke-opacity:0.05; fill:none\" points=\"\n  2260.67,1776.71 2260.67,171.344 \n  \"/>\n<polyline clip-path=\"url(#clip633)\" style=\"stroke:#000000; stroke-linecap:butt; stroke-linejoin:round; stroke-width:2; stroke-opacity:0.05; fill:none\" points=\"\n  2304.95,1776.71 2304.95,171.344 \n  \"/>\n<polyline clip-path=\"url(#clip633)\" style=\"stroke:#000000; stroke-linecap:butt; stroke-linejoin:round; stroke-width:2; stroke-opacity:0.05; fill:none\" points=\"\n  2349.22,1776.71 2349.22,171.344 \n  \"/>\n<polyline clip-path=\"url(#clip633)\" style=\"stroke:#000000; stroke-linecap:butt; stroke-linejoin:round; stroke-width:2; stroke-opacity:0.05; fill:none\" points=\"\n  2437.78,1776.71 2437.78,171.344 \n  \"/>\n<polyline clip-path=\"url(#clip633)\" style=\"stroke:#000000; stroke-linecap:butt; stroke-linejoin:round; stroke-width:2; stroke-opacity:0.05; fill:none\" points=\"\n  2482.06,1776.71 2482.06,171.344 \n  \"/>\n<polyline clip-path=\"url(#clip633)\" style=\"stroke:#000000; stroke-linecap:butt; stroke-linejoin:round; stroke-width:2; stroke-opacity:0.05; fill:none\" points=\"\n  2526.33,1776.71 2526.33,171.344 \n  \"/>\n<polyline clip-path=\"url(#clip633)\" style=\"stroke:#000000; stroke-linecap:butt; stroke-linejoin:round; stroke-width:2; stroke-opacity:0.05; fill:none\" points=\"\n  2570.61,1776.71 2570.61,171.344 \n  \"/>\n<polyline clip-path=\"url(#clip633)\" style=\"stroke:#000000; stroke-linecap:butt; stroke-linejoin:round; stroke-width:2; stroke-opacity:0.05; fill:none\" points=\"\n  2659.17,1776.71 2659.17,171.344 \n  \"/>\n<polyline clip-path=\"url(#clip633)\" style=\"stroke:#000000; stroke-linecap:butt; stroke-linejoin:round; stroke-width:2; stroke-opacity:0.05; fill:none\" points=\"\n  2703.45,1776.71 2703.45,171.344 \n  \"/>\n<polyline clip-path=\"url(#clip633)\" style=\"stroke:#000000; stroke-linecap:butt; stroke-linejoin:round; stroke-width:2; stroke-opacity:0.05; fill:none\" points=\"\n  2747.72,1776.71 2747.72,171.344 \n  \"/>\n<polyline clip-path=\"url(#clip633)\" style=\"stroke:#000000; stroke-linecap:butt; stroke-linejoin:round; stroke-width:2; stroke-opacity:0.05; fill:none\" points=\"\n  2792,1776.71 2792,171.344 \n  \"/>\n<polyline clip-path=\"url(#clip633)\" style=\"stroke:#000000; stroke-linecap:butt; stroke-linejoin:round; stroke-width:2; stroke-opacity:0.05; fill:none\" points=\"\n  2880.56,1776.71 2880.56,171.344 \n  \"/>\n<polyline clip-path=\"url(#clip633)\" style=\"stroke:#000000; stroke-linecap:butt; stroke-linejoin:round; stroke-width:2; stroke-opacity:0.05; fill:none\" points=\"\n  2924.84,1776.71 2924.84,171.344 \n  \"/>\n<polyline clip-path=\"url(#clip633)\" style=\"stroke:#000000; stroke-linecap:butt; stroke-linejoin:round; stroke-width:2; stroke-opacity:0.05; fill:none\" points=\"\n  2969.11,1776.71 2969.11,171.344 \n  \"/>\n<polyline clip-path=\"url(#clip633)\" style=\"stroke:#000000; stroke-linecap:butt; stroke-linejoin:round; stroke-width:2; stroke-opacity:0.05; fill:none\" points=\"\n  3013.39,1776.71 3013.39,171.344 \n  \"/>\n<polyline clip-path=\"url(#clip633)\" style=\"stroke:#000000; stroke-linecap:butt; stroke-linejoin:round; stroke-width:2; stroke-opacity:0.05; fill:none\" points=\"\n  3101.95,1776.71 3101.95,171.344 \n  \"/>\n<polyline clip-path=\"url(#clip633)\" style=\"stroke:#000000; stroke-linecap:butt; stroke-linejoin:round; stroke-width:2; stroke-opacity:0.05; fill:none\" points=\"\n  3146.22,1776.71 3146.22,171.344 \n  \"/>\n<polyline clip-path=\"url(#clip633)\" style=\"stroke:#000000; stroke-linecap:butt; stroke-linejoin:round; stroke-width:2; stroke-opacity:0.05; fill:none\" points=\"\n  3190.5,1776.71 3190.5,171.344 \n  \"/>\n<polyline clip-path=\"url(#clip633)\" style=\"stroke:#000000; stroke-linecap:butt; stroke-linejoin:round; stroke-width:2; stroke-opacity:0.05; fill:none\" points=\"\n  3234.78,1776.71 3234.78,171.344 \n  \"/>\n<polyline clip-path=\"url(#clip633)\" style=\"stroke:#000000; stroke-linecap:butt; stroke-linejoin:round; stroke-width:2; stroke-opacity:0.05; fill:none\" points=\"\n  3323.34,1776.71 3323.34,171.344 \n  \"/>\n<polyline clip-path=\"url(#clip633)\" style=\"stroke:#000000; stroke-linecap:butt; stroke-linejoin:round; stroke-width:2; stroke-opacity:0.05; fill:none\" points=\"\n  3367.61,1776.71 3367.61,171.344 \n  \"/>\n<polyline clip-path=\"url(#clip633)\" style=\"stroke:#000000; stroke-linecap:butt; stroke-linejoin:round; stroke-width:2; stroke-opacity:0.05; fill:none\" points=\"\n  3411.89,1776.71 3411.89,171.344 \n  \"/>\n<polyline clip-path=\"url(#clip633)\" style=\"stroke:#000000; stroke-linecap:butt; stroke-linejoin:round; stroke-width:2; stroke-opacity:0.05; fill:none\" points=\"\n  3456.17,1776.71 3456.17,171.344 \n  \"/>\n<polyline clip-path=\"url(#clip633)\" style=\"stroke:#000000; stroke-linecap:butt; stroke-linejoin:round; stroke-width:2; stroke-opacity:0.05; fill:none\" points=\"\n  3544.73,1776.71 3544.73,171.344 \n  \"/>\n<polyline clip-path=\"url(#clip633)\" style=\"stroke:#000000; stroke-linecap:butt; stroke-linejoin:round; stroke-width:2; stroke-opacity:0.05; fill:none\" points=\"\n  3589,1776.71 3589,171.344 \n  \"/>\n<polyline clip-path=\"url(#clip633)\" style=\"stroke:#000000; stroke-linecap:butt; stroke-linejoin:round; stroke-width:2; stroke-opacity:0.05; fill:none\" points=\"\n  3633.28,1776.71 3633.28,171.344 \n  \"/>\n<polyline clip-path=\"url(#clip633)\" style=\"stroke:#000000; stroke-linecap:butt; stroke-linejoin:round; stroke-width:2; stroke-opacity:0.05; fill:none\" points=\"\n  3677.56,1776.71 3677.56,171.344 \n  \"/>\n<polyline clip-path=\"url(#clip633)\" style=\"stroke:#000000; stroke-linecap:butt; stroke-linejoin:round; stroke-width:2; stroke-opacity:0.05; fill:none\" points=\"\n  3766.12,1776.71 3766.12,171.344 \n  \"/>\n<polyline clip-path=\"url(#clip633)\" style=\"stroke:#000000; stroke-linecap:butt; stroke-linejoin:round; stroke-width:2; stroke-opacity:0.05; fill:none\" points=\"\n  3810.39,1776.71 3810.39,171.344 \n  \"/>\n<polyline clip-path=\"url(#clip633)\" style=\"stroke:#000000; stroke-linecap:butt; stroke-linejoin:round; stroke-width:2; stroke-opacity:0.05; fill:none\" points=\"\n  3854.67,1776.71 3854.67,171.344 \n  \"/>\n<polyline clip-path=\"url(#clip630)\" style=\"stroke:#000000; stroke-linecap:butt; stroke-linejoin:round; stroke-width:4; stroke-opacity:1; fill:none\" points=\"\n  2213.22,1776.71 3889.76,1776.71 \n  \"/>\n<polyline clip-path=\"url(#clip630)\" style=\"stroke:#000000; stroke-linecap:butt; stroke-linejoin:round; stroke-width:4; stroke-opacity:1; fill:none\" points=\"\n  2393.5,1776.71 2393.5,1757.81 \n  \"/>\n<polyline clip-path=\"url(#clip630)\" style=\"stroke:#000000; stroke-linecap:butt; stroke-linejoin:round; stroke-width:4; stroke-opacity:1; fill:none\" points=\"\n  2614.89,1776.71 2614.89,1757.81 \n  \"/>\n<polyline clip-path=\"url(#clip630)\" style=\"stroke:#000000; stroke-linecap:butt; stroke-linejoin:round; stroke-width:4; stroke-opacity:1; fill:none\" points=\"\n  2836.28,1776.71 2836.28,1757.81 \n  \"/>\n<polyline clip-path=\"url(#clip630)\" style=\"stroke:#000000; stroke-linecap:butt; stroke-linejoin:round; stroke-width:4; stroke-opacity:1; fill:none\" points=\"\n  3057.67,1776.71 3057.67,1757.81 \n  \"/>\n<polyline clip-path=\"url(#clip630)\" style=\"stroke:#000000; stroke-linecap:butt; stroke-linejoin:round; stroke-width:4; stroke-opacity:1; fill:none\" points=\"\n  3279.06,1776.71 3279.06,1757.81 \n  \"/>\n<polyline clip-path=\"url(#clip630)\" style=\"stroke:#000000; stroke-linecap:butt; stroke-linejoin:round; stroke-width:4; stroke-opacity:1; fill:none\" points=\"\n  3500.45,1776.71 3500.45,1757.81 \n  \"/>\n<polyline clip-path=\"url(#clip630)\" style=\"stroke:#000000; stroke-linecap:butt; stroke-linejoin:round; stroke-width:4; stroke-opacity:1; fill:none\" points=\"\n  3721.84,1776.71 3721.84,1757.81 \n  \"/>\n<polyline clip-path=\"url(#clip630)\" style=\"stroke:#000000; stroke-linecap:butt; stroke-linejoin:round; stroke-width:4; stroke-opacity:1; fill:none\" points=\"\n  2216.39,1776.71 2216.39,1767.26 \n  \"/>\n<polyline clip-path=\"url(#clip630)\" style=\"stroke:#000000; stroke-linecap:butt; stroke-linejoin:round; stroke-width:4; stroke-opacity:1; fill:none\" points=\"\n  2260.67,1776.71 2260.67,1767.26 \n  \"/>\n<polyline clip-path=\"url(#clip630)\" style=\"stroke:#000000; stroke-linecap:butt; stroke-linejoin:round; stroke-width:4; stroke-opacity:1; fill:none\" points=\"\n  2304.95,1776.71 2304.95,1767.26 \n  \"/>\n<polyline clip-path=\"url(#clip630)\" style=\"stroke:#000000; stroke-linecap:butt; stroke-linejoin:round; stroke-width:4; stroke-opacity:1; fill:none\" points=\"\n  2349.22,1776.71 2349.22,1767.26 \n  \"/>\n<polyline clip-path=\"url(#clip630)\" style=\"stroke:#000000; stroke-linecap:butt; stroke-linejoin:round; stroke-width:4; stroke-opacity:1; fill:none\" points=\"\n  2437.78,1776.71 2437.78,1767.26 \n  \"/>\n<polyline clip-path=\"url(#clip630)\" style=\"stroke:#000000; stroke-linecap:butt; stroke-linejoin:round; stroke-width:4; stroke-opacity:1; fill:none\" points=\"\n  2482.06,1776.71 2482.06,1767.26 \n  \"/>\n<polyline clip-path=\"url(#clip630)\" style=\"stroke:#000000; stroke-linecap:butt; stroke-linejoin:round; stroke-width:4; stroke-opacity:1; fill:none\" points=\"\n  2526.33,1776.71 2526.33,1767.26 \n  \"/>\n<polyline clip-path=\"url(#clip630)\" style=\"stroke:#000000; stroke-linecap:butt; stroke-linejoin:round; stroke-width:4; stroke-opacity:1; fill:none\" points=\"\n  2570.61,1776.71 2570.61,1767.26 \n  \"/>\n<polyline clip-path=\"url(#clip630)\" style=\"stroke:#000000; stroke-linecap:butt; stroke-linejoin:round; stroke-width:4; stroke-opacity:1; fill:none\" points=\"\n  2659.17,1776.71 2659.17,1767.26 \n  \"/>\n<polyline clip-path=\"url(#clip630)\" style=\"stroke:#000000; stroke-linecap:butt; stroke-linejoin:round; stroke-width:4; stroke-opacity:1; fill:none\" points=\"\n  2703.45,1776.71 2703.45,1767.26 \n  \"/>\n<polyline clip-path=\"url(#clip630)\" style=\"stroke:#000000; stroke-linecap:butt; stroke-linejoin:round; stroke-width:4; stroke-opacity:1; fill:none\" points=\"\n  2747.72,1776.71 2747.72,1767.26 \n  \"/>\n<polyline clip-path=\"url(#clip630)\" style=\"stroke:#000000; stroke-linecap:butt; stroke-linejoin:round; stroke-width:4; stroke-opacity:1; fill:none\" points=\"\n  2792,1776.71 2792,1767.26 \n  \"/>\n<polyline clip-path=\"url(#clip630)\" style=\"stroke:#000000; stroke-linecap:butt; stroke-linejoin:round; stroke-width:4; stroke-opacity:1; fill:none\" points=\"\n  2880.56,1776.71 2880.56,1767.26 \n  \"/>\n<polyline clip-path=\"url(#clip630)\" style=\"stroke:#000000; stroke-linecap:butt; stroke-linejoin:round; stroke-width:4; stroke-opacity:1; fill:none\" points=\"\n  2924.84,1776.71 2924.84,1767.26 \n  \"/>\n<polyline clip-path=\"url(#clip630)\" style=\"stroke:#000000; stroke-linecap:butt; stroke-linejoin:round; stroke-width:4; stroke-opacity:1; fill:none\" points=\"\n  2969.11,1776.71 2969.11,1767.26 \n  \"/>\n<polyline clip-path=\"url(#clip630)\" style=\"stroke:#000000; stroke-linecap:butt; stroke-linejoin:round; stroke-width:4; stroke-opacity:1; fill:none\" points=\"\n  3013.39,1776.71 3013.39,1767.26 \n  \"/>\n<polyline clip-path=\"url(#clip630)\" style=\"stroke:#000000; stroke-linecap:butt; stroke-linejoin:round; stroke-width:4; stroke-opacity:1; fill:none\" points=\"\n  3101.95,1776.71 3101.95,1767.26 \n  \"/>\n<polyline clip-path=\"url(#clip630)\" style=\"stroke:#000000; stroke-linecap:butt; stroke-linejoin:round; stroke-width:4; stroke-opacity:1; fill:none\" points=\"\n  3146.22,1776.71 3146.22,1767.26 \n  \"/>\n<polyline clip-path=\"url(#clip630)\" style=\"stroke:#000000; stroke-linecap:butt; stroke-linejoin:round; stroke-width:4; stroke-opacity:1; fill:none\" points=\"\n  3190.5,1776.71 3190.5,1767.26 \n  \"/>\n<polyline clip-path=\"url(#clip630)\" style=\"stroke:#000000; stroke-linecap:butt; stroke-linejoin:round; stroke-width:4; stroke-opacity:1; fill:none\" points=\"\n  3234.78,1776.71 3234.78,1767.26 \n  \"/>\n<polyline clip-path=\"url(#clip630)\" style=\"stroke:#000000; stroke-linecap:butt; stroke-linejoin:round; stroke-width:4; stroke-opacity:1; fill:none\" points=\"\n  3323.34,1776.71 3323.34,1767.26 \n  \"/>\n<polyline clip-path=\"url(#clip630)\" style=\"stroke:#000000; stroke-linecap:butt; stroke-linejoin:round; stroke-width:4; stroke-opacity:1; fill:none\" points=\"\n  3367.61,1776.71 3367.61,1767.26 \n  \"/>\n<polyline clip-path=\"url(#clip630)\" style=\"stroke:#000000; stroke-linecap:butt; stroke-linejoin:round; stroke-width:4; stroke-opacity:1; fill:none\" points=\"\n  3411.89,1776.71 3411.89,1767.26 \n  \"/>\n<polyline clip-path=\"url(#clip630)\" style=\"stroke:#000000; stroke-linecap:butt; stroke-linejoin:round; stroke-width:4; stroke-opacity:1; fill:none\" points=\"\n  3456.17,1776.71 3456.17,1767.26 \n  \"/>\n<polyline clip-path=\"url(#clip630)\" style=\"stroke:#000000; stroke-linecap:butt; stroke-linejoin:round; stroke-width:4; stroke-opacity:1; fill:none\" points=\"\n  3544.73,1776.71 3544.73,1767.26 \n  \"/>\n<polyline clip-path=\"url(#clip630)\" style=\"stroke:#000000; stroke-linecap:butt; stroke-linejoin:round; stroke-width:4; stroke-opacity:1; fill:none\" points=\"\n  3589,1776.71 3589,1767.26 \n  \"/>\n<polyline clip-path=\"url(#clip630)\" style=\"stroke:#000000; stroke-linecap:butt; stroke-linejoin:round; stroke-width:4; stroke-opacity:1; fill:none\" points=\"\n  3633.28,1776.71 3633.28,1767.26 \n  \"/>\n<polyline clip-path=\"url(#clip630)\" style=\"stroke:#000000; stroke-linecap:butt; stroke-linejoin:round; stroke-width:4; stroke-opacity:1; fill:none\" points=\"\n  3677.56,1776.71 3677.56,1767.26 \n  \"/>\n<polyline clip-path=\"url(#clip630)\" style=\"stroke:#000000; stroke-linecap:butt; stroke-linejoin:round; stroke-width:4; stroke-opacity:1; fill:none\" points=\"\n  3766.12,1776.71 3766.12,1767.26 \n  \"/>\n<polyline clip-path=\"url(#clip630)\" style=\"stroke:#000000; stroke-linecap:butt; stroke-linejoin:round; stroke-width:4; stroke-opacity:1; fill:none\" points=\"\n  3810.39,1776.71 3810.39,1767.26 \n  \"/>\n<polyline clip-path=\"url(#clip630)\" style=\"stroke:#000000; stroke-linecap:butt; stroke-linejoin:round; stroke-width:4; stroke-opacity:1; fill:none\" points=\"\n  3854.67,1776.71 3854.67,1767.26 \n  \"/>\n<path clip-path=\"url(#clip630)\" d=\"M2340.53 1835.08 L2370.2 1835.08 L2370.2 1839.01 L2340.53 1839.01 L2340.53 1835.08 Z\" fill=\"#000000\" fill-rule=\"evenodd\" fill-opacity=\"1\" /><path clip-path=\"url(#clip630)\" d=\"M2379.11 1817.35 L2401.34 1817.35 L2401.34 1819.34 L2388.79 1851.91 L2383.91 1851.91 L2395.71 1821.28 L2379.11 1821.28 L2379.11 1817.35 Z\" fill=\"#000000\" fill-rule=\"evenodd\" fill-opacity=\"1\" /><path clip-path=\"url(#clip630)\" d=\"M2410.46 1846.03 L2415.34 1846.03 L2415.34 1851.91 L2410.46 1851.91 L2410.46 1846.03 Z\" fill=\"#000000\" fill-rule=\"evenodd\" fill-opacity=\"1\" /><path clip-path=\"url(#clip630)\" d=\"M2425.57 1817.35 L2443.93 1817.35 L2443.93 1821.28 L2429.85 1821.28 L2429.85 1829.76 Q2430.87 1829.41 2431.89 1829.25 Q2432.91 1829.06 2433.93 1829.06 Q2439.72 1829.06 2443.1 1832.23 Q2446.48 1835.4 2446.48 1840.82 Q2446.48 1846.4 2443 1849.5 Q2439.53 1852.58 2433.21 1852.58 Q2431.04 1852.58 2428.77 1852.21 Q2426.52 1851.84 2424.11 1851.1 L2424.11 1846.4 Q2426.2 1847.53 2428.42 1848.09 Q2430.64 1848.64 2433.12 1848.64 Q2437.12 1848.64 2439.46 1846.54 Q2441.8 1844.43 2441.8 1840.82 Q2441.8 1837.21 2439.46 1835.1 Q2437.12 1833 2433.12 1833 Q2431.24 1833 2429.37 1833.41 Q2427.52 1833.83 2425.57 1834.71 L2425.57 1817.35 Z\" fill=\"#000000\" fill-rule=\"evenodd\" fill-opacity=\"1\" /><path clip-path=\"url(#clip630)\" d=\"M2561.42 1835.08 L2591.09 1835.08 L2591.09 1839.01 L2561.42 1839.01 L2561.42 1835.08 Z\" fill=\"#000000\" fill-rule=\"evenodd\" fill-opacity=\"1\" /><path clip-path=\"url(#clip630)\" d=\"M2601.23 1817.35 L2619.59 1817.35 L2619.59 1821.28 L2605.52 1821.28 L2605.52 1829.76 Q2606.53 1829.41 2607.55 1829.25 Q2608.57 1829.06 2609.59 1829.06 Q2615.38 1829.06 2618.76 1832.23 Q2622.14 1835.4 2622.14 1840.82 Q2622.14 1846.4 2618.66 1849.5 Q2615.19 1852.58 2608.87 1852.58 Q2606.7 1852.58 2604.43 1852.21 Q2602.18 1851.84 2599.77 1851.1 L2599.77 1846.4 Q2601.86 1847.53 2604.08 1848.09 Q2606.3 1848.64 2608.78 1848.64 Q2612.78 1848.64 2615.12 1846.54 Q2617.46 1844.43 2617.46 1840.82 Q2617.46 1837.21 2615.12 1835.1 Q2612.78 1833 2608.78 1833 Q2606.9 1833 2605.03 1833.41 Q2603.18 1833.83 2601.23 1834.71 L2601.23 1817.35 Z\" fill=\"#000000\" fill-rule=\"evenodd\" fill-opacity=\"1\" /><path clip-path=\"url(#clip630)\" d=\"M2631.35 1846.03 L2636.23 1846.03 L2636.23 1851.91 L2631.35 1851.91 L2631.35 1846.03 Z\" fill=\"#000000\" fill-rule=\"evenodd\" fill-opacity=\"1\" /><path clip-path=\"url(#clip630)\" d=\"M2656.42 1820.43 Q2652.81 1820.43 2650.98 1823.99 Q2649.17 1827.53 2649.17 1834.66 Q2649.17 1841.77 2650.98 1845.33 Q2652.81 1848.88 2656.42 1848.88 Q2660.05 1848.88 2661.86 1845.33 Q2663.69 1841.77 2663.69 1834.66 Q2663.69 1827.53 2661.86 1823.99 Q2660.05 1820.43 2656.42 1820.43 M2656.42 1816.72 Q2662.23 1816.72 2665.28 1821.33 Q2668.36 1825.91 2668.36 1834.66 Q2668.36 1843.39 2665.28 1848 Q2662.23 1852.58 2656.42 1852.58 Q2650.61 1852.58 2647.53 1848 Q2644.47 1843.39 2644.47 1834.66 Q2644.47 1825.91 2647.53 1821.33 Q2650.61 1816.72 2656.42 1816.72 Z\" fill=\"#000000\" fill-rule=\"evenodd\" fill-opacity=\"1\" /><path clip-path=\"url(#clip630)\" d=\"M2783.31 1835.08 L2812.98 1835.08 L2812.98 1839.01 L2783.31 1839.01 L2783.31 1835.08 Z\" fill=\"#000000\" fill-rule=\"evenodd\" fill-opacity=\"1\" /><path clip-path=\"url(#clip630)\" d=\"M2827.1 1847.97 L2843.42 1847.97 L2843.42 1851.91 L2821.48 1851.91 L2821.48 1847.97 Q2824.14 1845.22 2828.72 1840.59 Q2833.33 1835.94 2834.51 1834.59 Q2836.75 1832.07 2837.63 1830.33 Q2838.54 1828.57 2838.54 1826.88 Q2838.54 1824.13 2836.59 1822.39 Q2834.67 1820.66 2831.57 1820.66 Q2829.37 1820.66 2826.92 1821.42 Q2824.49 1822.19 2821.71 1823.74 L2821.71 1819.01 Q2824.53 1817.88 2826.99 1817.3 Q2829.44 1816.72 2831.48 1816.72 Q2836.85 1816.72 2840.04 1819.41 Q2843.24 1822.09 2843.24 1826.58 Q2843.24 1828.71 2842.43 1830.63 Q2841.64 1832.53 2839.53 1835.13 Q2838.95 1835.8 2835.85 1839.01 Q2832.75 1842.21 2827.1 1847.97 Z\" fill=\"#000000\" fill-rule=\"evenodd\" fill-opacity=\"1\" /><path clip-path=\"url(#clip630)\" d=\"M2853.24 1846.03 L2858.12 1846.03 L2858.12 1851.91 L2853.24 1851.91 L2853.24 1846.03 Z\" fill=\"#000000\" fill-rule=\"evenodd\" fill-opacity=\"1\" /><path clip-path=\"url(#clip630)\" d=\"M2868.35 1817.35 L2886.71 1817.35 L2886.71 1821.28 L2872.63 1821.28 L2872.63 1829.76 Q2873.65 1829.41 2874.67 1829.25 Q2875.69 1829.06 2876.71 1829.06 Q2882.49 1829.06 2885.87 1832.23 Q2889.25 1835.4 2889.25 1840.82 Q2889.25 1846.4 2885.78 1849.5 Q2882.31 1852.58 2875.99 1852.58 Q2873.81 1852.58 2871.55 1852.21 Q2869.3 1851.84 2866.89 1851.1 L2866.89 1846.4 Q2868.98 1847.53 2871.2 1848.09 Q2873.42 1848.64 2875.9 1848.64 Q2879.9 1848.64 2882.24 1846.54 Q2884.58 1844.43 2884.58 1840.82 Q2884.58 1837.21 2882.24 1835.1 Q2879.9 1833 2875.9 1833 Q2874.02 1833 2872.15 1833.41 Q2870.3 1833.83 2868.35 1834.71 L2868.35 1817.35 Z\" fill=\"#000000\" fill-rule=\"evenodd\" fill-opacity=\"1\" /><path clip-path=\"url(#clip630)\" d=\"M3035.05 1820.43 Q3031.44 1820.43 3029.61 1823.99 Q3027.81 1827.53 3027.81 1834.66 Q3027.81 1841.77 3029.61 1845.33 Q3031.44 1848.88 3035.05 1848.88 Q3038.69 1848.88 3040.49 1845.33 Q3042.32 1841.77 3042.32 1834.66 Q3042.32 1827.53 3040.49 1823.99 Q3038.69 1820.43 3035.05 1820.43 M3035.05 1816.72 Q3040.86 1816.72 3043.92 1821.33 Q3047 1825.91 3047 1834.66 Q3047 1843.39 3043.92 1848 Q3040.86 1852.58 3035.05 1852.58 Q3029.24 1852.58 3026.16 1848 Q3023.11 1843.39 3023.11 1834.66 Q3023.11 1825.91 3026.16 1821.33 Q3029.24 1816.72 3035.05 1816.72 Z\" fill=\"#000000\" fill-rule=\"evenodd\" fill-opacity=\"1\" /><path clip-path=\"url(#clip630)\" d=\"M3055.22 1846.03 L3060.1 1846.03 L3060.1 1851.91 L3055.22 1851.91 L3055.22 1846.03 Z\" fill=\"#000000\" fill-rule=\"evenodd\" fill-opacity=\"1\" /><path clip-path=\"url(#clip630)\" d=\"M3080.28 1820.43 Q3076.67 1820.43 3074.84 1823.99 Q3073.04 1827.53 3073.04 1834.66 Q3073.04 1841.77 3074.84 1845.33 Q3076.67 1848.88 3080.28 1848.88 Q3083.92 1848.88 3085.72 1845.33 Q3087.55 1841.77 3087.55 1834.66 Q3087.55 1827.53 3085.72 1823.99 Q3083.92 1820.43 3080.28 1820.43 M3080.28 1816.72 Q3086.09 1816.72 3089.15 1821.33 Q3092.23 1825.91 3092.23 1834.66 Q3092.23 1843.39 3089.15 1848 Q3086.09 1852.58 3080.28 1852.58 Q3074.47 1852.58 3071.4 1848 Q3068.34 1843.39 3068.34 1834.66 Q3068.34 1825.91 3071.4 1821.33 Q3074.47 1816.72 3080.28 1816.72 Z\" fill=\"#000000\" fill-rule=\"evenodd\" fill-opacity=\"1\" /><path clip-path=\"url(#clip630)\" d=\"M3250.79 1847.97 L3267.11 1847.97 L3267.11 1851.91 L3245.17 1851.91 L3245.17 1847.97 Q3247.83 1845.22 3252.42 1840.59 Q3257.02 1835.94 3258.2 1834.59 Q3260.45 1832.07 3261.33 1830.33 Q3262.23 1828.57 3262.23 1826.88 Q3262.23 1824.13 3260.29 1822.39 Q3258.36 1820.66 3255.26 1820.66 Q3253.06 1820.66 3250.61 1821.42 Q3248.18 1822.19 3245.4 1823.74 L3245.4 1819.01 Q3248.23 1817.88 3250.68 1817.3 Q3253.13 1816.72 3255.17 1816.72 Q3260.54 1816.72 3263.73 1819.41 Q3266.93 1822.09 3266.93 1826.58 Q3266.93 1828.71 3266.12 1830.63 Q3265.33 1832.53 3263.23 1835.13 Q3262.65 1835.8 3259.54 1839.01 Q3256.44 1842.21 3250.79 1847.97 Z\" fill=\"#000000\" fill-rule=\"evenodd\" fill-opacity=\"1\" /><path clip-path=\"url(#clip630)\" d=\"M3276.93 1846.03 L3281.81 1846.03 L3281.81 1851.91 L3276.93 1851.91 L3276.93 1846.03 Z\" fill=\"#000000\" fill-rule=\"evenodd\" fill-opacity=\"1\" /><path clip-path=\"url(#clip630)\" d=\"M3292.04 1817.35 L3310.4 1817.35 L3310.4 1821.28 L3296.33 1821.28 L3296.33 1829.76 Q3297.35 1829.41 3298.36 1829.25 Q3299.38 1829.06 3300.4 1829.06 Q3306.19 1829.06 3309.57 1832.23 Q3312.95 1835.4 3312.95 1840.82 Q3312.95 1846.4 3309.48 1849.5 Q3306 1852.58 3299.68 1852.58 Q3297.51 1852.58 3295.24 1852.21 Q3292.99 1851.84 3290.59 1851.1 L3290.59 1846.4 Q3292.67 1847.53 3294.89 1848.09 Q3297.11 1848.64 3299.59 1848.64 Q3303.6 1848.64 3305.93 1846.54 Q3308.27 1844.43 3308.27 1840.82 Q3308.27 1837.21 3305.93 1835.1 Q3303.6 1833 3299.59 1833 Q3297.72 1833 3295.84 1833.41 Q3293.99 1833.83 3292.04 1834.71 L3292.04 1817.35 Z\" fill=\"#000000\" fill-rule=\"evenodd\" fill-opacity=\"1\" /><path clip-path=\"url(#clip630)\" d=\"M3467.61 1817.35 L3485.97 1817.35 L3485.97 1821.28 L3471.89 1821.28 L3471.89 1829.76 Q3472.91 1829.41 3473.93 1829.25 Q3474.95 1829.06 3475.97 1829.06 Q3481.76 1829.06 3485.14 1832.23 Q3488.52 1835.4 3488.52 1840.82 Q3488.52 1846.4 3485.04 1849.5 Q3481.57 1852.58 3475.25 1852.58 Q3473.08 1852.58 3470.81 1852.21 Q3468.56 1851.84 3466.15 1851.1 L3466.15 1846.4 Q3468.24 1847.53 3470.46 1848.09 Q3472.68 1848.64 3475.16 1848.64 Q3479.16 1848.64 3481.5 1846.54 Q3483.84 1844.43 3483.84 1840.82 Q3483.84 1837.21 3481.5 1835.1 Q3479.16 1833 3475.16 1833 Q3473.28 1833 3471.41 1833.41 Q3469.56 1833.83 3467.61 1834.71 L3467.61 1817.35 Z\" fill=\"#000000\" fill-rule=\"evenodd\" fill-opacity=\"1\" /><path clip-path=\"url(#clip630)\" d=\"M3497.73 1846.03 L3502.61 1846.03 L3502.61 1851.91 L3497.73 1851.91 L3497.73 1846.03 Z\" fill=\"#000000\" fill-rule=\"evenodd\" fill-opacity=\"1\" /><path clip-path=\"url(#clip630)\" d=\"M3522.8 1820.43 Q3519.19 1820.43 3517.36 1823.99 Q3515.55 1827.53 3515.55 1834.66 Q3515.55 1841.77 3517.36 1845.33 Q3519.19 1848.88 3522.8 1848.88 Q3526.43 1848.88 3528.24 1845.33 Q3530.07 1841.77 3530.07 1834.66 Q3530.07 1827.53 3528.24 1823.99 Q3526.43 1820.43 3522.8 1820.43 M3522.8 1816.72 Q3528.61 1816.72 3531.66 1821.33 Q3534.74 1825.91 3534.74 1834.66 Q3534.74 1843.39 3531.66 1848 Q3528.61 1852.58 3522.8 1852.58 Q3516.99 1852.58 3513.91 1848 Q3510.85 1843.39 3510.85 1834.66 Q3510.85 1825.91 3513.91 1821.33 Q3516.99 1816.72 3522.8 1816.72 Z\" fill=\"#000000\" fill-rule=\"evenodd\" fill-opacity=\"1\" /><path clip-path=\"url(#clip630)\" d=\"M3688.16 1817.35 L3710.38 1817.35 L3710.38 1819.34 L3697.83 1851.91 L3692.95 1851.91 L3704.75 1821.28 L3688.16 1821.28 L3688.16 1817.35 Z\" fill=\"#000000\" fill-rule=\"evenodd\" fill-opacity=\"1\" /><path clip-path=\"url(#clip630)\" d=\"M3719.5 1846.03 L3724.38 1846.03 L3724.38 1851.91 L3719.5 1851.91 L3719.5 1846.03 Z\" fill=\"#000000\" fill-rule=\"evenodd\" fill-opacity=\"1\" /><path clip-path=\"url(#clip630)\" d=\"M3734.62 1817.35 L3752.97 1817.35 L3752.97 1821.28 L3738.9 1821.28 L3738.9 1829.76 Q3739.92 1829.41 3740.93 1829.25 Q3741.95 1829.06 3742.97 1829.06 Q3748.76 1829.06 3752.14 1832.23 Q3755.52 1835.4 3755.52 1840.82 Q3755.52 1846.4 3752.05 1849.5 Q3748.57 1852.58 3742.25 1852.58 Q3740.08 1852.58 3737.81 1852.21 Q3735.56 1851.84 3733.16 1851.1 L3733.16 1846.4 Q3735.24 1847.53 3737.46 1848.09 Q3739.68 1848.64 3742.16 1848.64 Q3746.17 1848.64 3748.5 1846.54 Q3750.84 1844.43 3750.84 1840.82 Q3750.84 1837.21 3748.5 1835.1 Q3746.17 1833 3742.16 1833 Q3740.29 1833 3738.41 1833.41 Q3736.56 1833.83 3734.62 1834.71 L3734.62 1817.35 Z\" fill=\"#000000\" fill-rule=\"evenodd\" fill-opacity=\"1\" /><path clip-path=\"url(#clip630)\" d=\"M3068.11 1909.92 L3055.21 1927.27 L3068.77 1945.57 L3061.87 1945.57 L3051.49 1931.57 L3041.11 1945.57 L3034.21 1945.57 L3048.05 1926.92 L3035.39 1909.92 L3042.29 1909.92 L3051.75 1922.62 L3061.2 1909.92 L3068.11 1909.92 Z\" fill=\"#000000\" fill-rule=\"evenodd\" fill-opacity=\"1\" /><polyline clip-path=\"url(#clip633)\" style=\"stroke:#000000; stroke-linecap:butt; stroke-linejoin:round; stroke-width:2; stroke-opacity:0.1; fill:none\" points=\"\n  2213.22,1731.27 3889.76,1731.27 \n  \"/>\n<polyline clip-path=\"url(#clip633)\" style=\"stroke:#000000; stroke-linecap:butt; stroke-linejoin:round; stroke-width:2; stroke-opacity:0.1; fill:none\" points=\"\n  2213.22,1414.69 3889.76,1414.69 \n  \"/>\n<polyline clip-path=\"url(#clip633)\" style=\"stroke:#000000; stroke-linecap:butt; stroke-linejoin:round; stroke-width:2; stroke-opacity:0.1; fill:none\" points=\"\n  2213.22,1098.12 3889.76,1098.12 \n  \"/>\n<polyline clip-path=\"url(#clip633)\" style=\"stroke:#000000; stroke-linecap:butt; stroke-linejoin:round; stroke-width:2; stroke-opacity:0.1; fill:none\" points=\"\n  2213.22,781.536 3889.76,781.536 \n  \"/>\n<polyline clip-path=\"url(#clip633)\" style=\"stroke:#000000; stroke-linecap:butt; stroke-linejoin:round; stroke-width:2; stroke-opacity:0.1; fill:none\" points=\"\n  2213.22,464.957 3889.76,464.957 \n  \"/>\n<polyline clip-path=\"url(#clip633)\" style=\"stroke:#000000; stroke-linecap:butt; stroke-linejoin:round; stroke-width:2; stroke-opacity:0.05; fill:none\" points=\"\n  2213.22,1667.96 3889.76,1667.96 \n  \"/>\n<polyline clip-path=\"url(#clip633)\" style=\"stroke:#000000; stroke-linecap:butt; stroke-linejoin:round; stroke-width:2; stroke-opacity:0.05; fill:none\" points=\"\n  2213.22,1604.64 3889.76,1604.64 \n  \"/>\n<polyline clip-path=\"url(#clip633)\" style=\"stroke:#000000; stroke-linecap:butt; stroke-linejoin:round; stroke-width:2; stroke-opacity:0.05; fill:none\" points=\"\n  2213.22,1541.33 3889.76,1541.33 \n  \"/>\n<polyline clip-path=\"url(#clip633)\" style=\"stroke:#000000; stroke-linecap:butt; stroke-linejoin:round; stroke-width:2; stroke-opacity:0.05; fill:none\" points=\"\n  2213.22,1478.01 3889.76,1478.01 \n  \"/>\n<polyline clip-path=\"url(#clip633)\" style=\"stroke:#000000; stroke-linecap:butt; stroke-linejoin:round; stroke-width:2; stroke-opacity:0.05; fill:none\" points=\"\n  2213.22,1351.38 3889.76,1351.38 \n  \"/>\n<polyline clip-path=\"url(#clip633)\" style=\"stroke:#000000; stroke-linecap:butt; stroke-linejoin:round; stroke-width:2; stroke-opacity:0.05; fill:none\" points=\"\n  2213.22,1288.06 3889.76,1288.06 \n  \"/>\n<polyline clip-path=\"url(#clip633)\" style=\"stroke:#000000; stroke-linecap:butt; stroke-linejoin:round; stroke-width:2; stroke-opacity:0.05; fill:none\" points=\"\n  2213.22,1224.75 3889.76,1224.75 \n  \"/>\n<polyline clip-path=\"url(#clip633)\" style=\"stroke:#000000; stroke-linecap:butt; stroke-linejoin:round; stroke-width:2; stroke-opacity:0.05; fill:none\" points=\"\n  2213.22,1161.43 3889.76,1161.43 \n  \"/>\n<polyline clip-path=\"url(#clip633)\" style=\"stroke:#000000; stroke-linecap:butt; stroke-linejoin:round; stroke-width:2; stroke-opacity:0.05; fill:none\" points=\"\n  2213.22,1034.8 3889.76,1034.8 \n  \"/>\n<polyline clip-path=\"url(#clip633)\" style=\"stroke:#000000; stroke-linecap:butt; stroke-linejoin:round; stroke-width:2; stroke-opacity:0.05; fill:none\" points=\"\n  2213.22,971.484 3889.76,971.484 \n  \"/>\n<polyline clip-path=\"url(#clip633)\" style=\"stroke:#000000; stroke-linecap:butt; stroke-linejoin:round; stroke-width:2; stroke-opacity:0.05; fill:none\" points=\"\n  2213.22,908.168 3889.76,908.168 \n  \"/>\n<polyline clip-path=\"url(#clip633)\" style=\"stroke:#000000; stroke-linecap:butt; stroke-linejoin:round; stroke-width:2; stroke-opacity:0.05; fill:none\" points=\"\n  2213.22,844.852 3889.76,844.852 \n  \"/>\n<polyline clip-path=\"url(#clip633)\" style=\"stroke:#000000; stroke-linecap:butt; stroke-linejoin:round; stroke-width:2; stroke-opacity:0.05; fill:none\" points=\"\n  2213.22,718.221 3889.76,718.221 \n  \"/>\n<polyline clip-path=\"url(#clip633)\" style=\"stroke:#000000; stroke-linecap:butt; stroke-linejoin:round; stroke-width:2; stroke-opacity:0.05; fill:none\" points=\"\n  2213.22,654.905 3889.76,654.905 \n  \"/>\n<polyline clip-path=\"url(#clip633)\" style=\"stroke:#000000; stroke-linecap:butt; stroke-linejoin:round; stroke-width:2; stroke-opacity:0.05; fill:none\" points=\"\n  2213.22,591.589 3889.76,591.589 \n  \"/>\n<polyline clip-path=\"url(#clip633)\" style=\"stroke:#000000; stroke-linecap:butt; stroke-linejoin:round; stroke-width:2; stroke-opacity:0.05; fill:none\" points=\"\n  2213.22,528.273 3889.76,528.273 \n  \"/>\n<polyline clip-path=\"url(#clip633)\" style=\"stroke:#000000; stroke-linecap:butt; stroke-linejoin:round; stroke-width:2; stroke-opacity:0.05; fill:none\" points=\"\n  2213.22,401.642 3889.76,401.642 \n  \"/>\n<polyline clip-path=\"url(#clip633)\" style=\"stroke:#000000; stroke-linecap:butt; stroke-linejoin:round; stroke-width:2; stroke-opacity:0.05; fill:none\" points=\"\n  2213.22,338.326 3889.76,338.326 \n  \"/>\n<polyline clip-path=\"url(#clip633)\" style=\"stroke:#000000; stroke-linecap:butt; stroke-linejoin:round; stroke-width:2; stroke-opacity:0.05; fill:none\" points=\"\n  2213.22,275.01 3889.76,275.01 \n  \"/>\n<polyline clip-path=\"url(#clip633)\" style=\"stroke:#000000; stroke-linecap:butt; stroke-linejoin:round; stroke-width:2; stroke-opacity:0.05; fill:none\" points=\"\n  2213.22,211.694 3889.76,211.694 \n  \"/>\n<polyline clip-path=\"url(#clip630)\" style=\"stroke:#000000; stroke-linecap:butt; stroke-linejoin:round; stroke-width:4; stroke-opacity:1; fill:none\" points=\"\n  2213.22,1776.71 2213.22,171.344 \n  \"/>\n<polyline clip-path=\"url(#clip630)\" style=\"stroke:#000000; stroke-linecap:butt; stroke-linejoin:round; stroke-width:4; stroke-opacity:1; fill:none\" points=\"\n  2213.22,1731.27 2232.12,1731.27 \n  \"/>\n<polyline clip-path=\"url(#clip630)\" style=\"stroke:#000000; stroke-linecap:butt; stroke-linejoin:round; stroke-width:4; stroke-opacity:1; fill:none\" points=\"\n  2213.22,1414.69 2232.12,1414.69 \n  \"/>\n<polyline clip-path=\"url(#clip630)\" style=\"stroke:#000000; stroke-linecap:butt; stroke-linejoin:round; stroke-width:4; stroke-opacity:1; fill:none\" points=\"\n  2213.22,1098.12 2232.12,1098.12 \n  \"/>\n<polyline clip-path=\"url(#clip630)\" style=\"stroke:#000000; stroke-linecap:butt; stroke-linejoin:round; stroke-width:4; stroke-opacity:1; fill:none\" points=\"\n  2213.22,781.536 2232.12,781.536 \n  \"/>\n<polyline clip-path=\"url(#clip630)\" style=\"stroke:#000000; stroke-linecap:butt; stroke-linejoin:round; stroke-width:4; stroke-opacity:1; fill:none\" points=\"\n  2213.22,464.957 2232.12,464.957 \n  \"/>\n<polyline clip-path=\"url(#clip630)\" style=\"stroke:#000000; stroke-linecap:butt; stroke-linejoin:round; stroke-width:4; stroke-opacity:1; fill:none\" points=\"\n  2213.22,1667.96 2222.67,1667.96 \n  \"/>\n<polyline clip-path=\"url(#clip630)\" style=\"stroke:#000000; stroke-linecap:butt; stroke-linejoin:round; stroke-width:4; stroke-opacity:1; fill:none\" points=\"\n  2213.22,1604.64 2222.67,1604.64 \n  \"/>\n<polyline clip-path=\"url(#clip630)\" style=\"stroke:#000000; stroke-linecap:butt; stroke-linejoin:round; stroke-width:4; stroke-opacity:1; fill:none\" points=\"\n  2213.22,1541.33 2222.67,1541.33 \n  \"/>\n<polyline clip-path=\"url(#clip630)\" style=\"stroke:#000000; stroke-linecap:butt; stroke-linejoin:round; stroke-width:4; stroke-opacity:1; fill:none\" points=\"\n  2213.22,1478.01 2222.67,1478.01 \n  \"/>\n<polyline clip-path=\"url(#clip630)\" style=\"stroke:#000000; stroke-linecap:butt; stroke-linejoin:round; stroke-width:4; stroke-opacity:1; fill:none\" points=\"\n  2213.22,1351.38 2222.67,1351.38 \n  \"/>\n<polyline clip-path=\"url(#clip630)\" style=\"stroke:#000000; stroke-linecap:butt; stroke-linejoin:round; stroke-width:4; stroke-opacity:1; fill:none\" points=\"\n  2213.22,1288.06 2222.67,1288.06 \n  \"/>\n<polyline clip-path=\"url(#clip630)\" style=\"stroke:#000000; stroke-linecap:butt; stroke-linejoin:round; stroke-width:4; stroke-opacity:1; fill:none\" points=\"\n  2213.22,1224.75 2222.67,1224.75 \n  \"/>\n<polyline clip-path=\"url(#clip630)\" style=\"stroke:#000000; stroke-linecap:butt; stroke-linejoin:round; stroke-width:4; stroke-opacity:1; fill:none\" points=\"\n  2213.22,1161.43 2222.67,1161.43 \n  \"/>\n<polyline clip-path=\"url(#clip630)\" style=\"stroke:#000000; stroke-linecap:butt; stroke-linejoin:round; stroke-width:4; stroke-opacity:1; fill:none\" points=\"\n  2213.22,1034.8 2222.67,1034.8 \n  \"/>\n<polyline clip-path=\"url(#clip630)\" style=\"stroke:#000000; stroke-linecap:butt; stroke-linejoin:round; stroke-width:4; stroke-opacity:1; fill:none\" points=\"\n  2213.22,971.484 2222.67,971.484 \n  \"/>\n<polyline clip-path=\"url(#clip630)\" style=\"stroke:#000000; stroke-linecap:butt; stroke-linejoin:round; stroke-width:4; stroke-opacity:1; fill:none\" points=\"\n  2213.22,908.168 2222.67,908.168 \n  \"/>\n<polyline clip-path=\"url(#clip630)\" style=\"stroke:#000000; stroke-linecap:butt; stroke-linejoin:round; stroke-width:4; stroke-opacity:1; fill:none\" points=\"\n  2213.22,844.852 2222.67,844.852 \n  \"/>\n<polyline clip-path=\"url(#clip630)\" style=\"stroke:#000000; stroke-linecap:butt; stroke-linejoin:round; stroke-width:4; stroke-opacity:1; fill:none\" points=\"\n  2213.22,718.221 2222.67,718.221 \n  \"/>\n<polyline clip-path=\"url(#clip630)\" style=\"stroke:#000000; stroke-linecap:butt; stroke-linejoin:round; stroke-width:4; stroke-opacity:1; fill:none\" points=\"\n  2213.22,654.905 2222.67,654.905 \n  \"/>\n<polyline clip-path=\"url(#clip630)\" style=\"stroke:#000000; stroke-linecap:butt; stroke-linejoin:round; stroke-width:4; stroke-opacity:1; fill:none\" points=\"\n  2213.22,591.589 2222.67,591.589 \n  \"/>\n<polyline clip-path=\"url(#clip630)\" style=\"stroke:#000000; stroke-linecap:butt; stroke-linejoin:round; stroke-width:4; stroke-opacity:1; fill:none\" points=\"\n  2213.22,528.273 2222.67,528.273 \n  \"/>\n<polyline clip-path=\"url(#clip630)\" style=\"stroke:#000000; stroke-linecap:butt; stroke-linejoin:round; stroke-width:4; stroke-opacity:1; fill:none\" points=\"\n  2213.22,401.642 2222.67,401.642 \n  \"/>\n<polyline clip-path=\"url(#clip630)\" style=\"stroke:#000000; stroke-linecap:butt; stroke-linejoin:round; stroke-width:4; stroke-opacity:1; fill:none\" points=\"\n  2213.22,338.326 2222.67,338.326 \n  \"/>\n<polyline clip-path=\"url(#clip630)\" style=\"stroke:#000000; stroke-linecap:butt; stroke-linejoin:round; stroke-width:4; stroke-opacity:1; fill:none\" points=\"\n  2213.22,275.01 2222.67,275.01 \n  \"/>\n<polyline clip-path=\"url(#clip630)\" style=\"stroke:#000000; stroke-linecap:butt; stroke-linejoin:round; stroke-width:4; stroke-opacity:1; fill:none\" points=\"\n  2213.22,211.694 2222.67,211.694 \n  \"/>\n<path clip-path=\"url(#clip630)\" d=\"M2141.27 1717.07 Q2137.66 1717.07 2135.83 1720.64 Q2134.03 1724.18 2134.03 1731.31 Q2134.03 1738.41 2135.83 1741.98 Q2137.66 1745.52 2141.27 1745.52 Q2144.91 1745.52 2146.71 1741.98 Q2148.54 1738.41 2148.54 1731.31 Q2148.54 1724.18 2146.71 1720.64 Q2144.91 1717.07 2141.27 1717.07 M2141.27 1713.37 Q2147.08 1713.37 2150.14 1717.97 Q2153.22 1722.56 2153.22 1731.31 Q2153.22 1740.03 2150.14 1744.64 Q2147.08 1749.22 2141.27 1749.22 Q2135.46 1749.22 2132.38 1744.64 Q2129.33 1740.03 2129.33 1731.31 Q2129.33 1722.56 2132.38 1717.97 Q2135.46 1713.37 2141.27 1713.37 Z\" fill=\"#000000\" fill-rule=\"evenodd\" fill-opacity=\"1\" /><path clip-path=\"url(#clip630)\" d=\"M2133.31 1428.04 L2140.95 1428.04 L2140.95 1401.67 L2132.64 1403.34 L2132.64 1399.08 L2140.9 1397.41 L2145.58 1397.41 L2145.58 1428.04 L2153.22 1428.04 L2153.22 1431.97 L2133.31 1431.97 L2133.31 1428.04 Z\" fill=\"#000000\" fill-rule=\"evenodd\" fill-opacity=\"1\" /><path clip-path=\"url(#clip630)\" d=\"M2136.9 1111.46 L2153.22 1111.46 L2153.22 1115.4 L2131.27 1115.4 L2131.27 1111.46 Q2133.94 1108.71 2138.52 1104.08 Q2143.13 1099.42 2144.31 1098.08 Q2146.55 1095.56 2147.43 1093.82 Q2148.33 1092.06 2148.33 1090.37 Q2148.33 1087.62 2146.39 1085.88 Q2144.47 1084.15 2141.37 1084.15 Q2139.17 1084.15 2136.71 1084.91 Q2134.28 1085.67 2131.5 1087.22 L2131.5 1082.5 Q2134.33 1081.37 2136.78 1080.79 Q2139.24 1080.21 2141.27 1080.21 Q2146.64 1080.21 2149.84 1082.9 Q2153.03 1085.58 2153.03 1090.07 Q2153.03 1092.2 2152.22 1094.12 Q2151.44 1096.02 2149.33 1098.61 Q2148.75 1099.28 2145.65 1102.5 Q2142.55 1105.7 2136.9 1111.46 Z\" fill=\"#000000\" fill-rule=\"evenodd\" fill-opacity=\"1\" /><path clip-path=\"url(#clip630)\" d=\"M2146.09 780.182 Q2149.44 780.9 2151.32 783.168 Q2153.22 785.437 2153.22 788.77 Q2153.22 793.886 2149.7 796.687 Q2146.18 799.488 2139.7 799.488 Q2137.52 799.488 2135.21 799.048 Q2132.92 798.631 2130.46 797.775 L2130.46 793.261 Q2132.41 794.395 2134.72 794.974 Q2137.04 795.552 2139.56 795.552 Q2143.96 795.552 2146.25 793.816 Q2148.57 792.08 2148.57 788.77 Q2148.57 785.715 2146.41 784.002 Q2144.28 782.266 2140.46 782.266 L2136.44 782.266 L2136.44 778.423 L2140.65 778.423 Q2144.1 778.423 2145.93 777.057 Q2147.75 775.668 2147.75 773.076 Q2147.75 770.414 2145.86 769.002 Q2143.98 767.567 2140.46 767.567 Q2138.54 767.567 2136.34 767.983 Q2134.14 768.4 2131.5 769.279 L2131.5 765.113 Q2134.17 764.372 2136.48 764.002 Q2138.82 763.631 2140.88 763.631 Q2146.2 763.631 2149.31 766.062 Q2152.41 768.469 2152.41 772.59 Q2152.41 775.46 2150.76 777.451 Q2149.12 779.418 2146.09 780.182 Z\" fill=\"#000000\" fill-rule=\"evenodd\" fill-opacity=\"1\" /><path clip-path=\"url(#clip630)\" d=\"M2143.63 451.752 L2131.83 470.201 L2143.63 470.201 L2143.63 451.752 M2142.41 447.677 L2148.29 447.677 L2148.29 470.201 L2153.22 470.201 L2153.22 474.089 L2148.29 474.089 L2148.29 482.237 L2143.63 482.237 L2143.63 474.089 L2128.03 474.089 L2128.03 469.576 L2142.41 447.677 Z\" fill=\"#000000\" fill-rule=\"evenodd\" fill-opacity=\"1\" /><path clip-path=\"url(#clip630)\" d=\"M2744.8 21.9397 Q2745.12 15.1747 2748.4 12.5011 Q2751.68 9.78698 2754.72 9.78698 Q2757.8 9.78698 2760.35 12.3391 Q2762.9 14.8506 2763.71 20.5219 L2757.72 21.1295 Q2757.03 15.8633 2754.72 15.8633 Q2751.85 15.8633 2751.52 22.9524 L2748.89 78.0447 Q2748.56 84.8097 2745.28 87.4833 Q2742 90.1974 2738.92 90.1974 Q2735.88 90.1974 2733.33 87.6454 Q2730.78 85.1338 2729.97 79.4625 L2735.97 78.8549 Q2736.65 84.1211 2738.96 84.1211 Q2741.84 84.1211 2742.16 77.032 L2744.8 21.9397 Z\" fill=\"#000000\" fill-rule=\"evenodd\" fill-opacity=\"1\" /><path clip-path=\"url(#clip630)\" d=\"M2799.24 9.54393 L2799.24 15.7418 L2792.11 15.7418 Q2788.1 15.7418 2786.52 17.3622 Q2784.98 18.9825 2784.98 23.1955 L2784.98 27.2059 L2797.26 27.2059 L2797.26 32.9987 L2784.98 32.9987 L2784.98 72.576 L2777.49 72.576 L2777.49 32.9987 L2770.36 32.9987 L2770.36 27.2059 L2777.49 27.2059 L2777.49 24.0462 Q2777.49 16.471 2781.01 13.0277 Q2784.54 9.54393 2792.19 9.54393 L2799.24 9.54393 Z\" fill=\"#000000\" fill-rule=\"evenodd\" fill-opacity=\"1\" /><path clip-path=\"url(#clip630)\" d=\"M2823.38 9.62495 Q2817.96 18.942 2815.32 28.0566 Q2812.69 37.1711 2812.69 46.5287 Q2812.69 55.8863 2815.32 65.0818 Q2818 74.2369 2823.38 83.5134 L2816.9 83.5134 Q2810.83 73.9938 2807.79 64.7983 Q2804.79 55.6027 2804.79 46.5287 Q2804.79 37.4952 2807.79 28.3401 Q2810.79 19.1851 2816.9 9.62495 L2823.38 9.62495 Z\" fill=\"#000000\" fill-rule=\"evenodd\" fill-opacity=\"1\" /><path clip-path=\"url(#clip630)\" d=\"M2845.22 14.324 L2845.22 27.2059 L2860.57 27.2059 L2860.57 32.9987 L2845.22 32.9987 L2845.22 57.6282 Q2845.22 63.1779 2846.72 64.7578 Q2848.26 66.3376 2852.92 66.3376 L2860.57 66.3376 L2860.57 72.576 L2852.92 72.576 Q2844.29 72.576 2841.01 69.3758 Q2837.72 66.1351 2837.72 57.6282 L2837.72 32.9987 L2832.26 32.9987 L2832.26 27.2059 L2837.72 27.2059 L2837.72 14.324 L2845.22 14.324 Z\" fill=\"#000000\" fill-rule=\"evenodd\" fill-opacity=\"1\" /><path clip-path=\"url(#clip630)\" d=\"M2901.28 12.096 L2923.28 34.6595 L2915.14 34.6595 L2897.31 18.6585 L2879.49 34.6595 L2871.35 34.6595 L2893.34 12.096 L2901.28 12.096 Z\" fill=\"#000000\" fill-rule=\"evenodd\" fill-opacity=\"1\" /><path clip-path=\"url(#clip630)\" d=\"M2942.36 65.6895 L2955.73 65.6895 L2955.73 19.5497 L2941.18 22.4663 L2941.18 15.0127 L2955.65 12.096 L2963.83 12.096 L2963.83 65.6895 L2977.2 65.6895 L2977.2 72.576 L2942.36 72.576 L2942.36 65.6895 Z\" fill=\"#000000\" fill-rule=\"evenodd\" fill-opacity=\"1\" /><path clip-path=\"url(#clip630)\" d=\"M2993.81 12.096 L3025.93 12.096 L3025.93 18.9825 L3001.3 18.9825 L3001.3 33.8088 Q3003.08 33.2012 3004.86 32.9176 Q3006.65 32.5936 3008.43 32.5936 Q3018.56 32.5936 3024.47 38.1433 Q3030.39 43.6931 3030.39 53.1722 Q3030.39 62.9348 3024.31 68.3631 Q3018.23 73.7508 3007.17 73.7508 Q3003.37 73.7508 2999.4 73.1026 Q2995.47 72.4545 2991.25 71.1582 L2991.25 62.9348 Q2994.9 64.9198 2998.79 65.892 Q3002.68 66.8642 3007.01 66.8642 Q3014.02 66.8642 3018.11 63.1779 Q3022.2 59.4916 3022.2 53.1722 Q3022.2 46.8528 3018.11 43.1664 Q3014.02 39.4801 3007.01 39.4801 Q3003.73 39.4801 3000.45 40.2093 Q2997.21 40.9384 2993.81 42.4778 L2993.81 12.096 Z\" fill=\"#000000\" fill-rule=\"evenodd\" fill-opacity=\"1\" /><path clip-path=\"url(#clip630)\" d=\"M3064.01 17.4837 Q3057.69 17.4837 3054.49 23.7221 Q3051.33 29.92 3051.33 42.3968 Q3051.33 54.833 3054.49 61.0714 Q3057.69 67.2693 3064.01 67.2693 Q3070.37 67.2693 3073.53 61.0714 Q3076.73 54.833 3076.73 42.3968 Q3076.73 29.92 3073.53 23.7221 Q3070.37 17.4837 3064.01 17.4837 M3064.01 11.0023 Q3074.18 11.0023 3079.52 19.0636 Q3084.91 27.0843 3084.91 42.3968 Q3084.91 57.6687 3079.52 65.73 Q3074.18 73.7508 3064.01 73.7508 Q3053.84 73.7508 3048.45 65.73 Q3043.11 57.6687 3043.11 42.3968 Q3043.11 27.0843 3048.45 19.0636 Q3053.84 11.0023 3064.01 11.0023 Z\" fill=\"#000000\" fill-rule=\"evenodd\" fill-opacity=\"1\" /><path clip-path=\"url(#clip630)\" d=\"M3100.14 62.2867 L3108.69 62.2867 L3108.69 69.2543 L3102.05 82.2172 L3096.82 82.2172 L3100.14 69.2543 L3100.14 62.2867 Z\" fill=\"#000000\" fill-rule=\"evenodd\" fill-opacity=\"1\" /><path clip-path=\"url(#clip630)\" d=\"M3162.32 27.2059 L3145.92 49.2833 L3163.17 72.576 L3154.38 72.576 L3141.18 54.752 L3127.97 72.576 L3119.18 72.576 L3136.8 48.8377 L3120.68 27.2059 L3129.47 27.2059 L3141.5 43.369 L3153.53 27.2059 L3162.32 27.2059 Z\" fill=\"#000000\" fill-rule=\"evenodd\" fill-opacity=\"1\" /><path clip-path=\"url(#clip630)\" d=\"M3175.61 62.2867 L3184.16 62.2867 L3184.16 69.2543 L3177.51 82.2172 L3172.29 82.2172 L3175.61 69.2543 L3175.61 62.2867 Z\" fill=\"#000000\" fill-rule=\"evenodd\" fill-opacity=\"1\" /><path clip-path=\"url(#clip630)\" d=\"M3194.73 27.2059 L3202.63 27.2059 L3216.81 65.2844 L3230.99 27.2059 L3238.89 27.2059 L3221.87 72.576 L3211.74 72.576 L3194.73 27.2059 Z\" fill=\"#000000\" fill-rule=\"evenodd\" fill-opacity=\"1\" /><path clip-path=\"url(#clip630)\" d=\"M3248 9.62495 L3254.48 9.62495 Q3260.56 19.1851 3263.56 28.3401 Q3266.59 37.4952 3266.59 46.5287 Q3266.59 55.6027 3263.56 64.7983 Q3260.56 73.9938 3254.48 83.5134 L3248 83.5134 Q3253.39 74.2369 3256.02 65.0818 Q3258.69 55.8863 3258.69 46.5287 Q3258.69 37.1711 3256.02 28.0566 Q3253.39 18.942 3248 9.62495 Z\" fill=\"#000000\" fill-rule=\"evenodd\" fill-opacity=\"1\" /><path clip-path=\"url(#clip630)\" d=\"M3311.4 34.0924 L3311.4 9.54393 L3318.85 9.54393 L3318.85 72.576 L3311.4 72.576 L3311.4 65.7705 Q3309.05 69.8214 3305.44 71.8063 Q3301.88 73.7508 3296.85 73.7508 Q3288.63 73.7508 3283.45 67.1883 Q3278.3 60.6258 3278.3 49.9314 Q3278.3 39.2371 3283.45 32.6746 Q3288.63 26.1121 3296.85 26.1121 Q3301.88 26.1121 3305.44 28.0971 Q3309.05 30.0415 3311.4 34.0924 M3286 49.9314 Q3286 58.1548 3289.36 62.8538 Q3292.76 67.5124 3298.68 67.5124 Q3304.59 67.5124 3307.99 62.8538 Q3311.4 58.1548 3311.4 49.9314 Q3311.4 41.7081 3307.99 37.0496 Q3304.59 32.3505 3298.68 32.3505 Q3292.76 32.3505 3289.36 37.0496 Q3286 41.7081 3286 49.9314 Z\" fill=\"#000000\" fill-rule=\"evenodd\" fill-opacity=\"1\" /><path clip-path=\"url(#clip630)\" d=\"M3328.86 27.2059 L3336.76 27.2059 L3350.93 65.2844 L3365.11 27.2059 L3373.01 27.2059 L3356 72.576 L3345.87 72.576 L3328.86 27.2059 Z\" fill=\"#000000\" fill-rule=\"evenodd\" fill-opacity=\"1\" /><polyline clip-path=\"url(#clip633)\" style=\"stroke:#009af9; stroke-linecap:butt; stroke-linejoin:round; stroke-width:4; stroke-opacity:1; fill:none\" points=\"\n  2260.67,1731.27 2273.02,1731.27 2285.38,1731.27 2297.74,1731.27 2310.09,1731.27 2322.45,1731.27 2334.81,1731.27 2347.16,1731.27 2359.52,1731.27 2371.88,1731.27 \n  2384.23,1731.27 2396.59,1731.27 2408.95,1731.27 2421.3,1731.27 2433.66,1731.27 2446.02,1731.27 2458.37,1731.27 2470.73,1731.27 2483.09,1731.27 2495.44,1731.27 \n  2507.8,1731.27 2520.16,1731.27 2532.51,1731.27 2544.87,1731.27 2557.23,1731.27 2569.58,1731.27 2581.94,1731.27 2594.3,1731.26 2606.65,1731.25 2619.01,1731.23 \n  2631.37,1731.19 2643.72,1731.03 2656.08,1730.9 2668.44,1730.56 2680.79,1728.98 2693.15,1721.56 2705.51,1703.73 2717.86,1690.98 2730.22,1682.89 2742.58,1678.14 \n  2754.93,1665.95 2767.29,1645.56 2779.65,1574.6 2792,1537.27 2804.36,1559.52 2816.72,1638.49 2829.07,1668.87 2841.43,1644.99 2853.78,1641.15 2866.14,1671.3 \n  2878.5,1639.66 2890.85,1559.74 2903.21,1404.47 2915.57,1230.3 2927.92,1156.26 2940.28,1152.21 2952.64,1106.77 2964.99,832.131 2977.35,610.817 2989.71,526.632 \n  3002.06,495.488 3014.42,408.605 3026.78,335.46 3039.13,286.271 3051.49,216.779 3063.85,216.779 3076.2,286.271 3088.56,335.46 3100.92,408.605 3113.27,495.488 \n  3125.63,526.632 3137.99,610.817 3150.34,832.131 3162.7,1106.77 3175.06,1152.21 3187.41,1156.26 3199.77,1230.3 3212.13,1404.47 3224.48,1559.74 3236.84,1639.66 \n  3249.2,1671.3 3261.55,1641.15 3273.91,1644.99 3286.27,1668.87 3298.62,1638.49 3310.98,1559.52 3323.34,1537.27 3335.69,1574.6 3348.05,1645.56 3360.41,1665.95 \n  3372.76,1678.14 3385.12,1682.89 3397.48,1690.98 3409.83,1703.73 3422.19,1721.56 3434.55,1728.98 3446.9,1730.56 3459.26,1730.9 3471.62,1731.03 3483.97,1731.19 \n  3496.33,1731.23 3508.69,1731.25 3521.04,1731.26 3533.4,1731.27 3545.76,1731.27 3558.11,1731.27 3570.47,1731.27 3582.83,1731.27 3595.18,1731.27 3607.54,1731.27 \n  3619.9,1731.27 3632.25,1731.27 3644.61,1731.27 3656.97,1731.27 3669.32,1731.27 3681.68,1731.27 3694.03,1731.27 3706.39,1731.27 3718.75,1731.27 3731.1,1731.27 \n  3743.46,1731.27 3755.82,1731.27 3768.17,1731.27 3780.53,1731.27 3792.89,1731.27 3805.24,1731.27 3817.6,1731.27 3829.96,1731.27 3842.31,1731.27 \n  \"/>\n<polyline clip-path=\"url(#clip633)\" style=\"stroke:#e26f46; stroke-linecap:butt; stroke-linejoin:round; stroke-width:4; stroke-opacity:1; fill:none\" stroke-dasharray=\"16, 10\" points=\"\n  2260.67,1731.27 2273.02,1731.27 2285.38,1731.27 2297.74,1731.27 2310.09,1731.27 2322.45,1731.27 2334.81,1731.27 2347.16,1731.27 2359.52,1731.27 2371.88,1731.27 \n  2384.23,1731.27 2396.59,1731.27 2408.95,1731.27 2421.3,1731.27 2433.66,1731.27 2446.02,1731.27 2458.37,1731.27 2470.73,1731.27 2483.09,1731.27 2495.44,1731.27 \n  2507.8,1731.27 2520.16,1731.27 2532.51,1731.27 2544.87,1731.27 2557.23,1731.27 2569.58,1731.27 2581.94,1731.27 2594.3,1731.26 2606.65,1731.26 2619.01,1731.22 \n  2631.37,1731.2 2643.72,1731.01 2656.08,1730.96 2668.44,1730.33 2680.79,1729.31 2693.15,1722.07 2705.51,1704.76 2717.86,1687.89 2730.22,1682.2 2742.58,1677.96 \n  2754.93,1668.99 2767.29,1652.03 2779.65,1575.15 2792,1520.46 2804.36,1576.89 2816.72,1632.32 2829.07,1651.14 2841.43,1659.92 2853.78,1659.68 2866.14,1651.16 \n  2878.5,1633.07 2890.85,1586.01 2903.21,1402.84 2915.57,1212.21 2927.92,1181.25 2940.28,1153.77 2952.64,1044.58 2964.99,871.399 2977.35,671.039 2989.71,518.244 \n  3002.06,428.119 3014.42,369.704 3026.78,324.844 3039.13,292.518 3051.49,274.215 3063.85,274.215 3076.2,292.518 3088.56,324.844 3100.92,369.704 3113.27,428.119 \n  3125.63,518.244 3137.99,671.039 3150.34,871.399 3162.7,1044.58 3175.06,1153.77 3187.41,1181.25 3199.77,1212.21 3212.13,1402.84 3224.48,1586.01 3236.84,1633.07 \n  3249.2,1651.16 3261.55,1659.68 3273.91,1659.92 3286.27,1651.14 3298.62,1632.32 3310.98,1576.89 3323.34,1520.46 3335.69,1575.15 3348.05,1652.03 3360.41,1668.99 \n  3372.76,1677.96 3385.12,1682.2 3397.48,1687.89 3409.83,1704.76 3422.19,1722.07 3434.55,1729.31 3446.9,1730.33 3459.26,1730.96 3471.62,1731.01 3483.97,1731.2 \n  3496.33,1731.22 3508.69,1731.26 3521.04,1731.26 3533.4,1731.27 3545.76,1731.27 3558.11,1731.27 3570.47,1731.27 3582.83,1731.27 3595.18,1731.27 3607.54,1731.27 \n  3619.9,1731.27 3632.25,1731.27 3644.61,1731.27 3656.97,1731.27 3669.32,1731.27 3681.68,1731.27 3694.03,1731.27 3706.39,1731.27 3718.75,1731.27 3731.1,1731.27 \n  3743.46,1731.27 3755.82,1731.27 3768.17,1731.27 3780.53,1731.27 3792.89,1731.27 3805.24,1731.27 3817.6,1731.27 3829.96,1731.27 3842.31,1731.27 \n  \"/>\n<path clip-path=\"url(#clip630)\" d=\"\nM3594.47 380.376 L3833.88 380.376 L3833.88 224.856 L3594.47 224.856  Z\n  \" fill=\"#ffffff\" fill-rule=\"evenodd\" fill-opacity=\"1\"/>\n<polyline clip-path=\"url(#clip630)\" style=\"stroke:#000000; stroke-linecap:butt; stroke-linejoin:round; stroke-width:4; stroke-opacity:1; fill:none\" points=\"\n  3594.47,380.376 3833.88,380.376 3833.88,224.856 3594.47,224.856 3594.47,380.376 \n  \"/>\n<polyline clip-path=\"url(#clip630)\" style=\"stroke:#009af9; stroke-linecap:butt; stroke-linejoin:round; stroke-width:4; stroke-opacity:1; fill:none\" points=\"\n  3613.1,276.696 3724.87,276.696 \n  \"/>\n<path clip-path=\"url(#clip630)\" d=\"M3748.17 263.259 L3748.17 276.245 L3754.05 276.245 Q3757.32 276.245 3759.1 274.555 Q3760.88 272.865 3760.88 269.74 Q3760.88 266.639 3759.1 264.949 Q3757.32 263.259 3754.05 263.259 L3748.17 263.259 M3743.5 259.416 L3754.05 259.416 Q3759.86 259.416 3762.83 262.055 Q3765.81 264.671 3765.81 269.74 Q3765.81 274.856 3762.83 277.472 Q3759.86 280.088 3754.05 280.088 L3748.17 280.088 L3748.17 293.976 L3743.5 293.976 L3743.5 259.416 Z\" fill=\"#000000\" fill-rule=\"evenodd\" fill-opacity=\"1\" /><path clip-path=\"url(#clip630)\" d=\"M3772.09 259.416 L3791.95 259.416 L3791.95 263.352 L3776.76 263.352 L3776.76 273.537 L3790.46 273.537 L3790.46 277.472 L3776.76 277.472 L3776.76 293.976 L3772.09 293.976 L3772.09 259.416 Z\" fill=\"#000000\" fill-rule=\"evenodd\" fill-opacity=\"1\" /><polyline clip-path=\"url(#clip630)\" style=\"stroke:#e26f46; stroke-linecap:butt; stroke-linejoin:round; stroke-width:4; stroke-opacity:1; fill:none\" stroke-dasharray=\"16, 10\" points=\"\n  3613.1,328.536 3724.87,328.536 \n  \"/>\n<path clip-path=\"url(#clip630)\" d=\"M3765.74 312.391 L3765.74 316.951 Q3763.08 315.678 3760.72 315.053 Q3758.36 314.428 3756.16 314.428 Q3752.34 314.428 3750.26 315.909 Q3748.2 317.391 3748.2 320.122 Q3748.2 322.414 3749.56 323.594 Q3750.95 324.752 3754.79 325.469 L3757.62 326.048 Q3762.85 327.043 3765.33 329.566 Q3767.83 332.066 3767.83 336.279 Q3767.83 341.303 3764.45 343.895 Q3761.09 346.488 3754.59 346.488 Q3752.13 346.488 3749.35 345.932 Q3746.6 345.377 3743.64 344.289 L3743.64 339.474 Q3746.48 341.071 3749.22 341.881 Q3751.95 342.691 3754.59 342.691 Q3758.59 342.691 3760.77 341.117 Q3762.94 339.543 3762.94 336.627 Q3762.94 334.08 3761.37 332.645 Q3759.82 331.21 3756.25 330.492 L3753.4 329.937 Q3748.17 328.895 3745.84 326.673 Q3743.5 324.451 3743.5 320.492 Q3743.5 315.909 3746.72 313.27 Q3749.96 310.631 3755.63 310.631 Q3758.06 310.631 3760.58 311.071 Q3763.1 311.511 3765.74 312.391 Z\" fill=\"#000000\" fill-rule=\"evenodd\" fill-opacity=\"1\" /><path clip-path=\"url(#clip630)\" d=\"M3775.12 311.256 L3779.79 311.256 L3779.79 341.881 L3796.62 341.881 L3796.62 345.816 L3775.12 345.816 L3775.12 311.256 Z\" fill=\"#000000\" fill-rule=\"evenodd\" fill-opacity=\"1\" /></svg>\n"
     },
     "execution_count": 116,
     "metadata": {},
     "output_type": "execute_result"
    }
   ],
   "source": [
    "instant = nstep\n",
    "\n",
    "valstoplot = ∫f(particles.x, particles.wei ./ vec(weights) .* meshv.step, meshx) # ∫fdv\n",
    "p1 = plot(meshx.points, valstoplot,\n",
    "            label=\"PF\", minorgrid=true)\n",
    "plot!(p1, meshx.points, vec(sum(real(gsl), dims=2)) .* meshv.step, label=\"SL\", ls=:dash)\n",
    "title!(p1, \"∫f(t^$(instant),x,v)dv\")\n",
    "xlabel!(p1, \"x\")\n",
    "\n",
    "\n",
    "valstoplot = ∫f(particles.v, particles.wei ./ vec(weights) .* meshx.step, meshv) # ∫fdv\n",
    "p2 = plot(meshv.points, valstoplot,\n",
    "            label=\"PF\", minorgrid=true)\n",
    "plot!(p2, meshv.points, vec(sum(real(gsl), dims=1)) .* meshx.step, label=\"SL\", ls=:dash)\n",
    "title!(p2, \"∫f(t^$(instant),x,v)dv\")\n",
    "xlabel!(p2, \"x\")\n",
    "\n",
    "\n",
    "plot(p1, p2, size=(1000, 500), margin=5Plots.mm)"
   ]
  },
  {
   "cell_type": "code",
   "execution_count": 66,
   "metadata": {},
   "outputs": [
    {
     "data": {
      "text/plain": [
       "Float64[]"
      ]
     },
     "execution_count": 66,
     "metadata": {},
     "output_type": "execute_result"
    }
   ],
   "source": [
    "valstoplot"
   ]
  },
  {
   "cell_type": "markdown",
   "metadata": {},
   "source": [
    "## Coupe à $x$ fixé"
   ]
  },
  {
   "cell_type": "code",
   "execution_count": null,
   "metadata": {},
   "outputs": [],
   "source": [
    "function coupe_x_fixe(posofslice, x, v, w; width=0.1)\n",
    "    proj_to_slice = []\n",
    "    for part = 1:nbparticles \n",
    "        ((x[part] < posofslice - width/2) || (x[part] > posofslice + width/2)) && continue\n",
    "        push!(proj_to_slice, part)\n",
    "    end\n",
    "    permutation = sortperm(v[proj_to_slice])\n",
    "    return v[proj_to_slice][permutation], w[proj_to_slice][permutation]\n",
    "end"
   ]
  },
  {
   "cell_type": "code",
   "execution_count": null,
   "metadata": {},
   "outputs": [],
   "source": [
    "instant = 1\n",
    "width   = 0.5\n",
    "sliceat = example.L/5\n",
    "plot(coupe_x_fixe(sliceat, resPF.historyX[:, instant], resPF.historyV[:, instant], particles.wei; width=width)..., label=\"PF\")\n",
    "title!(\"f(t=t^$(instant-1), x ± \"*@sprintf(\"%.4f\", width)*\", ⋅)\")\n",
    "xlabel!(\"v\")"
   ]
  },
  {
   "cell_type": "markdown",
   "metadata": {},
   "source": [
    "## Coupe à $v$ fixé"
   ]
  },
  {
   "cell_type": "code",
   "execution_count": null,
   "metadata": {},
   "outputs": [],
   "source": [
    "function coupe_v_fixe(posofslice, x, v, w; width=0.1)\n",
    "    proj_to_slice = []\n",
    "    for part = 1:nbparticles \n",
    "        ((v[part] < posofslice - width/2) || (v[part] > posofslice + width/2)) && continue\n",
    "        push!(proj_to_slice, part)\n",
    "    end\n",
    "    permutation = sortperm(x[proj_to_slice])\n",
    "    return x[proj_to_slice][permutation], w[proj_to_slice][permutation]\n",
    "end"
   ]
  },
  {
   "cell_type": "code",
   "execution_count": null,
   "metadata": {},
   "outputs": [],
   "source": [
    "instant = 3\n",
    "width   = 0.2\n",
    "sliceat = 0.\n",
    "plot(coupe_v_fixe(sliceat, particles.x, particles.v, particles.wei; width=width)..., label=\"PF\")\n",
    "plot!\n",
    "title!(\"f(t=t^$(instant-1), x ± \"*@sprintf(\"%.4f\", width)*\", ⋅)\")\n",
    "xlabel!(\"x\")"
   ]
  },
  {
   "cell_type": "markdown",
   "metadata": {},
   "source": [
    "# Repeated plots"
   ]
  },
  {
   "cell_type": "code",
   "execution_count": null,
   "metadata": {},
   "outputs": [],
   "source": [
    "using Printf\n",
    "\n",
    "# arr_examples = [example_landaudamping, example_stronglandaudamping, example_twostreaminstability, \n",
    "#                 example_bumpontail, example_stationarygaussian, example_nonhomogeneousstationarysolution]\n",
    "arr_examples = [example_stationarygaussian]\n",
    "arr_T = [10, 50, 101, 201, 250, 400, 500, NaN]\n",
    "\n",
    "for example = arr_examples\n",
    "    println(example.longname * \" (\" * example.shortname * \")\")\n",
    "    flush(stdout)\n",
    "\n",
    "    nstep = 1000\n",
    "    dt = 0.1\n",
    "\n",
    "    nx = 127\n",
    "    nv = 129\n",
    "\n",
    "    meshx = OneDGrid(dev, nx, 0, example.L);\n",
    "    meshv = OneDGrid(dev, nv, example.vmin, example.vmax);\n",
    "\n",
    "    quadX = RectangleRule\n",
    "    quadV = RectangleRule\n",
    "\n",
    "    quadrulex = quadX(nx, 0, example.L);\n",
    "    quadrulev = quadV(nv, example.vmin, example.vmax);\n",
    "\n",
    "    nbparticles = nx*nv\n",
    "    t = (1:nstep) .* dt\n",
    "    \n",
    "    gsl = zeros(Complex{Float64}, (nx,nv));\n",
    "    @. gsl = example.f0.(meshx.points, meshv.points');\n",
    "    resSL, animSL = solve_SL!(nstep, dt, gsl, meshx, meshv, example.kx; plotting=false);\n",
    "\n",
    "    for T = arr_T \n",
    "        println(\"T=$(@sprintf(\"%03d\", T))\")\n",
    "        flush(stdout)\n",
    "\n",
    "        x0_init = copy(vec(repeat(quadrulex.points, 1, quadrulev.len)))\n",
    "        v0_init = copy(vec(repeat(quadrulev.points', quadrulex.len, 1)))\n",
    "        x0 = copy(vec(repeat(quadrulex.points, 1, quadrulev.len)))\n",
    "        v0 = copy(vec(repeat(quadrulev.points', quadrulex.len, 1)))\n",
    "        weights = quadrulex.weights .* quadrulev.weights'\n",
    "        wei = vec(example.f0.(quadrulex.points, quadrulev.points') .* weights)\n",
    "        # println(\"PF:\")\n",
    "        # flush(stdout)\n",
    "        p = Particles(x0, v0, wei, nbparticles);\n",
    "        resPF, animPF = solve_PIC!(nstep, dt, p, meshx, example, vec(weights) ; \n",
    "                                            plotting=false, kernel=kernel_poisson!, T=T);\n",
    "\n",
    "\n",
    "\n",
    "        plot(legend=:bottomright, minorgrid=true, size=(600, 400))\n",
    "        plot!(t .+ dt, log10.(resPF.Eelec), label=L\"\\log_{10}(E_{elec, PF}),\\quad dt=\"*\"$(dt)\")\n",
    "        plot!(t, log10.(resSL.Eelec), label=L\"\\log_{10}(E_{elec, SL}),\\quad dt=\"*\"$(dt)\", ls=:dash, lw=1)\n",
    "        title!(example.shortname * \"\\n($(quadX)($(nx)), $(quadV)($(nv)))\", titlefontsize=8)\n",
    "        xlabel!(\"t (T=$(T))\")\n",
    "        \n",
    "        savefig(imgdir*\"periodic_bdy_conditions/\"*example.shortname*\"_$(nx)_$(nv)_T$(@sprintf(\"%03d\", T)).png\")\n",
    "\n",
    "        println(\"=====\")\n",
    "        flush(stdout)\n",
    "    end\n",
    "end"
   ]
  },
  {
   "cell_type": "markdown",
   "metadata": {},
   "source": [
    "# Convergence interpolation"
   ]
  },
  {
   "cell_type": "code",
   "execution_count": null,
   "metadata": {},
   "outputs": [],
   "source": [
    "# interpolation\n",
    "x0_gridinit = copy(vec(repeat(meshx.points, 1, meshv.len)))\n",
    "v0_gridinit = copy(vec(repeat(meshv.points', meshx.len, 1)))\n",
    "(newf, tri) = triangulation_interpolation(p.wei ./ vec(weights), p.x, p.v, x0_gridinit, v0_gridinit, example;  \n",
    "                                    returntriangulation=false)\n",
    "println((nx, nv, sum((newf .- vec(real(gsl))).^2) * meshx.step * meshv.step))\n",
    "plot(meshx.points, meshv.points, newf, st=:surface, camera=(0, 90), c=:jet1, right_margin=10Plots.mm)"
   ]
  },
  {
   "cell_type": "markdown",
   "metadata": {},
   "source": [
    "## Evolution de la diff en norme L2 (entre SL raffiné et PF) en fonction du nombre de particules\n",
    "\n",
    "(nx, nv, ||SL - PF||_2)\n",
    "\n",
    "(8, 16, 1.9854954055349652)\n",
    "\n",
    "(16, 32, 1.5415532148334858)\n",
    "\n",
    "(32, 64, 0.8750895981106529)\n",
    "\n",
    "(64, 128, 0.507113530637363)\n",
    "\n",
    "(128, 256, 0.4465578959127579)"
   ]
  },
  {
   "cell_type": "code",
   "execution_count": null,
   "metadata": {},
   "outputs": [],
   "source": [
    "plot(p.x, p.v, zcolor=p.wei ./ vec(weights), st=:scatter, c=:jet1, minorgrid=true)"
   ]
  },
  {
   "cell_type": "code",
   "execution_count": null,
   "metadata": {},
   "outputs": [],
   "source": []
  }
 ],
 "metadata": {
  "kernelspec": {
   "display_name": "Julia 1.7.0",
   "language": "julia",
   "name": "julia-1.7"
  },
  "language_info": {
   "file_extension": ".jl",
   "mimetype": "application/julia",
   "name": "julia",
   "version": "1.7.0"
  }
 },
 "nbformat": 4,
 "nbformat_minor": 2
}
